{
  "nbformat": 4,
  "nbformat_minor": 0,
  "metadata": {
    "colab": {
      "provenance": [],
      "authorship_tag": "ABX9TyN7i8tSH9VX1PB/5UKe+h+i",
      "include_colab_link": true
    },
    "kernelspec": {
      "name": "python3",
      "display_name": "Python 3"
    },
    "language_info": {
      "name": "python"
    }
  },
  "cells": [
    {
      "cell_type": "markdown",
      "metadata": {
        "id": "view-in-github",
        "colab_type": "text"
      },
      "source": [
        "<a href=\"https://colab.research.google.com/github/alfazick/GenerativeAI/blob/main/Spacy_Linguistic_Features.ipynb\" target=\"_parent\"><img src=\"https://colab.research.google.com/assets/colab-badge.svg\" alt=\"Open In Colab\"/></a>"
      ]
    },
    {
      "cell_type": "code",
      "execution_count": 39,
      "metadata": {
        "colab": {
          "base_uri": "https://localhost:8080/"
        },
        "id": "M9dxrPbyy2-b",
        "outputId": "4dbe43a1-bc96-4aa5-d2ab-d80dcc451dfe"
      },
      "outputs": [
        {
          "output_type": "stream",
          "name": "stdout",
          "text": [
            "Collecting en-core-web-md==3.7.1\n",
            "  Downloading https://github.com/explosion/spacy-models/releases/download/en_core_web_md-3.7.1/en_core_web_md-3.7.1-py3-none-any.whl (42.8 MB)\n",
            "\u001b[2K     \u001b[90m━━━━━━━━━━━━━━━━━━━━━━━━━━━━━━━━━━━━━━━━\u001b[0m \u001b[32m42.8/42.8 MB\u001b[0m \u001b[31m16.7 MB/s\u001b[0m eta \u001b[36m0:00:00\u001b[0m\n",
            "\u001b[?25hRequirement already satisfied: spacy<3.8.0,>=3.7.2 in /usr/local/lib/python3.10/dist-packages (from en-core-web-md==3.7.1) (3.7.4)\n",
            "Requirement already satisfied: spacy-legacy<3.1.0,>=3.0.11 in /usr/local/lib/python3.10/dist-packages (from spacy<3.8.0,>=3.7.2->en-core-web-md==3.7.1) (3.0.12)\n",
            "Requirement already satisfied: spacy-loggers<2.0.0,>=1.0.0 in /usr/local/lib/python3.10/dist-packages (from spacy<3.8.0,>=3.7.2->en-core-web-md==3.7.1) (1.0.5)\n",
            "Requirement already satisfied: murmurhash<1.1.0,>=0.28.0 in /usr/local/lib/python3.10/dist-packages (from spacy<3.8.0,>=3.7.2->en-core-web-md==3.7.1) (1.0.10)\n",
            "Requirement already satisfied: cymem<2.1.0,>=2.0.2 in /usr/local/lib/python3.10/dist-packages (from spacy<3.8.0,>=3.7.2->en-core-web-md==3.7.1) (2.0.8)\n",
            "Requirement already satisfied: preshed<3.1.0,>=3.0.2 in /usr/local/lib/python3.10/dist-packages (from spacy<3.8.0,>=3.7.2->en-core-web-md==3.7.1) (3.0.9)\n",
            "Requirement already satisfied: thinc<8.3.0,>=8.2.2 in /usr/local/lib/python3.10/dist-packages (from spacy<3.8.0,>=3.7.2->en-core-web-md==3.7.1) (8.2.3)\n",
            "Requirement already satisfied: wasabi<1.2.0,>=0.9.1 in /usr/local/lib/python3.10/dist-packages (from spacy<3.8.0,>=3.7.2->en-core-web-md==3.7.1) (1.1.2)\n",
            "Requirement already satisfied: srsly<3.0.0,>=2.4.3 in /usr/local/lib/python3.10/dist-packages (from spacy<3.8.0,>=3.7.2->en-core-web-md==3.7.1) (2.4.8)\n",
            "Requirement already satisfied: catalogue<2.1.0,>=2.0.6 in /usr/local/lib/python3.10/dist-packages (from spacy<3.8.0,>=3.7.2->en-core-web-md==3.7.1) (2.0.10)\n",
            "Requirement already satisfied: weasel<0.4.0,>=0.1.0 in /usr/local/lib/python3.10/dist-packages (from spacy<3.8.0,>=3.7.2->en-core-web-md==3.7.1) (0.3.4)\n",
            "Requirement already satisfied: typer<0.10.0,>=0.3.0 in /usr/local/lib/python3.10/dist-packages (from spacy<3.8.0,>=3.7.2->en-core-web-md==3.7.1) (0.9.0)\n",
            "Requirement already satisfied: smart-open<7.0.0,>=5.2.1 in /usr/local/lib/python3.10/dist-packages (from spacy<3.8.0,>=3.7.2->en-core-web-md==3.7.1) (6.4.0)\n",
            "Requirement already satisfied: tqdm<5.0.0,>=4.38.0 in /usr/local/lib/python3.10/dist-packages (from spacy<3.8.0,>=3.7.2->en-core-web-md==3.7.1) (4.66.2)\n",
            "Requirement already satisfied: requests<3.0.0,>=2.13.0 in /usr/local/lib/python3.10/dist-packages (from spacy<3.8.0,>=3.7.2->en-core-web-md==3.7.1) (2.31.0)\n",
            "Requirement already satisfied: pydantic!=1.8,!=1.8.1,<3.0.0,>=1.7.4 in /usr/local/lib/python3.10/dist-packages (from spacy<3.8.0,>=3.7.2->en-core-web-md==3.7.1) (2.6.3)\n",
            "Requirement already satisfied: jinja2 in /usr/local/lib/python3.10/dist-packages (from spacy<3.8.0,>=3.7.2->en-core-web-md==3.7.1) (3.1.3)\n",
            "Requirement already satisfied: setuptools in /usr/local/lib/python3.10/dist-packages (from spacy<3.8.0,>=3.7.2->en-core-web-md==3.7.1) (67.7.2)\n",
            "Requirement already satisfied: packaging>=20.0 in /usr/local/lib/python3.10/dist-packages (from spacy<3.8.0,>=3.7.2->en-core-web-md==3.7.1) (23.2)\n",
            "Requirement already satisfied: langcodes<4.0.0,>=3.2.0 in /usr/local/lib/python3.10/dist-packages (from spacy<3.8.0,>=3.7.2->en-core-web-md==3.7.1) (3.3.0)\n",
            "Requirement already satisfied: numpy>=1.19.0 in /usr/local/lib/python3.10/dist-packages (from spacy<3.8.0,>=3.7.2->en-core-web-md==3.7.1) (1.25.2)\n",
            "Requirement already satisfied: annotated-types>=0.4.0 in /usr/local/lib/python3.10/dist-packages (from pydantic!=1.8,!=1.8.1,<3.0.0,>=1.7.4->spacy<3.8.0,>=3.7.2->en-core-web-md==3.7.1) (0.6.0)\n",
            "Requirement already satisfied: pydantic-core==2.16.3 in /usr/local/lib/python3.10/dist-packages (from pydantic!=1.8,!=1.8.1,<3.0.0,>=1.7.4->spacy<3.8.0,>=3.7.2->en-core-web-md==3.7.1) (2.16.3)\n",
            "Requirement already satisfied: typing-extensions>=4.6.1 in /usr/local/lib/python3.10/dist-packages (from pydantic!=1.8,!=1.8.1,<3.0.0,>=1.7.4->spacy<3.8.0,>=3.7.2->en-core-web-md==3.7.1) (4.10.0)\n",
            "Requirement already satisfied: charset-normalizer<4,>=2 in /usr/local/lib/python3.10/dist-packages (from requests<3.0.0,>=2.13.0->spacy<3.8.0,>=3.7.2->en-core-web-md==3.7.1) (3.3.2)\n",
            "Requirement already satisfied: idna<4,>=2.5 in /usr/local/lib/python3.10/dist-packages (from requests<3.0.0,>=2.13.0->spacy<3.8.0,>=3.7.2->en-core-web-md==3.7.1) (3.6)\n",
            "Requirement already satisfied: urllib3<3,>=1.21.1 in /usr/local/lib/python3.10/dist-packages (from requests<3.0.0,>=2.13.0->spacy<3.8.0,>=3.7.2->en-core-web-md==3.7.1) (2.0.7)\n",
            "Requirement already satisfied: certifi>=2017.4.17 in /usr/local/lib/python3.10/dist-packages (from requests<3.0.0,>=2.13.0->spacy<3.8.0,>=3.7.2->en-core-web-md==3.7.1) (2024.2.2)\n",
            "Requirement already satisfied: blis<0.8.0,>=0.7.8 in /usr/local/lib/python3.10/dist-packages (from thinc<8.3.0,>=8.2.2->spacy<3.8.0,>=3.7.2->en-core-web-md==3.7.1) (0.7.11)\n",
            "Requirement already satisfied: confection<1.0.0,>=0.0.1 in /usr/local/lib/python3.10/dist-packages (from thinc<8.3.0,>=8.2.2->spacy<3.8.0,>=3.7.2->en-core-web-md==3.7.1) (0.1.4)\n",
            "Requirement already satisfied: click<9.0.0,>=7.1.1 in /usr/local/lib/python3.10/dist-packages (from typer<0.10.0,>=0.3.0->spacy<3.8.0,>=3.7.2->en-core-web-md==3.7.1) (8.1.7)\n",
            "Requirement already satisfied: cloudpathlib<0.17.0,>=0.7.0 in /usr/local/lib/python3.10/dist-packages (from weasel<0.4.0,>=0.1.0->spacy<3.8.0,>=3.7.2->en-core-web-md==3.7.1) (0.16.0)\n",
            "Requirement already satisfied: MarkupSafe>=2.0 in /usr/local/lib/python3.10/dist-packages (from jinja2->spacy<3.8.0,>=3.7.2->en-core-web-md==3.7.1) (2.1.5)\n",
            "\u001b[38;5;2m✔ Download and installation successful\u001b[0m\n",
            "You can now load the package via spacy.load('en_core_web_md')\n",
            "\u001b[38;5;3m⚠ Restart to reload dependencies\u001b[0m\n",
            "If you are in a Jupyter or Colab notebook, you may need to restart Python in\n",
            "order to load all the package's dependencies. You can do this by selecting the\n",
            "'Restart kernel' or 'Restart runtime' option.\n"
          ]
        }
      ],
      "source": [
        "# key ideas\n",
        "# -> part of speech (POS) tagger,\n",
        "# -> dependency parser\n",
        "# -> named entity recognizer\n",
        "# -> merging/ splitting features\n",
        "\n",
        "# ? how to place POS tags into your natural language understading(NLU) applications\n",
        "\n",
        "# how to extract information from the text using NER(named entity recognition)\n",
        "\n",
        "!python -m spacy download en_core_web_md\n"
      ]
    },
    {
      "cell_type": "code",
      "source": [
        "import spacy\n",
        "\n",
        "nlp = spacy.load(\"en_core_web_md\")\n",
        "\n",
        "# Topic: Part of Speech (POS) tagger\n"
      ],
      "metadata": {
        "id": "EqmxgUVr3XVc"
      },
      "execution_count": 40,
      "outputs": []
    },
    {
      "cell_type": "code",
      "source": [
        "print(spacy.explain(\"NNS\"))\n",
        "\n",
        "doc = nlp(\"I saw flowers.\")\n",
        "token = doc[2]\n",
        "print(token.text, token.tag_, spacy.explain(token.tag_))"
      ],
      "metadata": {
        "colab": {
          "base_uri": "https://localhost:8080/"
        },
        "id": "P4p8ftKd3xbP",
        "outputId": "60f3a274-f2cd-49af-80b3-1062688b2ab8"
      },
      "execution_count": 41,
      "outputs": [
        {
          "output_type": "stream",
          "name": "stdout",
          "text": [
            "noun, plural\n",
            "flowers NNS noun, plural\n"
          ]
        }
      ]
    },
    {
      "cell_type": "code",
      "source": [
        "nlp = spacy.load(\"en_core_web_md\")\n",
        "\n",
        "doc = nlp(\"1823 Villa Linda Ave\")\n",
        "for token in doc:\n",
        "    print(f\"{token.text} | , {token.pos_} |, {token.tag_} | , {spacy.explain(token.pos_)} | , {spacy.explain(token.tag_)}\")"
      ],
      "metadata": {
        "colab": {
          "base_uri": "https://localhost:8080/"
        },
        "id": "jZ1C11yR4n90",
        "outputId": "312a1643-d888-41d2-eb2d-39b2534d5b39"
      },
      "execution_count": 42,
      "outputs": [
        {
          "output_type": "stream",
          "name": "stdout",
          "text": [
            "1823 | , NUM |, CD | , numeral | , cardinal number\n",
            "Villa | , PROPN |, NNP | , proper noun | , noun, proper singular\n",
            "Linda | , PROPN |, NNP | , proper noun | , noun, proper singular\n",
            "Ave | , PROPN |, NNP | , proper noun | , noun, proper singular\n"
          ]
        }
      ]
    },
    {
      "cell_type": "code",
      "source": [
        "print(spacy.explain(\"CD\"))\n",
        "print(spacy.explain(\"NNP\"))\n",
        "\n"
      ],
      "metadata": {
        "colab": {
          "base_uri": "https://localhost:8080/"
        },
        "id": "X3uY12PF471X",
        "outputId": "e3ff5bf3-ce73-4049-c684-9a69fd0517e0"
      },
      "execution_count": 43,
      "outputs": [
        {
          "output_type": "stream",
          "name": "stdout",
          "text": [
            "cardinal number\n",
            "noun, proper singular\n"
          ]
        }
      ]
    },
    {
      "cell_type": "code",
      "source": [
        "import warnings\n",
        "warnings.filterwarnings(\"ignore\")\n",
        "\n",
        "def show_sentence(doc):\n",
        "    for token in doc:\n",
        "        print(f\"{token.text} | , {token.pos_} |, {token.tag_} | , {spacy.explain(token.pos_)} | , {spacy.explain(token.tag_)}\")\n",
        "\n",
        "\n",
        "show_sentence(nlp(\"Can we meet at University Dr 500\"))"
      ],
      "metadata": {
        "colab": {
          "base_uri": "https://localhost:8080/"
        },
        "id": "gb68V6Dr5eBs",
        "outputId": "7993f2d4-e098-4728-9db3-41d2575887fa"
      },
      "execution_count": 44,
      "outputs": [
        {
          "output_type": "stream",
          "name": "stdout",
          "text": [
            "Can | , AUX |, MD | , auxiliary | , verb, modal auxiliary\n",
            "we | , PRON |, PRP | , pronoun | , pronoun, personal\n",
            "meet | , VERB |, VB | , verb | , verb, base form\n",
            "at | , ADP |, IN | , adposition | , conjunction, subordinating or preposition\n",
            "University | , PROPN |, NNP | , proper noun | , noun, proper singular\n",
            "Dr | , PROPN |, NNP | , proper noun | , noun, proper singular\n",
            "500 | , NUM |, CD | , numeral | , cardinal number\n"
          ]
        }
      ]
    },
    {
      "cell_type": "code",
      "source": [
        "\n",
        "show_sentence(nlp(\"Can we meet at University Dr five hundred\")) # observation: typed numbers are recognized"
      ],
      "metadata": {
        "colab": {
          "base_uri": "https://localhost:8080/"
        },
        "id": "jbAhUS4j6DbG",
        "outputId": "005a1ba4-d69b-4ee6-e9d9-d5d761bb1797"
      },
      "execution_count": 45,
      "outputs": [
        {
          "output_type": "stream",
          "name": "stdout",
          "text": [
            "Can | , AUX |, MD | , auxiliary | , verb, modal auxiliary\n",
            "we | , PRON |, PRP | , pronoun | , pronoun, personal\n",
            "meet | , VERB |, VB | , verb | , verb, base form\n",
            "at | , ADP |, IN | , adposition | , conjunction, subordinating or preposition\n",
            "University | , PROPN |, NNP | , proper noun | , noun, proper singular\n",
            "Dr | , PROPN |, NNP | , proper noun | , noun, proper singular\n",
            "five | , NUM |, CD | , numeral | , cardinal number\n",
            "hundred | , NUM |, CD | , numeral | , cardinal number\n"
          ]
        }
      ]
    },
    {
      "cell_type": "code",
      "source": [
        "\n",
        "show_sentence(nlp(\"My friend will fly to New York fast and she is staying there for 3 days.\"))"
      ],
      "metadata": {
        "colab": {
          "base_uri": "https://localhost:8080/"
        },
        "id": "YuCSMtWX6LDC",
        "outputId": "a4833fd8-a35b-4329-cee8-e166ba486e32"
      },
      "execution_count": 46,
      "outputs": [
        {
          "output_type": "stream",
          "name": "stdout",
          "text": [
            "My | , PRON |, PRP$ | , pronoun | , pronoun, possessive\n",
            "friend | , NOUN |, NN | , noun | , noun, singular or mass\n",
            "will | , AUX |, MD | , auxiliary | , verb, modal auxiliary\n",
            "fly | , VERB |, VB | , verb | , verb, base form\n",
            "to | , ADP |, IN | , adposition | , conjunction, subordinating or preposition\n",
            "New | , PROPN |, NNP | , proper noun | , noun, proper singular\n",
            "York | , PROPN |, NNP | , proper noun | , noun, proper singular\n",
            "fast | , ADV |, RB | , adverb | , adverb\n",
            "and | , CCONJ |, CC | , coordinating conjunction | , conjunction, coordinating\n",
            "she | , PRON |, PRP | , pronoun | , pronoun, personal\n",
            "is | , AUX |, VBZ | , auxiliary | , verb, 3rd person singular present\n",
            "staying | , VERB |, VBG | , verb | , verb, gerund or present participle\n",
            "there | , ADV |, RB | , adverb | , adverb\n",
            "for | , ADP |, IN | , adposition | , conjunction, subordinating or preposition\n",
            "3 | , NUM |, CD | , numeral | , cardinal number\n",
            "days | , NOUN |, NNS | , noun | , noun, plural\n",
            ". | , PUNCT |, . | , punctuation | , punctuation mark, sentence closer\n"
          ]
        }
      ]
    },
    {
      "cell_type": "code",
      "source": [
        "# If a proper noun consists of multiple tokens, all tokens admit the tag NNP!!!"
      ],
      "metadata": {
        "id": "B6kRTo146ZdC"
      },
      "execution_count": 47,
      "outputs": []
    },
    {
      "cell_type": "code",
      "source": [
        "doc = nlp(\"I will ship the package to Main Str.\")\n",
        "show_sentence(doc)"
      ],
      "metadata": {
        "colab": {
          "base_uri": "https://localhost:8080/"
        },
        "id": "eJfDe7ua6nzu",
        "outputId": "afd0cdeb-2967-45a8-a692-7daf709f8091"
      },
      "execution_count": 48,
      "outputs": [
        {
          "output_type": "stream",
          "name": "stdout",
          "text": [
            "I | , PRON |, PRP | , pronoun | , pronoun, personal\n",
            "will | , AUX |, MD | , auxiliary | , verb, modal auxiliary\n",
            "ship | , VERB |, VB | , verb | , verb, base form\n",
            "the | , DET |, DT | , determiner | , determiner\n",
            "package | , NOUN |, NN | , noun | , noun, singular or mass\n",
            "to | , ADP |, IN | , adposition | , conjunction, subordinating or preposition\n",
            "Main | , PROPN |, NNP | , proper noun | , noun, proper singular\n",
            "Str | , PROPN |, NNPS | , proper noun | , noun, proper plural\n",
            ". | , PUNCT |, . | , punctuation | , punctuation mark, sentence closer\n"
          ]
        }
      ]
    },
    {
      "cell_type": "code",
      "source": [
        "spacy.explain(\"NNPS\")"
      ],
      "metadata": {
        "colab": {
          "base_uri": "https://localhost:8080/",
          "height": 35
        },
        "id": "Fh_diDL461Ab",
        "outputId": "3a350b17-8168-4b2f-f0b4-c3b3ad4af2ea"
      },
      "execution_count": 49,
      "outputs": [
        {
          "output_type": "execute_result",
          "data": {
            "text/plain": [
              "'noun, proper plural'"
            ],
            "application/vnd.google.colaboratory.intrinsic+json": {
              "type": "string"
            }
          },
          "metadata": {},
          "execution_count": 49
        }
      ]
    },
    {
      "cell_type": "code",
      "source": [
        "show_sentence(nlp(\"I saw a red ship\"))"
      ],
      "metadata": {
        "colab": {
          "base_uri": "https://localhost:8080/"
        },
        "id": "DFuVLEbx6_tz",
        "outputId": "f448c761-1bba-4cf7-98b6-e9dc1c3fe49d"
      },
      "execution_count": 50,
      "outputs": [
        {
          "output_type": "stream",
          "name": "stdout",
          "text": [
            "I | , PRON |, PRP | , pronoun | , pronoun, personal\n",
            "saw | , VERB |, VBD | , verb | , verb, past tense\n",
            "a | , DET |, DT | , determiner | , determiner\n",
            "red | , ADJ |, JJ | , adjective | , adjective (English), other noun-modifier (Chinese)\n",
            "ship | , NOUN |, NN | , noun | , noun, singular or mass\n"
          ]
        }
      ]
    },
    {
      "cell_type": "code",
      "source": [],
      "metadata": {
        "id": "nCl4hl4F7JaP"
      },
      "execution_count": 50,
      "outputs": []
    },
    {
      "cell_type": "code",
      "source": [
        "show_sentence(nlp(\"I saw a red str\"))"
      ],
      "metadata": {
        "colab": {
          "base_uri": "https://localhost:8080/"
        },
        "outputId": "8fb44641-3e4b-4e9d-95d5-42a45179a382",
        "id": "ND9bdLRw7MiE"
      },
      "execution_count": 51,
      "outputs": [
        {
          "output_type": "stream",
          "name": "stdout",
          "text": [
            "I | , PRON |, PRP | , pronoun | , pronoun, personal\n",
            "saw | , VERB |, VBD | , verb | , verb, past tense\n",
            "a | , DET |, DT | , determiner | , determiner\n",
            "red | , PROPN |, NNP | , proper noun | , noun, proper singular\n",
            "str | , PROPN |, NNP | , proper noun | , noun, proper singular\n"
          ]
        }
      ]
    },
    {
      "cell_type": "code",
      "source": [
        "# observation that a \"red ship\" (red is recognized as adjective) but in a \"red str\" is recognized as NNP"
      ],
      "metadata": {
        "id": "JRzjJ-ed7OA1"
      },
      "execution_count": 52,
      "outputs": []
    },
    {
      "cell_type": "code",
      "source": [],
      "metadata": {
        "id": "joRY29XT7oOg"
      },
      "execution_count": 52,
      "outputs": []
    },
    {
      "cell_type": "code",
      "source": [
        "show_sentence(nlp(\"I saw a red ave\")) # as well as here NNP"
      ],
      "metadata": {
        "colab": {
          "base_uri": "https://localhost:8080/"
        },
        "outputId": "c6720db5-3f48-41fd-cd3a-04e5535accc7",
        "id": "H6obD-dt7uer"
      },
      "execution_count": 53,
      "outputs": [
        {
          "output_type": "stream",
          "name": "stdout",
          "text": [
            "I | , PRON |, PRP | , pronoun | , pronoun, personal\n",
            "saw | , VERB |, VBD | , verb | , verb, past tense\n",
            "a | , DET |, DT | , determiner | , determiner\n",
            "red | , PROPN |, NNP | , proper noun | , noun, proper singular\n",
            "ave | , PROPN |, NNP | , proper noun | , noun, proper singular\n"
          ]
        }
      ]
    },
    {
      "cell_type": "code",
      "source": [
        "show_sentence(nlp(\"My main thing to do tomorrow is to reach main street\"))\n",
        "# ok here it's seems confused main(adjective) vs main street"
      ],
      "metadata": {
        "colab": {
          "base_uri": "https://localhost:8080/"
        },
        "id": "p3JMoq9-7v3Q",
        "outputId": "6f191bae-0f1c-4e5f-8e30-cfd7f643555a"
      },
      "execution_count": 54,
      "outputs": [
        {
          "output_type": "stream",
          "name": "stdout",
          "text": [
            "My | , PRON |, PRP$ | , pronoun | , pronoun, possessive\n",
            "main | , ADJ |, JJ | , adjective | , adjective (English), other noun-modifier (Chinese)\n",
            "thing | , NOUN |, NN | , noun | , noun, singular or mass\n",
            "to | , PART |, TO | , particle | , infinitival \"to\"\n",
            "do | , VERB |, VB | , verb | , verb, base form\n",
            "tomorrow | , NOUN |, NN | , noun | , noun, singular or mass\n",
            "is | , AUX |, VBZ | , auxiliary | , verb, 3rd person singular present\n",
            "to | , PART |, TO | , particle | , infinitival \"to\"\n",
            "reach | , VERB |, VB | , verb | , verb, base form\n",
            "main | , ADJ |, JJ | , adjective | , adjective (English), other noun-modifier (Chinese)\n",
            "street | , NOUN |, NN | , noun | , noun, singular or mass\n"
          ]
        }
      ]
    },
    {
      "cell_type": "code",
      "source": [
        "\n"
      ],
      "metadata": {
        "id": "BzG_SZlk8RcV"
      },
      "execution_count": 54,
      "outputs": []
    },
    {
      "cell_type": "code",
      "source": [
        "show_sentence(nlp(\"My main thing to do tomorrow is to reach Main street\"))\n",
        "# Observation: ok here after capitalizing Main, it changed to NNP, capitalization of street names is relevant"
      ],
      "metadata": {
        "colab": {
          "base_uri": "https://localhost:8080/"
        },
        "outputId": "58ada647-cd00-4d61-b864-fac34cbf31af",
        "id": "vTho6rZ48gR7"
      },
      "execution_count": 55,
      "outputs": [
        {
          "output_type": "stream",
          "name": "stdout",
          "text": [
            "My | , PRON |, PRP$ | , pronoun | , pronoun, possessive\n",
            "main | , ADJ |, JJ | , adjective | , adjective (English), other noun-modifier (Chinese)\n",
            "thing | , NOUN |, NN | , noun | , noun, singular or mass\n",
            "to | , PART |, TO | , particle | , infinitival \"to\"\n",
            "do | , VERB |, VB | , verb | , verb, base form\n",
            "tomorrow | , NOUN |, NN | , noun | , noun, singular or mass\n",
            "is | , AUX |, VBZ | , auxiliary | , verb, 3rd person singular present\n",
            "to | , PART |, TO | , particle | , infinitival \"to\"\n",
            "reach | , VERB |, VB | , verb | , verb, base form\n",
            "Main | , PROPN |, NNP | , proper noun | , noun, proper singular\n",
            "street | , NOUN |, NN | , noun | , noun, singular or mass\n"
          ]
        }
      ]
    },
    {
      "cell_type": "code",
      "source": [
        "# Syntactic information may be relevant for NLU tasks, Play POS tricks"
      ],
      "metadata": {
        "id": "_ObvSE0_8heb"
      },
      "execution_count": 56,
      "outputs": []
    },
    {
      "cell_type": "code",
      "source": [
        "# Words-Sense-Disambiguation (WSD problem)\n",
        "sent1 = \"I flew to Rome.\"\n",
        "sent2 = \"I'm flying to Rome.\"\n",
        "sent3 = \"I will fly to Rome.\"\n",
        "doc1 = nlp(sent1)\n",
        "doc2 = nlp(sent2)\n",
        "doc3 = nlp(sent3)\n",
        "for doc in [doc1, doc2, doc3]:\n",
        "  print([(w.text, w.lemma_) for w in doc if w.tag_== 'VBG' or w.tag_== 'VB'])\n",
        "\n",
        "# fine-grained tag of the token is VBG (a verb in present progressive form) or VB (a verb in base/ infinitive form)"
      ],
      "metadata": {
        "colab": {
          "base_uri": "https://localhost:8080/"
        },
        "id": "Z2rDDjTa9LOF",
        "outputId": "50fba39c-8ced-4283-9136-eaf15e4233a5"
      },
      "execution_count": 57,
      "outputs": [
        {
          "output_type": "stream",
          "name": "stdout",
          "text": [
            "[]\n",
            "[('flying', 'fly')]\n",
            "[('fly', 'fly')]\n"
          ]
        }
      ]
    },
    {
      "cell_type": "code",
      "source": [
        "sent = \"flying to Denver\"\n",
        "doc = nlp(sent)\n",
        "for token in doc:\n",
        "    print(token.text, token.lemma_, token.tag_)"
      ],
      "metadata": {
        "colab": {
          "base_uri": "https://localhost:8080/"
        },
        "id": "fc3e0PLJ-dd1",
        "outputId": "2723d9de-36fc-4e82-b81f-3f45776a758f"
      },
      "execution_count": 58,
      "outputs": [
        {
          "output_type": "stream",
          "name": "stdout",
          "text": [
            "flying fly VBG\n",
            "to to IN\n",
            "Denver Denver NNP\n"
          ]
        }
      ]
    },
    {
      "cell_type": "code",
      "source": [
        "doc = nlp(\"He earned $5.5 million in 2020 and paid %35 tax.\")\n",
        "for token in doc:\n",
        "    print(token.text, token.tag_, spacy.explain(token.tag_))"
      ],
      "metadata": {
        "colab": {
          "base_uri": "https://localhost:8080/"
        },
        "id": "1qXKjHlT-tT-",
        "outputId": "6a2f2edf-420d-4bc8-d20c-7581a17c7b39"
      },
      "execution_count": 59,
      "outputs": [
        {
          "output_type": "stream",
          "name": "stdout",
          "text": [
            "He PRP pronoun, personal\n",
            "earned VBD verb, past tense\n",
            "$ $ symbol, currency\n",
            "5.5 CD cardinal number\n",
            "million CD cardinal number\n",
            "in IN conjunction, subordinating or preposition\n",
            "2020 CD cardinal number\n",
            "and CC conjunction, coordinating\n",
            "paid VBD verb, past tense\n",
            "% NN noun, singular or mass\n",
            "35 CD cardinal number\n",
            "tax NN noun, singular or mass\n",
            ". . punctuation mark, sentence closer\n"
          ]
        }
      ]
    },
    {
      "cell_type": "code",
      "source": [
        "# Topic: Dependency Parsing\n",
        "doc = nlp(\"blue flower\")\n",
        "for token in doc:\n",
        "  print(token.text, token.dep_) # _dep"
      ],
      "metadata": {
        "colab": {
          "base_uri": "https://localhost:8080/"
        },
        "id": "nC1RUXDy_AyO",
        "outputId": "6484a776-1528-4683-e36e-c76fc878fb65"
      },
      "execution_count": 60,
      "outputs": [
        {
          "output_type": "stream",
          "name": "stdout",
          "text": [
            "blue amod\n",
            "flower ROOT\n"
          ]
        }
      ]
    },
    {
      "cell_type": "code",
      "source": [
        "doc = nlp(\"University Dr\")\n",
        "for token in doc:\n",
        "  print(token.text, token.dep_) # _dep"
      ],
      "metadata": {
        "colab": {
          "base_uri": "https://localhost:8080/"
        },
        "id": "WhKXhdOc_tbe",
        "outputId": "f93b189c-cd6e-4cf1-adf8-ba961a2cfe02"
      },
      "execution_count": 61,
      "outputs": [
        {
          "output_type": "stream",
          "name": "stdout",
          "text": [
            "University compound\n",
            "Dr ROOT\n"
          ]
        }
      ]
    },
    {
      "cell_type": "code",
      "source": [
        "doc = nlp(\"Villa Linda Ave\")\n",
        "for token in doc:\n",
        "  print(token.text, token.dep_) # _dep"
      ],
      "metadata": {
        "colab": {
          "base_uri": "https://localhost:8080/"
        },
        "id": "Vl_ztVAY_70N",
        "outputId": "35993231-d282-419b-ce96-057ac00a913b"
      },
      "execution_count": 62,
      "outputs": [
        {
          "output_type": "stream",
          "name": "stdout",
          "text": [
            "Villa compound\n",
            "Linda compound\n",
            "Ave ROOT\n"
          ]
        }
      ]
    },
    {
      "cell_type": "code",
      "source": [
        "doc = nlp(\"Main Street\")\n",
        "for token in doc:\n",
        "  print(token.text, token.dep_) # _dep"
      ],
      "metadata": {
        "colab": {
          "base_uri": "https://localhost:8080/"
        },
        "id": "M1ohInlhAAwn",
        "outputId": "fb5fecb4-9fb8-4af8-befd-648c78ff999e"
      },
      "execution_count": 63,
      "outputs": [
        {
          "output_type": "stream",
          "name": "stdout",
          "text": [
            "Main compound\n",
            "Street ROOT\n"
          ]
        }
      ]
    },
    {
      "cell_type": "code",
      "source": [
        "doc = nlp(\"University Drive\")\n",
        "for token in doc:\n",
        "  print(token.text, token.dep_) # _dep"
      ],
      "metadata": {
        "colab": {
          "base_uri": "https://localhost:8080/"
        },
        "id": "w2-ALAS9AJa-",
        "outputId": "9d0a7eeb-7a40-46e9-b991-aac3f3f7b3e6"
      },
      "execution_count": 64,
      "outputs": [
        {
          "output_type": "stream",
          "name": "stdout",
          "text": [
            "University compound\n",
            "Drive ROOT\n"
          ]
        }
      ]
    },
    {
      "cell_type": "code",
      "source": [
        "doc = nlp(\"There are 3 books\")\n",
        "for token in doc:\n",
        "  print(token.text, token.dep_) # _dep"
      ],
      "metadata": {
        "colab": {
          "base_uri": "https://localhost:8080/"
        },
        "id": "TggysJ5cAO78",
        "outputId": "2ef006bb-0ac8-4c6d-ccf1-89ab3d4c3fe6"
      },
      "execution_count": 65,
      "outputs": [
        {
          "output_type": "stream",
          "name": "stdout",
          "text": [
            "There expl\n",
            "are ROOT\n",
            "3 nummod\n",
            "books attr\n"
          ]
        }
      ]
    },
    {
      "cell_type": "code",
      "source": [
        "doc = nlp(\"This is my address: 900 University Drive\")\n",
        "for token in doc:\n",
        "  print(token.text, token.dep_) # _dep"
      ],
      "metadata": {
        "colab": {
          "base_uri": "https://localhost:8080/"
        },
        "id": "zNts8aEVAh8C",
        "outputId": "c65f0026-5c5e-4a10-e1f1-e8507f7d05b1"
      },
      "execution_count": 66,
      "outputs": [
        {
          "output_type": "stream",
          "name": "stdout",
          "text": [
            "This nsubj\n",
            "is ROOT\n",
            "my poss\n",
            "address attr\n",
            ": punct\n",
            "900 nummod\n",
            "University compound\n",
            "Drive attr\n"
          ]
        }
      ]
    },
    {
      "cell_type": "code",
      "source": [
        "# Observation: Looks at the street number as a numeric modifier. Drive as an atrr???"
      ],
      "metadata": {
        "id": "sqT9zZgDA7VM"
      },
      "execution_count": 67,
      "outputs": []
    },
    {
      "cell_type": "code",
      "source": [
        "doc = nlp(\"This is my address: 1900 Aqua Fina Ave\")\n",
        "for token in doc:\n",
        "  print(token.text, token.dep_) # _dep"
      ],
      "metadata": {
        "colab": {
          "base_uri": "https://localhost:8080/"
        },
        "id": "7f4_ftmGBQIF",
        "outputId": "c00549a7-b7a4-40e5-e308-300635240558"
      },
      "execution_count": 68,
      "outputs": [
        {
          "output_type": "stream",
          "name": "stdout",
          "text": [
            "This nsubj\n",
            "is ROOT\n",
            "my poss\n",
            "address attr\n",
            ": punct\n",
            "1900 nummod\n",
            "Aqua compound\n",
            "Fina compound\n",
            "Ave appos\n"
          ]
        }
      ]
    },
    {
      "cell_type": "code",
      "source": [
        "doc = nlp(\"This is my address: 1900 Aqua Fina Avenue\")\n",
        "for token in doc:\n",
        "  print(token.text, token, spacy.explain(token.dep_)) # _dep"
      ],
      "metadata": {
        "colab": {
          "base_uri": "https://localhost:8080/"
        },
        "id": "ZPrwS_pMBWpE",
        "outputId": "a89186d6-8187-4529-d358-d65cdeef041a"
      },
      "execution_count": 69,
      "outputs": [
        {
          "output_type": "stream",
          "name": "stdout",
          "text": [
            "This This nominal subject\n",
            "is is root\n",
            "my my possession modifier\n",
            "address address attribute\n",
            ": : punctuation\n",
            "1900 1900 numeric modifier\n",
            "Aqua Aqua compound\n",
            "Fina Fina compound\n",
            "Avenue Avenue attribute\n"
          ]
        }
      ]
    },
    {
      "cell_type": "code",
      "source": [
        "doc = nlp(\"This is my address: 1900 Aqua Fina Avenue\")\n",
        "for token in doc:\n",
        "  print(token.text, token, spacy.explain(token.dep_),token.head)\n",
        "\n",
        "# Observation : 900 numeric mnodifier affects Avenue"
      ],
      "metadata": {
        "colab": {
          "base_uri": "https://localhost:8080/"
        },
        "id": "nKC_YiyeBeuV",
        "outputId": "15b5bb03-e4d6-4644-d892-42567e48112e"
      },
      "execution_count": 70,
      "outputs": [
        {
          "output_type": "stream",
          "name": "stdout",
          "text": [
            "This This nominal subject is\n",
            "is is root is\n",
            "my my possession modifier address\n",
            "address address attribute is\n",
            ": : punctuation is\n",
            "1900 1900 numeric modifier Avenue\n",
            "Aqua Aqua compound Fina\n",
            "Fina Fina compound Avenue\n",
            "Avenue Avenue attribute is\n"
          ]
        }
      ]
    },
    {
      "cell_type": "code",
      "source": [
        "doc = nlp(\"This is my address: 1900 Aqua Fina Ave\")\n",
        "for token in doc:\n",
        "  print(token.text, token, spacy.explain(token.dep_),token.head)\n",
        "# in short version of Avenue as Ave  now \"this\" mapped to \"Ave\""
      ],
      "metadata": {
        "colab": {
          "base_uri": "https://localhost:8080/"
        },
        "id": "7lkJxsJLB6GY",
        "outputId": "546c58e4-06e6-44b1-cf3e-a6cfccf01e06"
      },
      "execution_count": 71,
      "outputs": [
        {
          "output_type": "stream",
          "name": "stdout",
          "text": [
            "This This nominal subject is\n",
            "is is root is\n",
            "my my possession modifier address\n",
            "address address attribute is\n",
            ": : punctuation is\n",
            "1900 1900 numeric modifier Ave\n",
            "Aqua Aqua compound Fina\n",
            "Fina Fina compound Ave\n",
            "Ave Ave appositional modifier This\n"
          ]
        }
      ]
    },
    {
      "cell_type": "code",
      "source": [
        "doc = nlp(\"This is my address: 1900 Aqua Fina Avenue\")\n",
        "for token in doc:\n",
        "  print(token.text, token.tag_, token.dep_, token.head)"
      ],
      "metadata": {
        "colab": {
          "base_uri": "https://localhost:8080/"
        },
        "id": "zf7yxNi3CIGu",
        "outputId": "5f2c73c1-a6ac-48e5-b361-3afc61513bc3"
      },
      "execution_count": 72,
      "outputs": [
        {
          "output_type": "stream",
          "name": "stdout",
          "text": [
            "This DT nsubj is\n",
            "is VBZ ROOT is\n",
            "my PRP$ poss address\n",
            "address NN attr is\n",
            ": : punct is\n",
            "1900 CD nummod Avenue\n",
            "Aqua NNP compound Fina\n",
            "Fina NNP compound Avenue\n",
            "Avenue NNP attr is\n"
          ]
        }
      ]
    },
    {
      "cell_type": "code",
      "source": [
        "# Topic: Named Entity Recognition Tagger\n",
        "# TYPE\n",
        "# DESCRIPTION\n",
        "\n",
        "# PER\n",
        "# Named person or family.\n",
        "\n",
        "# LOC\n",
        "# Name of politically or geographically defined location (cities, provinces, countries,\n",
        "# international regions, bodies of water, mountains).\n",
        "\n",
        "# ORG\n",
        "# Named corporate, governmental, or other orginzational entity\n",
        "\n",
        "# MISC\n",
        "# Miscellaneous entities, e.g. events, nationalities, products or works of art"
      ],
      "metadata": {
        "id": "o3fO5SXACmCV"
      },
      "execution_count": 73,
      "outputs": []
    },
    {
      "cell_type": "code",
      "source": [
        "doc = nlp(\"“Albert Einstein was born in Ulm on 1987. He studied electronical engineering at ETH Zurich.\")\n",
        "print(doc.ents)\n",
        "\n",
        "for token in doc:\n",
        "    print(token.text, token.ent_type_, spacy.explain(token.ent_type_))\n",
        "    print(\"====\")"
      ],
      "metadata": {
        "colab": {
          "base_uri": "https://localhost:8080/"
        },
        "id": "HQcvgmONDjn2",
        "outputId": "e6cba25b-a26f-46da-bc51-17c95b7971cb"
      },
      "execution_count": 74,
      "outputs": [
        {
          "output_type": "stream",
          "name": "stdout",
          "text": [
            "(Albert Einstein, Ulm, 1987, ETH Zurich)\n",
            "“  None\n",
            "====\n",
            "Albert PERSON People, including fictional\n",
            "====\n",
            "Einstein PERSON People, including fictional\n",
            "====\n",
            "was  None\n",
            "====\n",
            "born  None\n",
            "====\n",
            "in  None\n",
            "====\n",
            "Ulm GPE Countries, cities, states\n",
            "====\n",
            "on  None\n",
            "====\n",
            "1987 DATE Absolute or relative dates or periods\n",
            "====\n",
            ".  None\n",
            "====\n",
            "He  None\n",
            "====\n",
            "studied  None\n",
            "====\n",
            "electronical  None\n",
            "====\n",
            "engineering  None\n",
            "====\n",
            "at  None\n",
            "====\n",
            "ETH ORG Companies, agencies, institutions, etc.\n",
            "====\n",
            "Zurich ORG Companies, agencies, institutions, etc.\n",
            "====\n",
            ".  None\n",
            "====\n"
          ]
        }
      ]
    },
    {
      "cell_type": "code",
      "source": [
        "doc = nlp(\"This is my address: 1900 Aqua Fina Ave,TX\")\n",
        "print(doc.ents)\n",
        "\n",
        "for token in doc:\n",
        "    print(token.text, token.ent_type_, spacy.explain(token.ent_type_))\n",
        "    print(\"====\")\n",
        "\n",
        "#observation: good at recognizing states"
      ],
      "metadata": {
        "colab": {
          "base_uri": "https://localhost:8080/"
        },
        "id": "mSftYpdYDkGk",
        "outputId": "4ece1f6b-81e5-4eaf-d28e-f4788e48cd1f"
      },
      "execution_count": 75,
      "outputs": [
        {
          "output_type": "stream",
          "name": "stdout",
          "text": [
            "(TX,)\n",
            "This  None\n",
            "====\n",
            "is  None\n",
            "====\n",
            "my  None\n",
            "====\n",
            "address  None\n",
            "====\n",
            ":  None\n",
            "====\n",
            "1900  None\n",
            "====\n",
            "Aqua  None\n",
            "====\n",
            "Fina  None\n",
            "====\n",
            "Ave  None\n",
            "====\n",
            ",  None\n",
            "====\n",
            "TX GPE Countries, cities, states\n",
            "====\n"
          ]
        }
      ]
    },
    {
      "cell_type": "code",
      "source": [
        "from bs4 import BeautifulSoup\n",
        "import requests\n"
      ],
      "metadata": {
        "id": "x52W4ejnD3QI"
      },
      "execution_count": 77,
      "outputs": []
    },
    {
      "cell_type": "code",
      "source": [
        "def url_text(url_string):\n",
        "    res = requests.get(url_string)\n",
        "    html = res.text\n",
        "    soup = BeautifulSoup(html,'html5lib')\n",
        "\n",
        "    for script in soup([\"script\",\"style\",\"aside\"]):\n",
        "        script.extract()\n",
        "\n",
        "    text = soup.get_text()\n",
        "    return \" \".join(text.split())\n",
        "\n",
        "\n",
        "ny_art = url_text(\"https://www.utrgv.edu/csci/\")\n",
        "doc = nlp(ny_art)"
      ],
      "metadata": {
        "id": "afRc0qdKdIRh"
      },
      "execution_count": 82,
      "outputs": []
    },
    {
      "cell_type": "code",
      "source": [
        "from collections import Counter\n",
        "labels = [ent.label_ for ent in doc.ents]\n",
        "print(Counter(labels))"
      ],
      "metadata": {
        "colab": {
          "base_uri": "https://localhost:8080/"
        },
        "id": "Uq7cPH89d_O1",
        "outputId": "5b19868e-e260-4d54-cd98-9f383e78589b"
      },
      "execution_count": 83,
      "outputs": [
        {
          "output_type": "stream",
          "name": "stdout",
          "text": [
            "Counter({'ORG': 23, 'DATE': 3, 'GPE': 2, 'TIME': 2, 'CARDINAL': 1, 'QUANTITY': 1, 'PERSON': 1, 'LAW': 1})\n"
          ]
        }
      ]
    },
    {
      "cell_type": "code",
      "source": [
        "items = [ent.text for ent in doc.ents]\n",
        "print(Counter(items).most_common(10))"
      ],
      "metadata": {
        "colab": {
          "base_uri": "https://localhost:8080/"
        },
        "id": "KGrjxz7PeIBa",
        "outputId": "3e11bf55-d268-4071-a92e-3fcb59c7f438"
      },
      "execution_count": 84,
      "outputs": [
        {
          "output_type": "stream",
          "name": "stdout",
          "text": [
            "[('UTRGV', 2), ('Computer Science', 2), ('UTRGV Computer Science | UTRGV', 1), ('The University of Texas Rio Grande Valley Main Menu Donate', 1), ('Computer Science College of Engineering and Computer Science Home', 1), ('1.203', 1), ('Machine Intelligence Lab', 1), ('Computer Science Computer Science', 1), ('CS', 1), ('The Computer Science Department', 1)]\n"
          ]
        }
      ]
    },
    {
      "cell_type": "code",
      "source": [
        "contact_page = url_text(\"https://www.utrgv.edu/csci/contact/index.htm\")\n",
        "doc = nlp(contact_page)\n",
        "items = [ent.text for ent in doc.ents]\n",
        "print(Counter(items).most_common(10))\n"
      ],
      "metadata": {
        "colab": {
          "base_uri": "https://localhost:8080/"
        },
        "id": "DTs76AjLePfl",
        "outputId": "d235be45-80fb-44df-c887-8968e5e84130"
      },
      "execution_count": 85,
      "outputs": [
        {
          "output_type": "stream",
          "name": "stdout",
          "text": [
            "[('The University of Texas Rio Grande Valley Main Menu Donate', 1), ('Contact Us Computer Science College of Engineering and Computer Science Home', 1), ('Contact Us Department of Computer Science Interdisciplinary Engineering & Academic Building', 1), ('Student Computer Lab Interdisciplinary Engineering & Academic Building', 1), ('Bill 18', 1)]\n"
          ]
        }
      ]
    },
    {
      "cell_type": "code",
      "source": [
        "ny_art = url_text(\"https://www.utrgv.edu/csci/\")\n",
        "doc = nlp(ny_art)"
      ],
      "metadata": {
        "id": "idQGE9tNfCP5"
      },
      "execution_count": 87,
      "outputs": []
    },
    {
      "cell_type": "code",
      "source": [
        "from spacy import displacy\n",
        "displacy.render(doc, style='ent', jupyter=True, options={'distance': 90})"
      ],
      "metadata": {
        "colab": {
          "base_uri": "https://localhost:8080/",
          "height": 737
        },
        "id": "cXX2Bo1ker-M",
        "outputId": "e67c34b2-66f3-4dbf-a49e-5b16a62cc71d"
      },
      "execution_count": 88,
      "outputs": [
        {
          "output_type": "display_data",
          "data": {
            "text/plain": [
              "<IPython.core.display.HTML object>"
            ],
            "text/html": [
              "<span class=\"tex2jax_ignore\"><div class=\"entities\" style=\"line-height: 2.5; direction: ltr\">\n",
              "<mark class=\"entity\" style=\"background: #7aecec; padding: 0.45em 0.6em; margin: 0 0.25em; line-height: 1; border-radius: 0.35em;\">\n",
              "    UTRGV Computer Science | UTRGV\n",
              "    <span style=\"font-size: 0.8em; font-weight: bold; line-height: 1; border-radius: 0.35em; vertical-align: middle; margin-left: 0.5rem\">ORG</span>\n",
              "</mark>\n",
              " skip to main content \n",
              "<mark class=\"entity\" style=\"background: #7aecec; padding: 0.45em 0.6em; margin: 0 0.25em; line-height: 1; border-radius: 0.35em;\">\n",
              "    The University of Texas Rio Grande Valley Main Menu Donate\n",
              "    <span style=\"font-size: 0.8em; font-weight: bold; line-height: 1; border-radius: 0.35em; vertical-align: middle; margin-left: 0.5rem\">ORG</span>\n",
              "</mark>\n",
              " Now Directory myUTRGV Search You are here: \n",
              "<mark class=\"entity\" style=\"background: #7aecec; padding: 0.45em 0.6em; margin: 0 0.25em; line-height: 1; border-radius: 0.35em;\">\n",
              "    Computer Science College of Engineering and Computer Science Home\n",
              "    <span style=\"font-size: 0.8em; font-weight: bold; line-height: 1; border-radius: 0.35em; vertical-align: middle; margin-left: 0.5rem\">ORG</span>\n",
              "</mark>\n",
              " About Us Articles and Events Game Showcase Google Collaboration Enrollment Degrees Awarded Department Profile ABET Accreditation Academics Undergraduate Admissions Degree Plan Senior Design Graduate Master's Program PhD Program Program Offerings CS Computer Lab TA Center Research MI@UTRGV Bioinformatics ASARG MARS TDM Faculty &amp; Staff Faculty Directory Faculty Evaluation Contact Us UTRGV Computer Science's New Home CS Student Lab In EIEAB \n",
              "<mark class=\"entity\" style=\"background: #e4e7d2; padding: 0.45em 0.6em; margin: 0 0.25em; line-height: 1; border-radius: 0.35em;\">\n",
              "    1.203\n",
              "    <span style=\"font-size: 0.8em; font-weight: bold; line-height: 1; border-radius: 0.35em; vertical-align: middle; margin-left: 0.5rem\">CARDINAL</span>\n",
              "</mark>\n",
              " Is Open GPU Cluster In \n",
              "<mark class=\"entity\" style=\"background: #7aecec; padding: 0.45em 0.6em; margin: 0 0.25em; line-height: 1; border-radius: 0.35em;\">\n",
              "    Machine Intelligence Lab\n",
              "    <span style=\"font-size: 0.8em; font-weight: bold; line-height: 1; border-radius: 0.35em; vertical-align: middle; margin-left: 0.5rem\">ORG</span>\n",
              "</mark>\n",
              " UTRGVs 2023 Hack Research Welcome To \n",
              "<mark class=\"entity\" style=\"background: #7aecec; padding: 0.45em 0.6em; margin: 0 0.25em; line-height: 1; border-radius: 0.35em;\">\n",
              "    UTRGV\n",
              "    <span style=\"font-size: 0.8em; font-weight: bold; line-height: 1; border-radius: 0.35em; vertical-align: middle; margin-left: 0.5rem\">ORG</span>\n",
              "</mark>\n",
              "'s \n",
              "<mark class=\"entity\" style=\"background: #7aecec; padding: 0.45em 0.6em; margin: 0 0.25em; line-height: 1; border-radius: 0.35em;\">\n",
              "    Computer Science Computer Science\n",
              "    <span style=\"font-size: 0.8em; font-weight: bold; line-height: 1; border-radius: 0.35em; vertical-align: middle; margin-left: 0.5rem\">ORG</span>\n",
              "</mark>\n",
              " (CS) is the study of computer systems including hardware and software. As a \n",
              "<mark class=\"entity\" style=\"background: #7aecec; padding: 0.45em 0.6em; margin: 0 0.25em; line-height: 1; border-radius: 0.35em;\">\n",
              "    CS\n",
              "    <span style=\"font-size: 0.8em; font-weight: bold; line-height: 1; border-radius: 0.35em; vertical-align: middle; margin-left: 0.5rem\">ORG</span>\n",
              "</mark>\n",
              " student, not only will you learn programming languages, but also learn how to design systems, learn how people interact with computers, how to handle large amounts of information, build networks, create websites, develop video games, create computer animations, learn robotics, and much more. Academics \n",
              "<mark class=\"entity\" style=\"background: #7aecec; padding: 0.45em 0.6em; margin: 0 0.25em; line-height: 1; border-radius: 0.35em;\">\n",
              "    The Computer Science Department\n",
              "    <span style=\"font-size: 0.8em; font-weight: bold; line-height: 1; border-radius: 0.35em; vertical-align: middle; margin-left: 0.5rem\">ORG</span>\n",
              "</mark>\n",
              " strives for excellence in undergraduate and graduate education. Our Faculty Our wonderful faculty work within and beyond the world of \n",
              "<mark class=\"entity\" style=\"background: #7aecec; padding: 0.45em 0.6em; margin: 0 0.25em; line-height: 1; border-radius: 0.35em;\">\n",
              "    Computer Science\n",
              "    <span style=\"font-size: 0.8em; font-weight: bold; line-height: 1; border-radius: 0.35em; vertical-align: middle; margin-left: 0.5rem\">ORG</span>\n",
              "</mark>\n",
              ". Research Research your interests and explore \n",
              "<mark class=\"entity\" style=\"background: #7aecec; padding: 0.45em 0.6em; margin: 0 0.25em; line-height: 1; border-radius: 0.35em;\">\n",
              "    Computer Science\n",
              "    <span style=\"font-size: 0.8em; font-weight: bold; line-height: 1; border-radius: 0.35em; vertical-align: middle; margin-left: 0.5rem\">ORG</span>\n",
              "</mark>\n",
              " in a deeper level About \n",
              "<mark class=\"entity\" style=\"background: #7aecec; padding: 0.45em 0.6em; margin: 0 0.25em; line-height: 1; border-radius: 0.35em;\">\n",
              "    the Department The Department of Computer Science\n",
              "    <span style=\"font-size: 0.8em; font-weight: bold; line-height: 1; border-radius: 0.35em; vertical-align: middle; margin-left: 0.5rem\">ORG</span>\n",
              "</mark>\n",
              " is a part of \n",
              "<mark class=\"entity\" style=\"background: #7aecec; padding: 0.45em 0.6em; margin: 0 0.25em; line-height: 1; border-radius: 0.35em;\">\n",
              "    the College of Engineering and Computer Science\n",
              "    <span style=\"font-size: 0.8em; font-weight: bold; line-height: 1; border-radius: 0.35em; vertical-align: middle; margin-left: 0.5rem\">ORG</span>\n",
              "</mark>\n",
              " at \n",
              "<mark class=\"entity\" style=\"background: #7aecec; padding: 0.45em 0.6em; margin: 0 0.25em; line-height: 1; border-radius: 0.35em;\">\n",
              "    the University of Texas Rio Grande Valley\n",
              "    <span style=\"font-size: 0.8em; font-weight: bold; line-height: 1; border-radius: 0.35em; vertical-align: middle; margin-left: 0.5rem\">ORG</span>\n",
              "</mark>\n",
              " (\n",
              "<mark class=\"entity\" style=\"background: #7aecec; padding: 0.45em 0.6em; margin: 0 0.25em; line-height: 1; border-radius: 0.35em;\">\n",
              "    UTRGV\n",
              "    <span style=\"font-size: 0.8em; font-weight: bold; line-height: 1; border-radius: 0.35em; vertical-align: middle; margin-left: 0.5rem\">ORG</span>\n",
              "</mark>\n",
              ") and offers courses at both \n",
              "<mark class=\"entity\" style=\"background: #feca74; padding: 0.45em 0.6em; margin: 0 0.25em; line-height: 1; border-radius: 0.35em;\">\n",
              "    Brownsville\n",
              "    <span style=\"font-size: 0.8em; font-weight: bold; line-height: 1; border-radius: 0.35em; vertical-align: middle; margin-left: 0.5rem\">GPE</span>\n",
              "</mark>\n",
              " and \n",
              "<mark class=\"entity\" style=\"background: #feca74; padding: 0.45em 0.6em; margin: 0 0.25em; line-height: 1; border-radius: 0.35em;\">\n",
              "    Edinburg\n",
              "    <span style=\"font-size: 0.8em; font-weight: bold; line-height: 1; border-radius: 0.35em; vertical-align: middle; margin-left: 0.5rem\">GPE</span>\n",
              "</mark>\n",
              " campuses. \n",
              "<mark class=\"entity\" style=\"background: #7aecec; padding: 0.45em 0.6em; margin: 0 0.25em; line-height: 1; border-radius: 0.35em;\">\n",
              "    The Department of Computer Science\n",
              "    <span style=\"font-size: 0.8em; font-weight: bold; line-height: 1; border-radius: 0.35em; vertical-align: middle; margin-left: 0.5rem\">ORG</span>\n",
              "</mark>\n",
              " offers \n",
              "<mark class=\"entity\" style=\"background: #e4e7d2; padding: 0.45em 0.6em; margin: 0 0.25em; line-height: 1; border-radius: 0.35em;\">\n",
              "    three degrees\n",
              "    <span style=\"font-size: 0.8em; font-weight: bold; line-height: 1; border-radius: 0.35em; vertical-align: middle; margin-left: 0.5rem\">QUANTITY</span>\n",
              "</mark>\n",
              ": \n",
              "<mark class=\"entity\" style=\"background: #7aecec; padding: 0.45em 0.6em; margin: 0 0.25em; line-height: 1; border-radius: 0.35em;\">\n",
              "    Bachelor of Science in Computer Science\n",
              "    <span style=\"font-size: 0.8em; font-weight: bold; line-height: 1; border-radius: 0.35em; vertical-align: middle; margin-left: 0.5rem\">ORG</span>\n",
              "</mark>\n",
              " (BSCS) as a broad-field major, \n",
              "<mark class=\"entity\" style=\"background: #7aecec; padding: 0.45em 0.6em; margin: 0 0.25em; line-height: 1; border-radius: 0.35em;\">\n",
              "    Master of Science (MS\n",
              "    <span style=\"font-size: 0.8em; font-weight: bold; line-height: 1; border-radius: 0.35em; vertical-align: middle; margin-left: 0.5rem\">ORG</span>\n",
              "</mark>\n",
              ") with a major in computer science, and \n",
              "<mark class=\"entity\" style=\"background: #7aecec; padding: 0.45em 0.6em; margin: 0 0.25em; line-height: 1; border-radius: 0.35em;\">\n",
              "    Master of Science in Information Technology\n",
              "    <span style=\"font-size: 0.8em; font-weight: bold; line-height: 1; border-radius: 0.35em; vertical-align: middle; margin-left: 0.5rem\">ORG</span>\n",
              "</mark>\n",
              " (\n",
              "<mark class=\"entity\" style=\"background: #aa9cfc; padding: 0.45em 0.6em; margin: 0 0.25em; line-height: 1; border-radius: 0.35em;\">\n",
              "    MSIT\n",
              "    <span style=\"font-size: 0.8em; font-weight: bold; line-height: 1; border-radius: 0.35em; vertical-align: middle; margin-left: 0.5rem\">PERSON</span>\n",
              "</mark>\n",
              "). The BSCS degree is accredited by \n",
              "<mark class=\"entity\" style=\"background: #7aecec; padding: 0.45em 0.6em; margin: 0 0.25em; line-height: 1; border-radius: 0.35em;\">\n",
              "    the Computing Accreditation Commission of ABET\n",
              "    <span style=\"font-size: 0.8em; font-weight: bold; line-height: 1; border-radius: 0.35em; vertical-align: middle; margin-left: 0.5rem\">ORG</span>\n",
              "</mark>\n",
              ", http://www.abet.org. COVID-19 Update As of 8/10, classes have been transferred to Online Synchronous and Online Asynchronous. Contact your professors to find out how their classes will be taught this \n",
              "<mark class=\"entity\" style=\"background: #bfe1d9; padding: 0.45em 0.6em; margin: 0 0.25em; line-height: 1; border-radius: 0.35em;\">\n",
              "    Fall 2020\n",
              "    <span style=\"font-size: 0.8em; font-weight: bold; line-height: 1; border-radius: 0.35em; vertical-align: middle; margin-left: 0.5rem\">DATE</span>\n",
              "</mark>\n",
              "! Keep up to date via the following: \n",
              "<mark class=\"entity\" style=\"background: #7aecec; padding: 0.45em 0.6em; margin: 0 0.25em; line-height: 1; border-radius: 0.35em;\">\n",
              "    UTRGV COVID-19\n",
              "    <span style=\"font-size: 0.8em; font-weight: bold; line-height: 1; border-radius: 0.35em; vertical-align: middle; margin-left: 0.5rem\">ORG</span>\n",
              "</mark>\n",
              " (coronavirus) Campus Update CS Student Lab - EIEAB 1.203 \n",
              "<mark class=\"entity\" style=\"background: #7aecec; padding: 0.45em 0.6em; margin: 0 0.25em; line-height: 1; border-radius: 0.35em;\">\n",
              "    The CS Student Lab\n",
              "    <span style=\"font-size: 0.8em; font-weight: bold; line-height: 1; border-radius: 0.35em; vertical-align: middle; margin-left: 0.5rem\">ORG</span>\n",
              "</mark>\n",
              " is open to all \n",
              "<mark class=\"entity\" style=\"background: #7aecec; padding: 0.45em 0.6em; margin: 0 0.25em; line-height: 1; border-radius: 0.35em;\">\n",
              "    Computer Science and Computer Engineering\n",
              "    <span style=\"font-size: 0.8em; font-weight: bold; line-height: 1; border-radius: 0.35em; vertical-align: middle; margin-left: 0.5rem\">ORG</span>\n",
              "</mark>\n",
              " students to come do work, attend online classes, or just hang out and meet other students! Some of our computers have built-in webcams, just make sure to use headphones for class! \n",
              "<mark class=\"entity\" style=\"background: #7aecec; padding: 0.45em 0.6em; margin: 0 0.25em; line-height: 1; border-radius: 0.35em;\">\n",
              "    The Open Student Lab\n",
              "    <span style=\"font-size: 0.8em; font-weight: bold; line-height: 1; border-radius: 0.35em; vertical-align: middle; margin-left: 0.5rem\">ORG</span>\n",
              "</mark>\n",
              " is open from \n",
              "<mark class=\"entity\" style=\"background: #bfe1d9; padding: 0.45em 0.6em; margin: 0 0.25em; line-height: 1; border-radius: 0.35em;\">\n",
              "    8 AM - 8 PM\n",
              "    <span style=\"font-size: 0.8em; font-weight: bold; line-height: 1; border-radius: 0.35em; vertical-align: middle; margin-left: 0.5rem\">TIME</span>\n",
              "</mark>\n",
              " on \n",
              "<mark class=\"entity\" style=\"background: #bfe1d9; padding: 0.45em 0.6em; margin: 0 0.25em; line-height: 1; border-radius: 0.35em;\">\n",
              "    Monday - Thursday\n",
              "    <span style=\"font-size: 0.8em; font-weight: bold; line-height: 1; border-radius: 0.35em; vertical-align: middle; margin-left: 0.5rem\">DATE</span>\n",
              "</mark>\n",
              " and from \n",
              "<mark class=\"entity\" style=\"background: #bfe1d9; padding: 0.45em 0.6em; margin: 0 0.25em; line-height: 1; border-radius: 0.35em;\">\n",
              "    8 AM - 5 PM\n",
              "    <span style=\"font-size: 0.8em; font-weight: bold; line-height: 1; border-radius: 0.35em; vertical-align: middle; margin-left: 0.5rem\">TIME</span>\n",
              "</mark>\n",
              " on \n",
              "<mark class=\"entity\" style=\"background: #bfe1d9; padding: 0.45em 0.6em; margin: 0 0.25em; line-height: 1; border-radius: 0.35em;\">\n",
              "    Friday\n",
              "    <span style=\"font-size: 0.8em; font-weight: bold; line-height: 1; border-radius: 0.35em; vertical-align: middle; margin-left: 0.5rem\">DATE</span>\n",
              "</mark>\n",
              ". Jump to Top UTRGV Twitter Facebook LinkedIn YouTube CARES, CRRSAA and ARP Reporting Site Policies Contact UTRGV Required Links Fraud Reporting Senate \n",
              "<mark class=\"entity\" style=\"background: #ff8197; padding: 0.45em 0.6em; margin: 0 0.25em; line-height: 1; border-radius: 0.35em;\">\n",
              "    Bill 18\n",
              "    <span style=\"font-size: 0.8em; font-weight: bold; line-height: 1; border-radius: 0.35em; vertical-align: middle; margin-left: 0.5rem\">LAW</span>\n",
              "</mark>\n",
              " Reporting UTRGV Careers Clery Act Reports Web Accessibility Mental Health Resources Sexual Misconduct Policy Reporting Sexual Misconduct</div></span>"
            ]
          },
          "metadata": {}
        }
      ]
    },
    {
      "cell_type": "code",
      "source": [
        "# Topic: Meging and Splitting Tokens"
      ],
      "metadata": {
        "id": "vnXEfEZ3fBAd"
      },
      "execution_count": 89,
      "outputs": []
    },
    {
      "cell_type": "code",
      "source": [
        "doc = nlp(\"She lived in New Hampshire.\")\n",
        "print(doc.ents)\n",
        "print([(token.text, token.i) for token in doc])\n",
        "print(len(doc))\n",
        "with doc.retokenize() as retokenizer:\n",
        "    retokenizer.merge(doc[3:5], attrs={\"LEMMA\":\"new hampshire\"})\n",
        "\n",
        "print(doc.ents)\n",
        "print([(token.text, token.i) for token in doc])"
      ],
      "metadata": {
        "colab": {
          "base_uri": "https://localhost:8080/"
        },
        "id": "IzqMKTBcez61",
        "outputId": "b82257ef-0df4-4602-9d27-c25cb9f17a68"
      },
      "execution_count": 90,
      "outputs": [
        {
          "output_type": "stream",
          "name": "stdout",
          "text": [
            "(New Hampshire,)\n",
            "[('She', 0), ('lived', 1), ('in', 2), ('New', 3), ('Hampshire', 4), ('.', 5)]\n",
            "6\n",
            "(New Hampshire,)\n",
            "[('She', 0), ('lived', 1), ('in', 2), ('New Hampshire', 3), ('.', 4)]\n"
          ]
        }
      ]
    },
    {
      "cell_type": "code",
      "source": [
        "doc = nlp(\"She lived in NewHampshire.\")\n",
        "print(len(doc))\n",
        "print([(token.text, token.lemma_, token.i) for token in doc])\n",
        "for token in doc:\n",
        "    print(token.text, token.pos_, token.tag_, token.dep_)"
      ],
      "metadata": {
        "colab": {
          "base_uri": "https://localhost:8080/"
        },
        "id": "0LusQ0Xifgo2",
        "outputId": "820cf315-f603-4be0-a64b-d834250ce3a3"
      },
      "execution_count": 91,
      "outputs": [
        {
          "output_type": "stream",
          "name": "stdout",
          "text": [
            "5\n",
            "[('She', 'she', 0), ('lived', 'live', 1), ('in', 'in', 2), ('NewHampshire', 'NewHampshire', 3), ('.', '.', 4)]\n",
            "She PRON PRP nsubj\n",
            "lived VERB VBD ROOT\n",
            "in ADP IN prep\n",
            "NewHampshire PROPN NNP pobj\n",
            ". PUNCT . punct\n"
          ]
        }
      ]
    },
    {
      "cell_type": "code",
      "source": [
        "doc = nlp(\"She lived in NewHampshire.\")\n",
        "with doc.retokenize() as retokenizer:\n",
        "    heads = [(doc[3], 1), doc[2]]\n",
        "    attrs = {\"TAG\":[\"NNP\", \"NNP\"], \"DEP\":[\"compound\", \"pobj\"]}\n",
        "    retokenizer.split(doc[3], [\"New\", \"Hampshire\"], heads=heads, attrs=attrs)\n",
        "\n",
        "\n",
        "print(len(doc))\n",
        "print([(token.text, token.lemma_, token.i) for token in doc])\n",
        "for token in doc:\n",
        "    print(token.text, token.pos_, token.tag_, token.dep_)"
      ],
      "metadata": {
        "colab": {
          "base_uri": "https://localhost:8080/"
        },
        "id": "0pXp6GMbfx3M",
        "outputId": "7d702975-e0bc-4ecc-b4b5-24701c5c222d"
      },
      "execution_count": 92,
      "outputs": [
        {
          "output_type": "stream",
          "name": "stdout",
          "text": [
            "6\n",
            "[('She', 'she', 0), ('lived', 'live', 1), ('in', 'in', 2), ('New', 'New', 3), ('Hampshire', 'Hampshire', 4), ('.', '.', 5)]\n",
            "She PRON PRP nsubj\n",
            "lived VERB VBD ROOT\n",
            "in ADP IN prep\n",
            "New PROPN NNP compound\n",
            "Hampshire PUNCT NNP pobj\n",
            ". PUNCT . punct\n"
          ]
        }
      ]
    },
    {
      "cell_type": "code",
      "source": [
        "# Recap: Extracting Linguistic Features\n",
        "\n"
      ],
      "metadata": {
        "colab": {
          "base_uri": "https://localhost:8080/"
        },
        "id": "ta17sv-If-Ad",
        "outputId": "1d8e4583-398e-47a6-c7e0-7bd59febc4ee"
      },
      "execution_count": 94,
      "outputs": [
        {
          "output_type": "stream",
          "name": "stdout",
          "text": [
            "Apple ||  PROPN ||  nsubj\n",
            "is ||  AUX ||  aux\n",
            "looking ||  VERB ||  ROOT\n",
            "at ||  ADP ||  prep\n",
            "buying ||  VERB ||  pcomp\n",
            "U.K. ||  PROPN ||  compound\n",
            "startup ||  NOUN ||  dobj\n",
            "for ||  ADP ||  prep\n",
            "$ ||  SYM ||  quantmod\n",
            "1 ||  NUM ||  compound\n",
            "billion ||  NUM ||  pobj\n",
            "{ent.text} ||  {ent.label_}\n",
            "{ent.text} ||  {ent.label_}\n",
            "{ent.text} ||  {ent.label_}\n"
          ]
        }
      ]
    },
    {
      "cell_type": "code",
      "source": [
        "def print_linguistic_features_table(text):\n",
        "    # Assuming nlp has been previously defined and loaded with the desired spaCy model\n",
        "    doc = nlp(text)\n",
        "\n",
        "    # Print tokens table header\n",
        "    print(f\"{'Token Text':<15} || {'POS Tag':<10} || {'Dependency Tag':<15}\")\n",
        "    print(\"-\" * 45)  # Print a divider\n",
        "\n",
        "    # Iterate over tokens and print their details\n",
        "    for token in doc:\n",
        "        print(f\"{token.text:<15} || {token.pos_:<10} || {token.dep_:<15}\")\n",
        "\n",
        "    # Space between tables\n",
        "    print(\"\\n\" + \"-\" * 45)\n",
        "\n",
        "    # Print entities table header\n",
        "    print(f\"{'Entity Text':<20} || {'Entity Label':<10}\")\n",
        "    print(\"-\" * 45)  # Print a divider\n",
        "\n",
        "    # Iterate over entities and print their details\n",
        "    for ent in doc.ents:\n",
        "        print(f\"{ent.text:<20} || {ent.label_:<10}\")\n",
        "\n",
        "# Example usage:\n",
        "text = \"Apple is looking at buying U.K. startup for $1 billion\"\n",
        "print_linguistic_features_table(text)\n"
      ],
      "metadata": {
        "colab": {
          "base_uri": "https://localhost:8080/"
        },
        "id": "yGK1QaB_hREQ",
        "outputId": "083604ee-8f96-43ef-f5b0-dc4b8c8cba9d"
      },
      "execution_count": 95,
      "outputs": [
        {
          "output_type": "stream",
          "name": "stdout",
          "text": [
            "Token Text      || POS Tag    || Dependency Tag \n",
            "---------------------------------------------\n",
            "Apple           || PROPN      || nsubj          \n",
            "is              || AUX        || aux            \n",
            "looking         || VERB       || ROOT           \n",
            "at              || ADP        || prep           \n",
            "buying          || VERB       || pcomp          \n",
            "U.K.            || PROPN      || compound       \n",
            "startup         || NOUN       || dobj           \n",
            "for             || ADP        || prep           \n",
            "$               || SYM        || quantmod       \n",
            "1               || NUM        || compound       \n",
            "billion         || NUM        || pobj           \n",
            "\n",
            "---------------------------------------------\n",
            "Entity Text          || Entity Label\n",
            "---------------------------------------------\n",
            "Apple                || ORG       \n",
            "U.K.                 || GPE       \n",
            "$1 billion           || MONEY     \n"
          ]
        }
      ]
    },
    {
      "cell_type": "code",
      "source": [
        "def visualise(text):\n",
        "    # import spacy\n",
        "    # nlp = spacy.load(\"en_core_web_md\")\n",
        "\n",
        "    from spacy import displacy\n",
        "    doc = nlp(text)\n",
        "    displacy.render(doc, style='ent', jupyter=True, options={'distance': 90})"
      ],
      "metadata": {
        "id": "5uCZecBOh9Wj"
      },
      "execution_count": 96,
      "outputs": []
    },
    {
      "cell_type": "code",
      "source": [
        "visualise(text)"
      ],
      "metadata": {
        "colab": {
          "base_uri": "https://localhost:8080/",
          "height": 52
        },
        "id": "iiwoumqfiNyC",
        "outputId": "a1e3b04d-9df1-42b5-b332-2afeadb085db"
      },
      "execution_count": 97,
      "outputs": [
        {
          "output_type": "display_data",
          "data": {
            "text/plain": [
              "<IPython.core.display.HTML object>"
            ],
            "text/html": [
              "<span class=\"tex2jax_ignore\"><div class=\"entities\" style=\"line-height: 2.5; direction: ltr\">\n",
              "<mark class=\"entity\" style=\"background: #7aecec; padding: 0.45em 0.6em; margin: 0 0.25em; line-height: 1; border-radius: 0.35em;\">\n",
              "    Apple\n",
              "    <span style=\"font-size: 0.8em; font-weight: bold; line-height: 1; border-radius: 0.35em; vertical-align: middle; margin-left: 0.5rem\">ORG</span>\n",
              "</mark>\n",
              " is looking at buying \n",
              "<mark class=\"entity\" style=\"background: #feca74; padding: 0.45em 0.6em; margin: 0 0.25em; line-height: 1; border-radius: 0.35em;\">\n",
              "    U.K.\n",
              "    <span style=\"font-size: 0.8em; font-weight: bold; line-height: 1; border-radius: 0.35em; vertical-align: middle; margin-left: 0.5rem\">GPE</span>\n",
              "</mark>\n",
              " startup for \n",
              "<mark class=\"entity\" style=\"background: #e4e7d2; padding: 0.45em 0.6em; margin: 0 0.25em; line-height: 1; border-radius: 0.35em;\">\n",
              "    $1 billion\n",
              "    <span style=\"font-size: 0.8em; font-weight: bold; line-height: 1; border-radius: 0.35em; vertical-align: middle; margin-left: 0.5rem\">MONEY</span>\n",
              "</mark>\n",
              "</div></span>"
            ]
          },
          "metadata": {}
        }
      ]
    },
    {
      "cell_type": "code",
      "source": [],
      "metadata": {
        "id": "TL12T08WiP_G"
      },
      "execution_count": null,
      "outputs": []
    }
  ]
}