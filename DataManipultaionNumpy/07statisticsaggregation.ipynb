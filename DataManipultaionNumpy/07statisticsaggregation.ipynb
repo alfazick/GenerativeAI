{
 "cells": [
  {
   "cell_type": "code",
   "execution_count": 1,
   "metadata": {},
   "outputs": [],
   "source": [
    "# Part 1 Statistics\n",
    "\n",
    "# 1. Analysis\n",
    "# 2. Statistical metrics\n",
    "\n",
    "import numpy as np"
   ]
  },
  {
   "cell_type": "code",
   "execution_count": 3,
   "metadata": {},
   "outputs": [
    {
     "name": "stdout",
     "output_type": "stream",
     "text": [
      "-60\n",
      "72\n"
     ]
    }
   ],
   "source": [
    "arr = np.array([[0, 72, 3],\n",
    "                [1, 3, -60],\n",
    "                [-3, -2, 4]])\n",
    "\n",
    "print(arr.min()) # don't confuse with np.argmin and arg.max, they find index\n",
    "print(arr.max())"
   ]
  },
  {
   "cell_type": "code",
   "execution_count": 5,
   "metadata": {},
   "outputs": [
    {
     "name": "stdout",
     "output_type": "stream",
     "text": [
      "[ -3  -2 -60]\n",
      "[72  3  4]\n"
     ]
    }
   ],
   "source": [
    "print(arr.min(axis=0)) # by column\n",
    "print(arr.max(axis=1)) # by row"
   ]
  },
  {
   "cell_type": "code",
   "execution_count": 10,
   "metadata": {},
   "outputs": [
    {
     "name": "stdout",
     "output_type": "stream",
     "text": [
      "2.0\n",
      "977.3333333333334\n",
      "1.0\n",
      "[ -0.66666667  24.33333333 -17.66666667]\n"
     ]
    }
   ],
   "source": [
    "print(np.mean(arr)) # mean \n",
    "print(np.var(arr)) # variance\n",
    "print(np.median(arr)) # median assumes flattened array\n",
    "print(np.mean(arr,axis=0)) # by column\n",
    "\n",
    "# https://numpy.org/doc/stable/reference/routines.statistics.html"
   ]
  },
  {
   "cell_type": "code",
   "execution_count": 11,
   "metadata": {},
   "outputs": [],
   "source": [
    "# Part 2 Aggregation\n",
    "\n",
    "# 1. Summation\n",
    "# 2. Concatenation\n",
    "\n"
   ]
  },
  {
   "cell_type": "code",
   "execution_count": 13,
   "metadata": {},
   "outputs": [
    {
     "name": "stdout",
     "output_type": "stream",
     "text": [
      "18\n",
      "[ -2  73 -53]\n",
      "[ 75 -56  -1]\n"
     ]
    }
   ],
   "source": [
    "arr = np.array([[0, 72, 3],\n",
    "                [1, 3, -60],\n",
    "                [-3, -2, 4]])\n",
    "\n",
    "\n",
    "print(np.sum(arr))\n",
    "print(np.sum(arr, axis = 0)) # by col\n",
    "print(np.sum(arr,axis= 1)) # by row"
   ]
  },
  {
   "cell_type": "code",
   "execution_count": 14,
   "metadata": {},
   "outputs": [
    {
     "name": "stdout",
     "output_type": "stream",
     "text": [
      "array([ 0, 72, 75, 76, 79, 19, 16, 14, 18])\n",
      "array([[  0,  72,   3],\n",
      "       [  1,  75, -57],\n",
      "       [ -2,  73, -53]])\n",
      "array([[  0,  72,  75],\n",
      "       [  1,   4, -56],\n",
      "       [ -3,  -5,  -1]])\n"
     ]
    }
   ],
   "source": [
    "arr = np.array([[0, 72, 3],\n",
    "                [1, 3, -60],\n",
    "                [-3, -2, 4]])\n",
    "print(repr(np.cumsum(arr))) # cumulutative sum\n",
    "print(repr(np.cumsum(arr, axis=0))) # by col\n",
    "print(repr(np.cumsum(arr, axis=1))) # by row"
   ]
  },
  {
   "cell_type": "code",
   "execution_count": 18,
   "metadata": {},
   "outputs": [
    {
     "name": "stdout",
     "output_type": "stream",
     "text": [
      "array([[  0,  72,   3],\n",
      "       [  1,   3, -60],\n",
      "       [ -3,  -2,   4],\n",
      "       [-15,   6,   1],\n",
      "       [  8,   9,  -4],\n",
      "       [  5, -21,  18]])\n"
     ]
    }
   ],
   "source": [
    "# concatenation of two arrays\n",
    "arr1 = np.array([[0, 72, 3],\n",
    "                 [1, 3, -60],\n",
    "                 [-3, -2, 4]])\n",
    "arr2 = np.array([[-15, 6, 1],\n",
    "                 [8, 9, -4],\n",
    "                 [5, -21, 18]])\n",
    "\n",
    "print(repr(np.concatenate([arr1,arr2]))) # by default axis = 0 or vertically"
   ]
  },
  {
   "cell_type": "code",
   "execution_count": 19,
   "metadata": {},
   "outputs": [
    {
     "name": "stdout",
     "output_type": "stream",
     "text": [
      "array([[  0,  72,   3, -15,   6,   1],\n",
      "       [  1,   3, -60,   8,   9,  -4],\n",
      "       [ -3,  -2,   4,   5, -21,  18]])\n"
     ]
    }
   ],
   "source": [
    "print(repr(np.concatenate([arr1,arr2],axis= 1))) #  horizontally "
   ]
  },
  {
   "cell_type": "code",
   "execution_count": null,
   "metadata": {},
   "outputs": [],
   "source": []
  }
 ],
 "metadata": {
  "kernelspec": {
   "display_name": "Python 3",
   "language": "python",
   "name": "python3"
  },
  "language_info": {
   "codemirror_mode": {
    "name": "ipython",
    "version": 3
   },
   "file_extension": ".py",
   "mimetype": "text/x-python",
   "name": "python",
   "nbconvert_exporter": "python",
   "pygments_lexer": "ipython3",
   "version": "3.10.13"
  }
 },
 "nbformat": 4,
 "nbformat_minor": 2
}
