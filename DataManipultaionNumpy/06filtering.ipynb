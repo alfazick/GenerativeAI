{
 "cells": [
  {
   "cell_type": "code",
   "execution_count": 1,
   "metadata": {},
   "outputs": [],
   "source": [
    "# Filtering\n",
    "\n",
    "# 1. Filtering data\n",
    "# 2. Filtering in Numpy\n",
    "# 3. Axis-wise filtering\n",
    "\n",
    "import numpy as np"
   ]
  },
  {
   "cell_type": "code",
   "execution_count": 2,
   "metadata": {},
   "outputs": [
    {
     "name": "stdout",
     "output_type": "stream",
     "text": [
      "array([[False, False,  True],\n",
      "       [False,  True, False],\n",
      "       [False, False, False]])\n",
      "array([[False,  True,  True],\n",
      "       [ True,  True, False],\n",
      "       [False, False,  True]])\n",
      "array([[ True,  True,  True],\n",
      "       [False,  True,  True],\n",
      "       [ True,  True, False]])\n"
     ]
    }
   ],
   "source": [
    "# key idea: is a boolean mask behind filtering\n",
    "\n",
    "arr = np.array([[0, 2, 3],\n",
    "                [1, 3, -6],\n",
    "                [-3, -2, 1]])\n",
    "print(repr(arr == 3))\n",
    "print(repr(arr > 0))\n",
    "print(repr(arr != 1))"
   ]
  },
  {
   "cell_type": "code",
   "execution_count": 3,
   "metadata": {},
   "outputs": [
    {
     "name": "stdout",
     "output_type": "stream",
     "text": [
      "array([[False, False,  True],\n",
      "       [False,  True, False],\n",
      "       [ True, False, False]])\n"
     ]
    }
   ],
   "source": [
    "# only need to be careful with np.nan, which does'not alloq to use filtering,\n",
    "# np.isnan(arr) get's boolean where we have np.nan\n",
    "\n",
    "arr = np.array([[0, 2, np.nan],\n",
    "                [1, np.nan, -6],\n",
    "                [np.nan, -2, 1]])\n",
    "\n",
    "print(repr(np.isnan(arr)))"
   ]
  },
  {
   "cell_type": "code",
   "execution_count": 6,
   "metadata": {},
   "outputs": [
    {
     "name": "stdout",
     "output_type": "stream",
     "text": [
      "(array([0, 2]),)\n",
      "(array([1, 3]),)\n"
     ]
    }
   ],
   "source": [
    "# 2. Filtering so Numpy uses that boolean mask as a parameter within np.where function\n",
    "\n",
    "print(repr(np.where([True, False, True]))) # extracts indexes where true\n",
    "\n",
    "arr = np.array([0, 3, 5, 3, 1])\n",
    "print(repr(np.where(arr == 3)))\n"
   ]
  },
  {
   "cell_type": "code",
   "execution_count": 7,
   "metadata": {},
   "outputs": [
    {
     "name": "stdout",
     "output_type": "stream",
     "text": [
      "array([0, 0, 1, 2])\n",
      "array([1, 2, 0, 0])\n",
      "array([ 2,  3,  1, -3])\n"
     ]
    }
   ],
   "source": [
    "arr = np.array([[0, 2, 3],\n",
    "                [1, 0, 0],\n",
    "                [-3, 0, 0]])\n",
    "x_ind, y_ind = np.where(arr != 0)\n",
    "print(repr(x_ind)) # x indices of non-zero elements\n",
    "print(repr(y_ind)) # y indices of non-zero elements\n",
    "print(repr(arr[x_ind, y_ind]))"
   ]
  },
  {
   "cell_type": "code",
   "execution_count": 8,
   "metadata": {},
   "outputs": [
    {
     "name": "stdout",
     "output_type": "stream",
     "text": [
      "array([[ 1, -5],\n",
      "       [-1,  4]])\n",
      "array([[-2, -5],\n",
      "       [ 3,  4]])\n",
      "array([[-2, -5],\n",
      "       [-1, -8]])\n"
     ]
    }
   ],
   "source": [
    "np_filter = np.array([[True, False], [False, True]])\n",
    "positives = np.array([[1, 2], [3, 4]])\n",
    "negatives = np.array([[-2, -5], [-1, -8]])\n",
    "print(repr(np.where(np_filter, positives, negatives)))\n",
    "\n",
    "np_filter = positives > 2\n",
    "print(repr(np.where(np_filter, positives, negatives)))\n",
    "\n",
    "np_filter = negatives > 0\n",
    "print(repr(np.where(np_filter, positives, negatives)))\n",
    "\n",
    "# a bit convoluted,\n",
    "# with 1 parameter, it looks only for true\n",
    "# with 3 arguments, if it sees true it pick ups from positive(second argument), else from negatives(third argument)"
   ]
  },
  {
   "cell_type": "code",
   "execution_count": 10,
   "metadata": {},
   "outputs": [
    {
     "name": "stdout",
     "output_type": "stream",
     "text": [
      "array([[False, False, False],\n",
      "       [ True,  True, False],\n",
      "       [ True,  True,  True]])\n"
     ]
    }
   ],
   "source": [
    "# 3 Filtering based on axis\n",
    "arr = np.array([[-2, -1, -3],\n",
    "                [4, 5, -6],\n",
    "                [3, 9, 1]])\n",
    "\n",
    "print(repr(arr > 0))"
   ]
  },
  {
   "cell_type": "code",
   "execution_count": 11,
   "metadata": {},
   "outputs": [
    {
     "name": "stdout",
     "output_type": "stream",
     "text": [
      "True\n"
     ]
    }
   ],
   "source": [
    "print(np.any(arr > 0)) # any uses logical OR"
   ]
  },
  {
   "cell_type": "code",
   "execution_count": 12,
   "metadata": {},
   "outputs": [
    {
     "name": "stdout",
     "output_type": "stream",
     "text": [
      "False\n"
     ]
    }
   ],
   "source": [
    "print(np.all(arr > 0)) # all uses logical AND"
   ]
  },
  {
   "cell_type": "code",
   "execution_count": 13,
   "metadata": {},
   "outputs": [
    {
     "name": "stdout",
     "output_type": "stream",
     "text": [
      "array([[False, False, False],\n",
      "       [ True,  True, False],\n",
      "       [ True,  True,  True]])\n",
      "array([ True,  True,  True])\n",
      "array([False,  True,  True])\n",
      "array([False, False,  True])\n"
     ]
    }
   ],
   "source": [
    "arr = np.array([[-2, -1, -3],\n",
    "                [4, 5, -6],\n",
    "                [3, 9, 1]])\n",
    "print(repr(arr > 0))\n",
    "\n",
    "print(repr(np.any(arr > 0, axis=0)))\n",
    "\n",
    "print(repr(np.any(arr > 0, axis=1)))\n",
    "\n",
    "print(repr(np.all(arr > 0, axis=1)))"
   ]
  },
  {
   "cell_type": "code",
   "execution_count": 20,
   "metadata": {},
   "outputs": [
    {
     "name": "stdout",
     "output_type": "stream",
     "text": [
      "[False  True  True]\n",
      "array([[ 4,  5, -6],\n",
      "       [ 3,  9,  1]])\n"
     ]
    }
   ],
   "source": [
    "arr = np.array([[-2, -1, -3],\n",
    "                [4, 5, -6],\n",
    "                [3, 9, 1]])\n",
    "has_positive = np.any(arr > 0, axis=1) # try to change to all 0 = columnwise 1 = rowise\n",
    "print(has_positive)\n",
    "print(repr(arr[np.where(has_positive)]))"
   ]
  },
  {
   "cell_type": "code",
   "execution_count": null,
   "metadata": {},
   "outputs": [],
   "source": []
  }
 ],
 "metadata": {
  "kernelspec": {
   "display_name": "Python 3",
   "language": "python",
   "name": "python3"
  },
  "language_info": {
   "codemirror_mode": {
    "name": "ipython",
    "version": 3
   },
   "file_extension": ".py",
   "mimetype": "text/x-python",
   "name": "python",
   "nbconvert_exporter": "python",
   "pygments_lexer": "ipython3",
   "version": "3.10.13"
  }
 },
 "nbformat": 4,
 "nbformat_minor": 2
}
