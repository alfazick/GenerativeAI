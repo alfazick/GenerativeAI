{
 "cells": [
  {
   "cell_type": "code",
   "execution_count": 1,
   "metadata": {},
   "outputs": [],
   "source": [
    "# Random\n",
    "# Generate numbers and arrays from different random distributions.\n",
    "\n",
    "# 1. Random integers\n",
    "# 2. Utility functions\n",
    "# 3. Distributions\n",
    "# 4. Custom sampling\n",
    "\n",
    "\n",
    "import numpy as np"
   ]
  },
  {
   "cell_type": "code",
   "execution_count": 19,
   "metadata": {},
   "outputs": [
    {
     "name": "stdout",
     "output_type": "stream",
     "text": [
      "0\n",
      "0\n",
      "5\n",
      "array([[-2, -2],\n",
      "       [-1, -2]])\n"
     ]
    }
   ],
   "source": [
    "# 1. Random integers\n",
    "\n",
    "print(np.random.randint(5))\n",
    "print(np.random.randint(5))\n",
    "print(np.random.randint(5, high=6))\n",
    "\n",
    "random_arr = np.random.randint(-3, high=0, size = (2,2))\n",
    "print(repr(random_arr))"
   ]
  },
  {
   "cell_type": "code",
   "execution_count": null,
   "metadata": {},
   "outputs": [],
   "source": []
  },
  {
   "cell_type": "code",
   "execution_count": 21,
   "metadata": {},
   "outputs": [
    {
     "name": "stdout",
     "output_type": "stream",
     "text": [
      "5\n",
      "array([[15, 75],\n",
      "       [12, 78]])\n",
      "8\n",
      "array([[18, 75],\n",
      "       [25, 46]])\n",
      "5\n",
      "array([[15, 75],\n",
      "       [12, 78]])\n"
     ]
    }
   ],
   "source": [
    "# 2. Utility functions // for reproducability\n",
    "# seed and shuffle \n",
    "\n",
    "np.random.seed(1)\n",
    "\n",
    "print(np.random.randint(10))\n",
    "\n",
    "random_arr = np.random.randint(low = 3, high = 100, size = (2,2))\n",
    "print(repr(random_arr))\n",
    "\n",
    "# new seed\n",
    "np.random.seed(2)\n",
    "\n",
    "print(np.random.randint(10))\n",
    "\n",
    "random_arr = np.random.randint(low = 3, high = 100, size = (2,2))\n",
    "print(repr(random_arr))\n",
    "\n",
    "np.random.seed(1)\n",
    "\n",
    "print(np.random.randint(10))\n",
    "\n",
    "random_arr = np.random.randint(low = 3, high = 100, size = (2,2))\n",
    "print(repr(random_arr))\n",
    "\n",
    "\n"
   ]
  },
  {
   "cell_type": "code",
   "execution_count": 29,
   "metadata": {},
   "outputs": [
    {
     "name": "stdout",
     "output_type": "stream",
     "text": [
      "array([1, 5, 3, 4, 2])\n",
      "array([4, 2, 1, 5, 3])\n",
      "array([[1, 2, 3],\n",
      "       [7, 8, 9],\n",
      "       [4, 5, 6]])\n"
     ]
    }
   ],
   "source": [
    "# np.random.shuffle (happens in place) for multi-dimension -> only first dimension or rows effectively\n",
    "\n",
    "vec = np.array([1,2,3,4,5])\n",
    "np.random.shuffle(vec)\n",
    "print(repr(vec))\n",
    "np.random.shuffle(vec)\n",
    "print(repr(vec))\n",
    "\n",
    "matrix = np.array([[1, 2, 3],\n",
    "                   [4, 5, 6],\n",
    "                   [7, 8, 9]])\n",
    "np.random.shuffle(matrix)\n",
    "print(repr(matrix))"
   ]
  },
  {
   "cell_type": "code",
   "execution_count": 30,
   "metadata": {},
   "outputs": [
    {
     "name": "stdout",
     "output_type": "stream",
     "text": [
      "0.2936141483736795\n",
      "-0.691660751725309\n"
     ]
    }
   ],
   "source": [
    "# 3. Distributions (uniform,normal...)\n",
    "# https://docs.scipy.org/doc/numpy-1.14.1/reference/routines.random.html\n",
    "# you can set up loc = mean, scale = standard deviation \n",
    "\n",
    "print(np.random.uniform())\n",
    "print(np.random.normal())"
   ]
  },
  {
   "cell_type": "code",
   "execution_count": 32,
   "metadata": {},
   "outputs": [
    {
     "name": "stdout",
     "output_type": "stream",
     "text": [
      "1.011691471877597\n",
      "array([0.21162812, 0.26554666, 0.49157316])\n",
      "array([[-2.90372833,  1.93929373],\n",
      "       [-2.03542425,  2.08054149]])\n"
     ]
    }
   ],
   "source": [
    "print(np.random.uniform(low = -1.5, high = 2.2))\n",
    "\n",
    "print(repr(np.random.uniform(size = 3)))\n",
    "\n",
    "print(repr(np.random.uniform(low=-3.4,high=5.9,size = (2,2))))"
   ]
  },
  {
   "cell_type": "code",
   "execution_count": 34,
   "metadata": {},
   "outputs": [
    {
     "name": "stdout",
     "output_type": "stream",
     "text": [
      "0.11136265600407924\n",
      "array([[-4.83994102, -1.17435048],\n",
      "       [ 4.36730451, -5.39181497]])\n"
     ]
    }
   ],
   "source": [
    "# Normal\n",
    "print(np.random.normal(loc=1.5,scale=3.5))\n",
    "\n",
    "print(repr(np.random.normal(loc=-2.4, scale = 4.0,size = (2,2))))"
   ]
  },
  {
   "cell_type": "code",
   "execution_count": 35,
   "metadata": {},
   "outputs": [
    {
     "name": "stdout",
     "output_type": "stream",
     "text": [
      "red\n",
      "array(['red', 'blue'], dtype='<U5')\n"
     ]
    }
   ],
   "source": [
    "# 4. Custom sampling\n",
    "\n",
    "colors = [\"red\",\"blue\",\"green\"]\n",
    "\n",
    "print(np.random.choice(colors))\n",
    "\n",
    "print(repr(np.random.choice(colors, size = 2)))\n"
   ]
  },
  {
   "cell_type": "code",
   "execution_count": 40,
   "metadata": {},
   "outputs": [
    {
     "name": "stdout",
     "output_type": "stream",
     "text": [
      "array(['red', 'red', 'red', 'red', 'red', 'blue', 'red', 'red', 'red',\n",
      "       'red', 'red', 'red', 'red', 'red', 'blue', 'red', 'red', 'red',\n",
      "       'red', 'red', 'red', 'red', 'red', 'red', 'red', 'red', 'blue',\n",
      "       'red', 'blue', 'red', 'blue', 'blue', 'red', 'blue', 'red', 'red',\n",
      "       'red', 'red', 'red', 'red', 'red', 'red', 'red', 'blue', 'red',\n",
      "       'red', 'red', 'red', 'red', 'red', 'blue', 'red', 'red', 'red',\n",
      "       'red', 'red', 'red', 'red', 'red', 'blue', 'blue', 'red', 'red',\n",
      "       'red', 'blue', 'red', 'red', 'red', 'red', 'red', 'red', 'red',\n",
      "       'red', 'red', 'red', 'red', 'blue', 'blue', 'blue', 'red', 'red',\n",
      "       'red', 'blue', 'red', 'red', 'red', 'red', 'red', 'red', 'red',\n",
      "       'red', 'green', 'red', 'red', 'red', 'red', 'red', 'red', 'red',\n",
      "       'red'], dtype='<U5')\n"
     ]
    }
   ],
   "source": [
    "# or like super fintuned\n",
    "print(repr(np.random.choice(colors,size = (100), p = [0.8,0.19,0.01])))\n",
    "# p set up probability red = 0.8, blue = 0.19, green = 0.01, by default probabilities are equal"
   ]
  },
  {
   "cell_type": "code",
   "execution_count": null,
   "metadata": {},
   "outputs": [],
   "source": []
  }
 ],
 "metadata": {
  "kernelspec": {
   "display_name": "Python 3",
   "language": "python",
   "name": "python3"
  },
  "language_info": {
   "codemirror_mode": {
    "name": "ipython",
    "version": 3
   },
   "file_extension": ".py",
   "mimetype": "text/x-python",
   "name": "python",
   "nbconvert_exporter": "python",
   "pygments_lexer": "ipython3",
   "version": "3.10.13"
  }
 },
 "nbformat": 4,
 "nbformat_minor": 2
}
