{
 "cells": [
  {
   "cell_type": "code",
   "execution_count": 1,
   "metadata": {},
   "outputs": [],
   "source": [
    "# Numpy Basics\n",
    "\n",
    "# Perform basic operatioms to create and modify Numpy arrays\n",
    "\n",
    "# 1. Ranged data\n",
    "# 2. Reshaping data\n",
    "# 3. Transposing data\n",
    "# 4. Zeros and ones"
   ]
  },
  {
   "cell_type": "code",
   "execution_count": 2,
   "metadata": {},
   "outputs": [
    {
     "name": "stdout",
     "output_type": "stream",
     "text": [
      "array([0, 1, 2, 3, 4])\n"
     ]
    }
   ],
   "source": [
    "#  1. Ranged Data\n",
    "import numpy as np\n",
    "# np.arange() -> return 1d array\n",
    "\n",
    "arr = np.arange(5)\n",
    "\n",
    "print(repr(arr))"
   ]
  },
  {
   "cell_type": "code",
   "execution_count": 3,
   "metadata": {},
   "outputs": [
    {
     "name": "stdout",
     "output_type": "stream",
     "text": [
      "array([0., 1., 2., 3., 4., 5.])\n",
      "array([-1,  0,  1,  2,  3])\n",
      "array([-1.5,  0.5,  2.5])\n"
     ]
    }
   ],
   "source": [
    "arr = np.arange(5.1)\n",
    "print(repr(arr))\n",
    "\n",
    "arr = np.arange(-1,4)\n",
    "print(repr(arr))\n",
    "\n",
    "arr = np.arange(-1.5,4,2)\n",
    "print(repr(arr))"
   ]
  },
  {
   "cell_type": "code",
   "execution_count": 4,
   "metadata": {},
   "outputs": [
    {
     "name": "stdout",
     "output_type": "stream",
     "text": [
      "array([ 5.,  7.,  9., 11.])\n",
      "array([5. , 6.5, 8. , 9.5])\n",
      "array([ 5,  7,  9, 11], dtype=int32)\n"
     ]
    }
   ],
   "source": [
    "# To specify number of elements, rather step size, we can use np.linspace start,end,end inclusive by default\n",
    "\n",
    "arr = np.linspace(5,11, num =4)\n",
    "print(repr(arr))\n",
    "\n",
    "arr = np.linspace(5,11,num=4,endpoint=False)\n",
    "print(repr(arr))\n",
    "\n",
    "arr = np.linspace(5,11,num=4,dtype=np.int32)\n",
    "print(repr(arr))"
   ]
  },
  {
   "cell_type": "code",
   "execution_count": 5,
   "metadata": {},
   "outputs": [
    {
     "name": "stdout",
     "output_type": "stream",
     "text": [
      "array([[0, 1, 2, 3],\n",
      "       [4, 5, 6, 7]])\n",
      "New shape: (2, 4)\n",
      "array([[[0, 1],\n",
      "        [2, 3]],\n",
      "\n",
      "       [[4, 5],\n",
      "        [6, 7]]])\n",
      "New shape: (2, 2, 2)\n"
     ]
    }
   ],
   "source": [
    "# 2. Reshaping data\n",
    "\n",
    "arr = np.arange(8)\n",
    "\n",
    "reshaped_arr = np.reshape(arr, (2,4))\n",
    "print(repr(reshaped_arr))\n",
    "print(\"New shape: {}\".format(reshaped_arr.shape))\n",
    "\n",
    "reshaped_arr = np.reshape(arr, (-1,2,2))\n",
    "print(repr(reshaped_arr))\n",
    "print(\"New shape: {}\".format(reshaped_arr.shape))\n"
   ]
  },
  {
   "cell_type": "code",
   "execution_count": 6,
   "metadata": {},
   "outputs": [
    {
     "name": "stdout",
     "output_type": "stream",
     "text": [
      "array([[0, 1, 2, 3],\n",
      "       [4, 5, 6, 7]])\n",
      "arr shape: (2, 4)\n",
      "array([0, 1, 2, 3, 4, 5, 6, 7])\n",
      "flattened shape: (8,)\n"
     ]
    }
   ],
   "source": [
    "# flatten data\n",
    "arr = np.arange(8)\n",
    "arr = np.reshape(arr, (2,4))\n",
    "flattened = arr.flatten()\n",
    "print(repr(arr))\n",
    "print('arr shape: {}'.format(arr.shape))\n",
    "print(repr(flattened))\n",
    "print('flattened shape: {}'.format(flattened.shape))\n",
    "\n"
   ]
  },
  {
   "cell_type": "code",
   "execution_count": 8,
   "metadata": {},
   "outputs": [
    {
     "name": "stdout",
     "output_type": "stream",
     "text": [
      "array([[0, 1],\n",
      "       [2, 3],\n",
      "       [4, 5],\n",
      "       [6, 7]])\n",
      "arr shape: (4, 2)\n",
      "array([[0, 2, 4, 6],\n",
      "       [1, 3, 5, 7]])\n",
      "transposed shape: (2, 4)\n"
     ]
    }
   ],
   "source": [
    "# 3. Transposing the data\n",
    "\n",
    "# np.transpose // rows become columns\n",
    "arr = np.arange(8)\n",
    "arr = np.reshape(arr, (4,2))\n",
    "transposed = np.transpose(arr)\n",
    "\n",
    "print(repr(arr))\n",
    "print('arr shape: {}'.format(arr.shape))\n",
    "print(repr(transposed))\n",
    "print('transposed shape: {}'.format(transposed.shape))"
   ]
  },
  {
   "cell_type": "code",
   "execution_count": 19,
   "metadata": {},
   "outputs": [
    {
     "name": "stdout",
     "output_type": "stream",
     "text": [
      "arr shape: (2, 12)\n",
      "array([[ 0,  1,  2,  3,  4,  5,  6,  7,  8,  9, 10, 11],\n",
      "       [12, 13, 14, 15, 16, 17, 18, 19, 20, 21, 22, 23]])\n",
      "transposed shape: (12, 2)\n",
      "array([[ 0, 12],\n",
      "       [ 1, 13],\n",
      "       [ 2, 14],\n",
      "       [ 3, 15],\n",
      "       [ 4, 16],\n",
      "       [ 5, 17],\n",
      "       [ 6, 18],\n",
      "       [ 7, 19],\n",
      "       [ 8, 20],\n",
      "       [ 9, 21],\n",
      "       [10, 22],\n",
      "       [11, 23]])\n"
     ]
    }
   ],
   "source": [
    "arr = np.arange(24)\n",
    "arr = np.reshape(arr, (2, 12))\n",
    "transposed = np.transpose(arr, axes=(1,0))\n",
    "print('arr shape: {}'.format(arr.shape))\n",
    "print(repr(arr))\n",
    "print('transposed shape: {}'.format(transposed.shape))\n",
    "print(repr(transposed))"
   ]
  },
  {
   "cell_type": "code",
   "execution_count": 20,
   "metadata": {},
   "outputs": [
    {
     "name": "stdout",
     "output_type": "stream",
     "text": [
      "array([0., 0., 0., 0.])\n",
      "array([[1., 1., 1.],\n",
      "       [1., 1., 1.]])\n",
      "array([[1, 1, 1],\n",
      "       [1, 1, 1]], dtype=int32)\n"
     ]
    }
   ],
   "source": [
    "# 4. Zeros and ones\n",
    "\n",
    "arr = np.zeros(4)\n",
    "print(repr(arr))\n",
    "\n",
    "arr = np.ones((2,3))\n",
    "print(repr(arr))\n",
    "\n",
    "arr = np.ones((2,3), dtype = np.int32)\n",
    "print(repr(arr))"
   ]
  },
  {
   "cell_type": "code",
   "execution_count": 21,
   "metadata": {},
   "outputs": [
    {
     "name": "stdout",
     "output_type": "stream",
     "text": [
      "array([[0, 0],\n",
      "       [0, 0]])\n",
      "array([[1., 1.],\n",
      "       [1., 1.]])\n",
      "array([[1, 1],\n",
      "       [1, 1]], dtype=int32)\n"
     ]
    }
   ],
   "source": [
    "# take a shape of another array\n",
    "\n",
    "arr = np.array([[1, 2], [3, 4]])\n",
    "print(repr(np.zeros_like(arr)))\n",
    "\n",
    "arr = np.array([[0., 1.], [1.2, 4.]])\n",
    "print(repr(np.ones_like(arr)))\n",
    "print(repr(np.ones_like(arr, dtype=np.int32)))"
   ]
  },
  {
   "cell_type": "code",
   "execution_count": null,
   "metadata": {},
   "outputs": [],
   "source": []
  }
 ],
 "metadata": {
  "kernelspec": {
   "display_name": "Python 3",
   "language": "python",
   "name": "python3"
  },
  "language_info": {
   "codemirror_mode": {
    "name": "ipython",
    "version": 3
   },
   "file_extension": ".py",
   "mimetype": "text/x-python",
   "name": "python",
   "nbconvert_exporter": "python",
   "pygments_lexer": "ipython3",
   "version": "3.10.13"
  }
 },
 "nbformat": 4,
 "nbformat_minor": 2
}
