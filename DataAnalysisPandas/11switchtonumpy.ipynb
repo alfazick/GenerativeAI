{
 "cells": [
  {
   "cell_type": "code",
   "execution_count": 1,
   "metadata": {},
   "outputs": [],
   "source": [
    "# How to move from DF to 2-D Numpy\n",
    "\n",
    "# A Machine Learning frameworks work on numpy, so even more categorical data need to be converted to numeric\n",
    "\n",
    "# the basic idea is to encode each category to like one hot encoding in pandas it's done with get_dummies function\n",
    "\n",
    "import pandas as pd\n",
    "import numpy as np "
   ]
  },
  {
   "cell_type": "code",
   "execution_count": 2,
   "metadata": {},
   "outputs": [
    {
     "name": "stdout",
     "output_type": "stream",
     "text": [
      "  Animal  Color  Age\n",
      "0    Dog  Black    3\n",
      "1    Cat  White    2\n",
      "2   Bird  Black    1\n",
      "3    Dog  Brown    5\n",
      "4    Cat  Black    2\n"
     ]
    }
   ],
   "source": [
    "\n",
    "# Creating a simple DataFrame\n",
    "data = {\n",
    "    'Animal': ['Dog', 'Cat', 'Bird', 'Dog', 'Cat'],\n",
    "    'Color': ['Black', 'White', 'Black', 'Brown', 'Black'],\n",
    "    'Age': [3, 2, 1, 5, 2]  # Including a numeric column for variety\n",
    "}\n",
    "\n",
    "df = pd.DataFrame(data)\n",
    "\n",
    "print(df)"
   ]
  },
  {
   "cell_type": "code",
   "execution_count": 10,
   "metadata": {},
   "outputs": [
    {
     "name": "stdout",
     "output_type": "stream",
     "text": [
      "Index(['Age', 'Animal_Bird', 'Animal_Cat', 'Animal_Dog', 'Color_Black',\n",
      "       'Color_Brown', 'Color_White'],\n",
      "      dtype='object')\n",
      "   Age  Animal_Bird  Animal_Cat  Animal_Dog  Color_Black  Color_Brown  \\\n",
      "0    3            0           0           1            1            0   \n",
      "1    2            0           1           0            0            0   \n",
      "2    1            1           0           0            1            0   \n",
      "3    5            0           0           1            0            1   \n",
      "4    2            0           1           0            1            0   \n",
      "\n",
      "   Color_White  \n",
      "0            0  \n",
      "1            1  \n",
      "2            0  \n",
      "3            0  \n",
      "4            0  \n"
     ]
    }
   ],
   "source": [
    "df_encoded = pd.get_dummies(df, columns=[\"Animal\",\"Color\"]).astype(int)\n",
    "\n",
    "print(df_encoded.columns)\n",
    "print(df_encoded)"
   ]
  },
  {
   "cell_type": "code",
   "execution_count": 11,
   "metadata": {},
   "outputs": [
    {
     "name": "stdout",
     "output_type": "stream",
     "text": [
      "[['Dog' 'Black' 3]\n",
      " ['Cat' 'White' 2]\n",
      " ['Bird' 'Black' 1]\n",
      " ['Dog' 'Brown' 5]\n",
      " ['Cat' 'Black' 2]]\n"
     ]
    }
   ],
   "source": [
    "# convert to numpy\n",
    "\n",
    "n_matrix = df.values\n",
    "print(n_matrix)"
   ]
  },
  {
   "cell_type": "code",
   "execution_count": 13,
   "metadata": {},
   "outputs": [
    {
     "name": "stdout",
     "output_type": "stream",
     "text": [
      "[[3 0 0 1 1 0 0]\n",
      " [2 0 1 0 0 0 1]\n",
      " [1 1 0 0 1 0 0]\n",
      " [5 0 0 1 0 1 0]\n",
      " [2 0 1 0 1 0 0]]\n"
     ]
    }
   ],
   "source": [
    "n_matrix = df_encoded.values\n",
    "print(n_matrix) # note obviosuly you see so called \"curse of dimensionality\" :)"
   ]
  },
  {
   "cell_type": "code",
   "execution_count": null,
   "metadata": {},
   "outputs": [],
   "source": []
  }
 ],
 "metadata": {
  "kernelspec": {
   "display_name": "Python 3",
   "language": "python",
   "name": "python3"
  },
  "language_info": {
   "codemirror_mode": {
    "name": "ipython",
    "version": 3
   },
   "file_extension": ".py",
   "mimetype": "text/x-python",
   "name": "python",
   "nbconvert_exporter": "python",
   "pygments_lexer": "ipython3",
   "version": "3.10.13"
  }
 },
 "nbformat": 4,
 "nbformat_minor": 2
}
