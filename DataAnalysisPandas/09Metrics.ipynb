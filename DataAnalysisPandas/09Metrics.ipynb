{
 "cells": [
  {
   "cell_type": "code",
   "execution_count": 2,
   "metadata": {},
   "outputs": [],
   "source": [
    "# Statistical metrics fro data\n",
    "\n",
    "# 1. Numeruc metrics, describe function calculates\n",
    "\n",
    "# Metric\tDescription\n",
    "# count\tThe number of rows in the DataFrame\n",
    "# mean\tThe mean value for a feature\n",
    "# std\tThe standard deviation for a feature\n",
    "# min\tThe minimum value in a feature\n",
    "# 25%\tThe 25th percentile of a feature\n",
    "# 50%\tThe 50th percentile of a feature. Note that this is identical to the median\n",
    "# 75%\tThe 75th percentile of a feature\n",
    "# max\tThe maximum value in a feature\n",
    "\n",
    "import pandas as pd"
   ]
  },
  {
   "cell_type": "code",
   "execution_count": 3,
   "metadata": {},
   "outputs": [],
   "source": [
    "df = pd.read_csv(\"dummy_numeric.csv\")"
   ]
  },
  {
   "cell_type": "code",
   "execution_count": 4,
   "metadata": {},
   "outputs": [
    {
     "name": "stdout",
     "output_type": "stream",
     "text": [
      "    Feature_1  Feature_2  Feature_3\n",
      "0    1.764052   8.766301         35\n",
      "1    0.400157   2.304482         58\n",
      "2    0.978738   2.459030         49\n",
      "3    2.240893   6.938793         73\n",
      "4    1.867558   2.653753         44\n",
      "..        ...        ...        ...\n",
      "95   0.706573   4.656907         60\n",
      "96   0.010500   6.543581         33\n",
      "97   1.785870   6.647008         28\n",
      "98   0.126912   9.326472         68\n",
      "99   0.401989   7.673056         26\n",
      "\n",
      "[100 rows x 3 columns]\n"
     ]
    }
   ],
   "source": [
    "print(df)"
   ]
  },
  {
   "cell_type": "code",
   "execution_count": 5,
   "metadata": {},
   "outputs": [
    {
     "name": "stdout",
     "output_type": "stream",
     "text": [
      "        Feature_1   Feature_2   Feature_3\n",
      "count  100.000000  100.000000  100.000000\n",
      "mean     0.059808    5.164026   46.430000\n",
      "std      1.012960    2.079759   29.855292\n",
      "min     -2.552990    0.553194    0.000000\n",
      "25%     -0.643857    3.509140   21.500000\n",
      "50%      0.094096    5.049310   43.000000\n",
      "75%      0.737077    6.694960   70.250000\n",
      "max      2.269755    9.766290   99.000000\n"
     ]
    }
   ],
   "source": [
    "metrics1 = df.describe()\n",
    "print(metrics1)"
   ]
  },
  {
   "cell_type": "code",
   "execution_count": 6,
   "metadata": {},
   "outputs": [
    {
     "name": "stdout",
     "output_type": "stream",
     "text": [
      "        Feature_1   Feature_2\n",
      "count  100.000000  100.000000\n",
      "mean     0.059808    5.164026\n",
      "std      1.012960    2.079759\n",
      "min     -2.552990    0.553194\n",
      "25%     -0.643857    3.509140\n",
      "50%      0.094096    5.049310\n",
      "75%      0.737077    6.694960\n",
      "max      2.269755    9.766290\n"
     ]
    }
   ],
   "source": [
    "f1_f2 = df[[\"Feature_1\",\"Feature_2\"]]\n",
    "metrics2 = f1_f2.describe()\n",
    "\n",
    "print(metrics2)"
   ]
  },
  {
   "cell_type": "code",
   "execution_count": 12,
   "metadata": {},
   "outputs": [
    {
     "name": "stdout",
     "output_type": "stream",
     "text": [
      "    Feature_1\n",
      "0    1.764052\n",
      "1    0.400157\n",
      "2    0.978738\n",
      "3    2.240893\n",
      "4    1.867558\n",
      "..        ...\n",
      "95   0.706573\n",
      "96   0.010500\n",
      "97   1.785870\n",
      "98   0.126912\n",
      "99   0.401989\n",
      "\n",
      "[100 rows x 1 columns]\n"
     ]
    }
   ],
   "source": [
    "# we can specify percintile we are interested into beside common ones\n",
    "\n",
    "f1 = df[[\"Feature_1\",]]\n",
    "print(f1)\n"
   ]
  },
  {
   "cell_type": "code",
   "execution_count": 13,
   "metadata": {},
   "outputs": [
    {
     "name": "stdout",
     "output_type": "stream",
     "text": [
      "        Feature_1\n",
      "count  100.000000\n",
      "mean     0.059808\n",
      "std      1.012960\n",
      "min     -2.552990\n",
      "10%     -1.236623\n",
      "50%      0.094096\n",
      "max      2.269755\n"
     ]
    }
   ],
   "source": [
    "metrics = f1.describe(percentiles=[.1]) # 10 % \n",
    "print(metrics)"
   ]
  },
  {
   "cell_type": "code",
   "execution_count": 14,
   "metadata": {},
   "outputs": [
    {
     "name": "stdout",
     "output_type": "stream",
     "text": [
      "        Feature_1\n",
      "count  100.000000\n",
      "mean     0.059808\n",
      "std      1.012960\n",
      "min     -2.552990\n",
      "20%     -0.857436\n",
      "50%      0.094096\n",
      "80%      0.955399\n",
      "max      2.269755\n"
     ]
    }
   ],
   "source": [
    "metrics = f1.describe(percentiles=[.2,.8]) # 20% and 80% \n",
    "print(metrics)\n",
    "\n",
    "# 50% or median always returned"
   ]
  },
  {
   "cell_type": "code",
   "execution_count": 15,
   "metadata": {},
   "outputs": [
    {
     "name": "stdout",
     "output_type": "stream",
     "text": [
      "    Feature_1  Feature_2  Feature_3\n",
      "0    1.764052   8.766301         35\n",
      "1    0.400157   2.304482         58\n",
      "2    0.978738   2.459030         49\n",
      "3    2.240893   6.938793         73\n",
      "4    1.867558   2.653753         44\n",
      "..        ...        ...        ...\n",
      "95   0.706573   4.656907         60\n",
      "96   0.010500   6.543581         33\n",
      "97   1.785870   6.647008         28\n",
      "98   0.126912   9.326472         68\n",
      "99   0.401989   7.673056         26\n",
      "\n",
      "[100 rows x 3 columns]\n"
     ]
    }
   ],
   "source": [
    "# 2. Categorical features\n",
    "\n",
    "print(df)"
   ]
  },
  {
   "cell_type": "code",
   "execution_count": 18,
   "metadata": {},
   "outputs": [
    {
     "name": "stdout",
     "output_type": "stream",
     "text": [
      "    Feature_1  Feature_2  Feature_3            Categorical\n",
      "0    1.764052   8.766301         35           Less than 50\n",
      "1    0.400157   2.304482         58  Equal or more than 50\n",
      "2    0.978738   2.459030         49           Less than 50\n",
      "3    2.240893   6.938793         73  Equal or more than 50\n",
      "4    1.867558   2.653753         44           Less than 50\n",
      "..        ...        ...        ...                    ...\n",
      "95   0.706573   4.656907         60  Equal or more than 50\n",
      "96   0.010500   6.543581         33           Less than 50\n",
      "97   1.785870   6.647008         28           Less than 50\n",
      "98   0.126912   9.326472         68  Equal or more than 50\n",
      "99   0.401989   7.673056         26           Less than 50\n",
      "\n",
      "[100 rows x 4 columns]\n"
     ]
    }
   ],
   "source": [
    "def create_label(num):\n",
    "    if num < 50:\n",
    "        return \"Less than 50\"\n",
    "    return \"Equal or more than 50\"\n",
    "\n",
    "\n",
    "df[\"Categorical\"] = df[\"Feature_3\"].apply(create_label)\n",
    "\n",
    "print(df)\n",
    "\n"
   ]
  },
  {
   "cell_type": "code",
   "execution_count": 20,
   "metadata": {},
   "outputs": [
    {
     "name": "stdout",
     "output_type": "stream",
     "text": [
      "Categorical\n",
      "Less than 50             55\n",
      "Equal or more than 50    45\n",
      "Name: count, dtype: int64\n"
     ]
    }
   ],
   "source": [
    "category = df[\"Categorical\"]\n",
    "\n",
    "print(category.value_counts())"
   ]
  },
  {
   "cell_type": "code",
   "execution_count": 21,
   "metadata": {},
   "outputs": [
    {
     "name": "stdout",
     "output_type": "stream",
     "text": [
      "Categorical\n",
      "Less than 50             0.55\n",
      "Equal or more than 50    0.45\n",
      "Name: proportion, dtype: float64\n"
     ]
    }
   ],
   "source": [
    "print(category.value_counts(normalize=True))"
   ]
  },
  {
   "cell_type": "code",
   "execution_count": 23,
   "metadata": {},
   "outputs": [
    {
     "name": "stdout",
     "output_type": "stream",
     "text": [
      "Categorical\n",
      "Equal or more than 50    45\n",
      "Less than 50             55\n",
      "Name: count, dtype: int64\n"
     ]
    }
   ],
   "source": [
    "print(category.value_counts(ascending=True))"
   ]
  },
  {
   "cell_type": "code",
   "execution_count": 24,
   "metadata": {},
   "outputs": [
    {
     "name": "stdout",
     "output_type": "stream",
     "text": [
      "['Less than 50' 'Equal or more than 50']\n"
     ]
    }
   ],
   "source": [
    "print(category.unique())"
   ]
  },
  {
   "cell_type": "code",
   "execution_count": null,
   "metadata": {},
   "outputs": [],
   "source": []
  }
 ],
 "metadata": {
  "kernelspec": {
   "display_name": "Python 3",
   "language": "python",
   "name": "python3"
  },
  "language_info": {
   "codemirror_mode": {
    "name": "ipython",
    "version": 3
   },
   "file_extension": ".py",
   "mimetype": "text/x-python",
   "name": "python",
   "nbconvert_exporter": "python",
   "pygments_lexer": "ipython3",
   "version": "3.10.13"
  }
 },
 "nbformat": 4,
 "nbformat_minor": 2
}
