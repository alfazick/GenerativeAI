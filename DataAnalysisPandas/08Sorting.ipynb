{
 "cells": [
  {
   "cell_type": "code",
   "execution_count": 1,
   "metadata": {},
   "outputs": [],
   "source": [
    "# 1. Sorting by column\n",
    "\n",
    "import pandas as pd \n",
    "import numpy as np\n",
    "\n",
    "# Creating a simple pandas DataFrame\n",
    "np.random.seed(0)  # For reproducibility\n",
    "data = {\n",
    "    'A': np.random.randint(1, 100, 10),\n",
    "    'B': np.random.normal(50, 15, 10),\n",
    "    'C': np.random.choice(['X', 'Y', 'Z'], 10)\n",
    "}\n",
    "\n",
    "df = pd.DataFrame(data)\n"
   ]
  },
  {
   "cell_type": "code",
   "execution_count": 3,
   "metadata": {},
   "outputs": [
    {
     "name": "stdout",
     "output_type": "stream",
     "text": [
      "    A          B  C\n",
      "0  45  68.991778  X\n",
      "1  48  42.411852  Y\n",
      "2  65  88.178012  Y\n",
      "3  68  66.212179  Y\n",
      "4  68  57.264682  X\n",
      "5  10  58.687107  Z\n",
      "6  84  47.276261  X\n",
      "7  22  71.153069  Z\n",
      "8  37  44.382925  Z\n",
      "9  88  54.127975  X\n"
     ]
    }
   ],
   "source": [
    "print(df)"
   ]
  },
  {
   "cell_type": "code",
   "execution_count": 4,
   "metadata": {},
   "outputs": [
    {
     "name": "stdout",
     "output_type": "stream",
     "text": [
      "    A          B  C\n",
      "5  10  58.687107  Z\n",
      "7  22  71.153069  Z\n",
      "8  37  44.382925  Z\n",
      "0  45  68.991778  X\n",
      "1  48  42.411852  Y\n",
      "2  65  88.178012  Y\n",
      "3  68  66.212179  Y\n",
      "4  68  57.264682  X\n",
      "6  84  47.276261  X\n",
      "9  88  54.127975  X\n"
     ]
    }
   ],
   "source": [
    "sort1 = df.sort_values(\"A\")\n",
    "print(sort1)"
   ]
  },
  {
   "cell_type": "code",
   "execution_count": 6,
   "metadata": {},
   "outputs": [
    {
     "name": "stdout",
     "output_type": "stream",
     "text": [
      "    A          B  C\n",
      "2  65  88.178012  Y\n",
      "7  22  71.153069  Z\n",
      "0  45  68.991778  X\n",
      "3  68  66.212179  Y\n",
      "5  10  58.687107  Z\n",
      "4  68  57.264682  X\n",
      "9  88  54.127975  X\n",
      "6  84  47.276261  X\n",
      "8  37  44.382925  Z\n",
      "1  48  42.411852  Y\n"
     ]
    }
   ],
   "source": [
    "sort2 = df.sort_values(\"B\",ascending=False)\n",
    "print(sort2)"
   ]
  },
  {
   "cell_type": "code",
   "execution_count": 7,
   "metadata": {},
   "outputs": [
    {
     "name": "stdout",
     "output_type": "stream",
     "text": [
      "    A          B  C\n",
      "0  45  68.991778  X\n",
      "1  48  42.411852  Y\n",
      "2  65  88.178012  Y\n",
      "3  68  66.212179  Y\n",
      "4  68  57.264682  X\n",
      "5  10  58.687107  Z\n",
      "6  84  47.276261  X\n",
      "7  22  71.153069  Z\n",
      "8  37  44.382925  Z\n",
      "9  88  54.127975  X\n"
     ]
    }
   ],
   "source": [
    "# if you need to sort by multiple columns, order is important, on break ties \n",
    "\n",
    "print(df)"
   ]
  },
  {
   "cell_type": "code",
   "execution_count": 8,
   "metadata": {},
   "outputs": [
    {
     "name": "stdout",
     "output_type": "stream",
     "text": [
      "    A          B  C\n",
      "5  10  58.687107  Z\n",
      "7  22  71.153069  Z\n",
      "8  37  44.382925  Z\n",
      "0  45  68.991778  X\n",
      "1  48  42.411852  Y\n",
      "2  65  88.178012  Y\n",
      "4  68  57.264682  X\n",
      "3  68  66.212179  Y\n",
      "6  84  47.276261  X\n",
      "9  88  54.127975  X\n"
     ]
    }
   ],
   "source": [
    "sort1 = df.sort_values([\"A\",\"B\"])\n",
    "print(sort1)"
   ]
  },
  {
   "cell_type": "code",
   "execution_count": 9,
   "metadata": {},
   "outputs": [
    {
     "name": "stdout",
     "output_type": "stream",
     "text": [
      "    A          B  C\n",
      "1  48  42.411852  Y\n",
      "8  37  44.382925  Z\n",
      "6  84  47.276261  X\n",
      "9  88  54.127975  X\n",
      "4  68  57.264682  X\n",
      "5  10  58.687107  Z\n",
      "3  68  66.212179  Y\n",
      "0  45  68.991778  X\n",
      "7  22  71.153069  Z\n",
      "2  65  88.178012  Y\n"
     ]
    }
   ],
   "source": [
    "sort2 = df.sort_values([\"B\",\"A\"])\n",
    "print(sort2)"
   ]
  },
  {
   "cell_type": "code",
   "execution_count": 10,
   "metadata": {},
   "outputs": [
    {
     "name": "stdout",
     "output_type": "stream",
     "text": [
      "    A          B  C\n",
      "5  10  58.687107  Z\n",
      "7  22  71.153069  Z\n",
      "8  37  44.382925  Z\n",
      "0  45  68.991778  X\n",
      "1  48  42.411852  Y\n",
      "2  65  88.178012  Y\n",
      "3  68  66.212179  Y\n",
      "4  68  57.264682  X\n",
      "6  84  47.276261  X\n",
      "9  88  54.127975  X\n"
     ]
    }
   ],
   "source": [
    "sort3 = df.sort_values([\"A\",\"B\"],ascending=[True,False])\n",
    "print(sort3)"
   ]
  },
  {
   "cell_type": "code",
   "execution_count": null,
   "metadata": {},
   "outputs": [],
   "source": []
  }
 ],
 "metadata": {
  "kernelspec": {
   "display_name": "Python 3",
   "language": "python",
   "name": "python3"
  },
  "language_info": {
   "codemirror_mode": {
    "name": "ipython",
    "version": 3
   },
   "file_extension": ".py",
   "mimetype": "text/x-python",
   "name": "python",
   "nbconvert_exporter": "python",
   "pygments_lexer": "ipython3",
   "version": "3.10.13"
  }
 },
 "nbformat": 4,
 "nbformat_minor": 2
}
