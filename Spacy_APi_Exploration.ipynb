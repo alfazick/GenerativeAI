{
  "nbformat": 4,
  "nbformat_minor": 0,
  "metadata": {
    "colab": {
      "provenance": []
    },
    "kernelspec": {
      "name": "python3",
      "display_name": "Python 3"
    },
    "language_info": {
      "name": "python"
    }
  },
  "cells": [
    {
      "cell_type": "code",
      "source": [
        "import os\n",
        "os.environ['TF_CPP_MIN_LOG_LEVEL'] = '3'"
      ],
      "metadata": {
        "id": "taI8xKx98tvm"
      },
      "execution_count": 3,
      "outputs": []
    },
    {
      "cell_type": "code",
      "source": [],
      "metadata": {
        "id": "zMYiESva9YHb"
      },
      "execution_count": 3,
      "outputs": []
    },
    {
      "cell_type": "code",
      "execution_count": 5,
      "metadata": {
        "colab": {
          "base_uri": "https://localhost:8080/",
          "height": 420
        },
        "outputId": "af12d26e-f7f2-48ff-ae01-0ffc1f27bc08",
        "id": "sCqVFmXh9ce5"
      },
      "outputs": [
        {
          "output_type": "display_data",
          "data": {
            "text/plain": [
              "<IPython.core.display.HTML object>"
            ],
            "text/html": [
              "<span class=\"tex2jax_ignore\"><svg xmlns=\"http://www.w3.org/2000/svg\" xmlns:xlink=\"http://www.w3.org/1999/xlink\" xml:lang=\"en\" id=\"5facb912d72d4aa88485f0014caef8fd-0\" class=\"displacy\" width=\"750\" height=\"399.5\" direction=\"ltr\" style=\"max-width: none; height: 399.5px; color: #000000; background: #ffffff; font-family: Arial; direction: ltr\">\n",
              "<text class=\"displacy-token\" fill=\"currentColor\" text-anchor=\"middle\" y=\"309.5\">\n",
              "    <tspan class=\"displacy-word\" fill=\"currentColor\" x=\"50\">1823</tspan>\n",
              "    <tspan class=\"displacy-tag\" dy=\"2em\" fill=\"currentColor\" x=\"50\">NUM</tspan>\n",
              "</text>\n",
              "\n",
              "<text class=\"displacy-token\" fill=\"currentColor\" text-anchor=\"middle\" y=\"309.5\">\n",
              "    <tspan class=\"displacy-word\" fill=\"currentColor\" x=\"225\">Villa</tspan>\n",
              "    <tspan class=\"displacy-tag\" dy=\"2em\" fill=\"currentColor\" x=\"225\">PROPN</tspan>\n",
              "</text>\n",
              "\n",
              "<text class=\"displacy-token\" fill=\"currentColor\" text-anchor=\"middle\" y=\"309.5\">\n",
              "    <tspan class=\"displacy-word\" fill=\"currentColor\" x=\"400\">Linda</tspan>\n",
              "    <tspan class=\"displacy-tag\" dy=\"2em\" fill=\"currentColor\" x=\"400\">PROPN</tspan>\n",
              "</text>\n",
              "\n",
              "<text class=\"displacy-token\" fill=\"currentColor\" text-anchor=\"middle\" y=\"309.5\">\n",
              "    <tspan class=\"displacy-word\" fill=\"currentColor\" x=\"575\">Ave</tspan>\n",
              "    <tspan class=\"displacy-tag\" dy=\"2em\" fill=\"currentColor\" x=\"575\">PROPN</tspan>\n",
              "</text>\n",
              "\n",
              "<g class=\"displacy-arrow\">\n",
              "    <path class=\"displacy-arc\" id=\"arrow-5facb912d72d4aa88485f0014caef8fd-0-0\" stroke-width=\"2px\" d=\"M70,264.5 C70,2.0 575.0,2.0 575.0,264.5\" fill=\"none\" stroke=\"currentColor\"/>\n",
              "    <text dy=\"1.25em\" style=\"font-size: 0.8em; letter-spacing: 1px\">\n",
              "        <textPath xlink:href=\"#arrow-5facb912d72d4aa88485f0014caef8fd-0-0\" class=\"displacy-label\" startOffset=\"50%\" side=\"left\" fill=\"currentColor\" text-anchor=\"middle\">nummod</textPath>\n",
              "    </text>\n",
              "    <path class=\"displacy-arrowhead\" d=\"M70,266.5 L62,254.5 78,254.5\" fill=\"currentColor\"/>\n",
              "</g>\n",
              "\n",
              "<g class=\"displacy-arrow\">\n",
              "    <path class=\"displacy-arc\" id=\"arrow-5facb912d72d4aa88485f0014caef8fd-0-1\" stroke-width=\"2px\" d=\"M245,264.5 C245,89.5 570.0,89.5 570.0,264.5\" fill=\"none\" stroke=\"currentColor\"/>\n",
              "    <text dy=\"1.25em\" style=\"font-size: 0.8em; letter-spacing: 1px\">\n",
              "        <textPath xlink:href=\"#arrow-5facb912d72d4aa88485f0014caef8fd-0-1\" class=\"displacy-label\" startOffset=\"50%\" side=\"left\" fill=\"currentColor\" text-anchor=\"middle\">compound</textPath>\n",
              "    </text>\n",
              "    <path class=\"displacy-arrowhead\" d=\"M245,266.5 L237,254.5 253,254.5\" fill=\"currentColor\"/>\n",
              "</g>\n",
              "\n",
              "<g class=\"displacy-arrow\">\n",
              "    <path class=\"displacy-arc\" id=\"arrow-5facb912d72d4aa88485f0014caef8fd-0-2\" stroke-width=\"2px\" d=\"M420,264.5 C420,177.0 565.0,177.0 565.0,264.5\" fill=\"none\" stroke=\"currentColor\"/>\n",
              "    <text dy=\"1.25em\" style=\"font-size: 0.8em; letter-spacing: 1px\">\n",
              "        <textPath xlink:href=\"#arrow-5facb912d72d4aa88485f0014caef8fd-0-2\" class=\"displacy-label\" startOffset=\"50%\" side=\"left\" fill=\"currentColor\" text-anchor=\"middle\">compound</textPath>\n",
              "    </text>\n",
              "    <path class=\"displacy-arrowhead\" d=\"M420,266.5 L412,254.5 428,254.5\" fill=\"currentColor\"/>\n",
              "</g>\n",
              "</svg></span>"
            ]
          },
          "metadata": {}
        }
      ],
      "source": [
        "import spacy\n",
        "from spacy import displacy\n",
        "nlp = spacy.load('en_core_web_md')\n",
        "\n",
        "doc = nlp('1823 Villa Linda Ave')\n",
        "\n",
        "displacy.render(doc, style='dep')"
      ]
    },
    {
      "cell_type": "code",
      "source": [],
      "metadata": {
        "id": "qRWW-Ilp9icq"
      },
      "execution_count": 5,
      "outputs": []
    },
    {
      "cell_type": "code",
      "execution_count": 7,
      "metadata": {
        "id": "n4z1qxTU5MgS",
        "colab": {
          "base_uri": "https://localhost:8080/",
          "height": 333
        },
        "outputId": "0f56e3ed-dbd6-4e39-93df-323fa80f3c40"
      },
      "outputs": [
        {
          "output_type": "display_data",
          "data": {
            "text/plain": [
              "<IPython.core.display.HTML object>"
            ],
            "text/html": [
              "<span class=\"tex2jax_ignore\"><svg xmlns=\"http://www.w3.org/2000/svg\" xmlns:xlink=\"http://www.w3.org/1999/xlink\" xml:lang=\"en\" id=\"61f972ce34454b6d9b15033f7f9e7825-0\" class=\"displacy\" width=\"1275\" height=\"312.0\" direction=\"ltr\" style=\"max-width: none; height: 312.0px; color: #000000; background: #ffffff; font-family: Arial; direction: ltr\">\n",
              "<text class=\"displacy-token\" fill=\"currentColor\" text-anchor=\"middle\" y=\"222.0\">\n",
              "    <tspan class=\"displacy-word\" fill=\"currentColor\" x=\"50\">Bill</tspan>\n",
              "    <tspan class=\"displacy-tag\" dy=\"2em\" fill=\"currentColor\" x=\"50\">PROPN</tspan>\n",
              "</text>\n",
              "\n",
              "<text class=\"displacy-token\" fill=\"currentColor\" text-anchor=\"middle\" y=\"222.0\">\n",
              "    <tspan class=\"displacy-word\" fill=\"currentColor\" x=\"225\">Gates</tspan>\n",
              "    <tspan class=\"displacy-tag\" dy=\"2em\" fill=\"currentColor\" x=\"225\">PROPN</tspan>\n",
              "</text>\n",
              "\n",
              "<text class=\"displacy-token\" fill=\"currentColor\" text-anchor=\"middle\" y=\"222.0\">\n",
              "    <tspan class=\"displacy-word\" fill=\"currentColor\" x=\"400\">is</tspan>\n",
              "    <tspan class=\"displacy-tag\" dy=\"2em\" fill=\"currentColor\" x=\"400\">AUX</tspan>\n",
              "</text>\n",
              "\n",
              "<text class=\"displacy-token\" fill=\"currentColor\" text-anchor=\"middle\" y=\"222.0\">\n",
              "    <tspan class=\"displacy-word\" fill=\"currentColor\" x=\"575\">the</tspan>\n",
              "    <tspan class=\"displacy-tag\" dy=\"2em\" fill=\"currentColor\" x=\"575\">DET</tspan>\n",
              "</text>\n",
              "\n",
              "<text class=\"displacy-token\" fill=\"currentColor\" text-anchor=\"middle\" y=\"222.0\">\n",
              "    <tspan class=\"displacy-word\" fill=\"currentColor\" x=\"750\">CEO</tspan>\n",
              "    <tspan class=\"displacy-tag\" dy=\"2em\" fill=\"currentColor\" x=\"750\">NOUN</tspan>\n",
              "</text>\n",
              "\n",
              "<text class=\"displacy-token\" fill=\"currentColor\" text-anchor=\"middle\" y=\"222.0\">\n",
              "    <tspan class=\"displacy-word\" fill=\"currentColor\" x=\"925\">of</tspan>\n",
              "    <tspan class=\"displacy-tag\" dy=\"2em\" fill=\"currentColor\" x=\"925\">ADP</tspan>\n",
              "</text>\n",
              "\n",
              "<text class=\"displacy-token\" fill=\"currentColor\" text-anchor=\"middle\" y=\"222.0\">\n",
              "    <tspan class=\"displacy-word\" fill=\"currentColor\" x=\"1100\">Microsft.</tspan>\n",
              "    <tspan class=\"displacy-tag\" dy=\"2em\" fill=\"currentColor\" x=\"1100\">PROPN</tspan>\n",
              "</text>\n",
              "\n",
              "<g class=\"displacy-arrow\">\n",
              "    <path class=\"displacy-arc\" id=\"arrow-61f972ce34454b6d9b15033f7f9e7825-0-0\" stroke-width=\"2px\" d=\"M70,177.0 C70,89.5 220.0,89.5 220.0,177.0\" fill=\"none\" stroke=\"currentColor\"/>\n",
              "    <text dy=\"1.25em\" style=\"font-size: 0.8em; letter-spacing: 1px\">\n",
              "        <textPath xlink:href=\"#arrow-61f972ce34454b6d9b15033f7f9e7825-0-0\" class=\"displacy-label\" startOffset=\"50%\" side=\"left\" fill=\"currentColor\" text-anchor=\"middle\">compound</textPath>\n",
              "    </text>\n",
              "    <path class=\"displacy-arrowhead\" d=\"M70,179.0 L62,167.0 78,167.0\" fill=\"currentColor\"/>\n",
              "</g>\n",
              "\n",
              "<g class=\"displacy-arrow\">\n",
              "    <path class=\"displacy-arc\" id=\"arrow-61f972ce34454b6d9b15033f7f9e7825-0-1\" stroke-width=\"2px\" d=\"M245,177.0 C245,89.5 395.0,89.5 395.0,177.0\" fill=\"none\" stroke=\"currentColor\"/>\n",
              "    <text dy=\"1.25em\" style=\"font-size: 0.8em; letter-spacing: 1px\">\n",
              "        <textPath xlink:href=\"#arrow-61f972ce34454b6d9b15033f7f9e7825-0-1\" class=\"displacy-label\" startOffset=\"50%\" side=\"left\" fill=\"currentColor\" text-anchor=\"middle\">nsubj</textPath>\n",
              "    </text>\n",
              "    <path class=\"displacy-arrowhead\" d=\"M245,179.0 L237,167.0 253,167.0\" fill=\"currentColor\"/>\n",
              "</g>\n",
              "\n",
              "<g class=\"displacy-arrow\">\n",
              "    <path class=\"displacy-arc\" id=\"arrow-61f972ce34454b6d9b15033f7f9e7825-0-2\" stroke-width=\"2px\" d=\"M595,177.0 C595,89.5 745.0,89.5 745.0,177.0\" fill=\"none\" stroke=\"currentColor\"/>\n",
              "    <text dy=\"1.25em\" style=\"font-size: 0.8em; letter-spacing: 1px\">\n",
              "        <textPath xlink:href=\"#arrow-61f972ce34454b6d9b15033f7f9e7825-0-2\" class=\"displacy-label\" startOffset=\"50%\" side=\"left\" fill=\"currentColor\" text-anchor=\"middle\">det</textPath>\n",
              "    </text>\n",
              "    <path class=\"displacy-arrowhead\" d=\"M595,179.0 L587,167.0 603,167.0\" fill=\"currentColor\"/>\n",
              "</g>\n",
              "\n",
              "<g class=\"displacy-arrow\">\n",
              "    <path class=\"displacy-arc\" id=\"arrow-61f972ce34454b6d9b15033f7f9e7825-0-3\" stroke-width=\"2px\" d=\"M420,177.0 C420,2.0 750.0,2.0 750.0,177.0\" fill=\"none\" stroke=\"currentColor\"/>\n",
              "    <text dy=\"1.25em\" style=\"font-size: 0.8em; letter-spacing: 1px\">\n",
              "        <textPath xlink:href=\"#arrow-61f972ce34454b6d9b15033f7f9e7825-0-3\" class=\"displacy-label\" startOffset=\"50%\" side=\"left\" fill=\"currentColor\" text-anchor=\"middle\">attr</textPath>\n",
              "    </text>\n",
              "    <path class=\"displacy-arrowhead\" d=\"M750.0,179.0 L758.0,167.0 742.0,167.0\" fill=\"currentColor\"/>\n",
              "</g>\n",
              "\n",
              "<g class=\"displacy-arrow\">\n",
              "    <path class=\"displacy-arc\" id=\"arrow-61f972ce34454b6d9b15033f7f9e7825-0-4\" stroke-width=\"2px\" d=\"M770,177.0 C770,89.5 920.0,89.5 920.0,177.0\" fill=\"none\" stroke=\"currentColor\"/>\n",
              "    <text dy=\"1.25em\" style=\"font-size: 0.8em; letter-spacing: 1px\">\n",
              "        <textPath xlink:href=\"#arrow-61f972ce34454b6d9b15033f7f9e7825-0-4\" class=\"displacy-label\" startOffset=\"50%\" side=\"left\" fill=\"currentColor\" text-anchor=\"middle\">prep</textPath>\n",
              "    </text>\n",
              "    <path class=\"displacy-arrowhead\" d=\"M920.0,179.0 L928.0,167.0 912.0,167.0\" fill=\"currentColor\"/>\n",
              "</g>\n",
              "\n",
              "<g class=\"displacy-arrow\">\n",
              "    <path class=\"displacy-arc\" id=\"arrow-61f972ce34454b6d9b15033f7f9e7825-0-5\" stroke-width=\"2px\" d=\"M945,177.0 C945,89.5 1095.0,89.5 1095.0,177.0\" fill=\"none\" stroke=\"currentColor\"/>\n",
              "    <text dy=\"1.25em\" style=\"font-size: 0.8em; letter-spacing: 1px\">\n",
              "        <textPath xlink:href=\"#arrow-61f972ce34454b6d9b15033f7f9e7825-0-5\" class=\"displacy-label\" startOffset=\"50%\" side=\"left\" fill=\"currentColor\" text-anchor=\"middle\">pobj</textPath>\n",
              "    </text>\n",
              "    <path class=\"displacy-arrowhead\" d=\"M1095.0,179.0 L1103.0,167.0 1087.0,167.0\" fill=\"currentColor\"/>\n",
              "</g>\n",
              "</svg></span>"
            ]
          },
          "metadata": {}
        }
      ],
      "source": [
        "import spacy\n",
        "from spacy import displacy\n",
        "\n",
        "nlp = spacy.load('en_core_web_md')\n",
        "\n",
        "doc = nlp('Bill Gates is the CEO of Microsft.')\n",
        "\n",
        "displacy.render(doc, style='dep')"
      ]
    },
    {
      "cell_type": "code",
      "source": [
        "import spacy\n",
        "nlp = spacy.load(\"en_core_web_md\")\n",
        "doc = nlp(\"1823 Villa Linda Ave, TX\")"
      ],
      "metadata": {
        "id": "-k32ODrZ94JF"
      },
      "execution_count": 11,
      "outputs": []
    },
    {
      "cell_type": "code",
      "source": [
        "doc = nlp(\"1823 Villa Linda Ave, TX\")"
      ],
      "metadata": {
        "id": "sTCJ1bN8Apsc"
      },
      "execution_count": 23,
      "outputs": []
    },
    {
      "cell_type": "code",
      "source": [
        "doc.ents"
      ],
      "metadata": {
        "colab": {
          "base_uri": "https://localhost:8080/"
        },
        "id": "YVd0cSpPAq4N",
        "outputId": "7dff4ebc-6037-4310-a5f3-168f2d78352b"
      },
      "execution_count": 24,
      "outputs": [
        {
          "output_type": "execute_result",
          "data": {
            "text/plain": [
              "(1823, Villa, Linda Ave, TX)"
            ]
          },
          "metadata": {},
          "execution_count": 24
        }
      ]
    },
    {
      "cell_type": "code",
      "source": [
        "doc[1].ent_iob"
      ],
      "metadata": {
        "colab": {
          "base_uri": "https://localhost:8080/"
        },
        "id": "j0sJUfYiBD_1",
        "outputId": "4e10c45c-befe-4575-d0ec-d473b519397e"
      },
      "execution_count": 25,
      "outputs": [
        {
          "output_type": "execute_result",
          "data": {
            "text/plain": [
              "3"
            ]
          },
          "metadata": {},
          "execution_count": 25
        }
      ]
    },
    {
      "cell_type": "code",
      "source": [
        "nlp.vocab"
      ],
      "metadata": {
        "colab": {
          "base_uri": "https://localhost:8080/"
        },
        "id": "pC_BQHR2BSXF",
        "outputId": "fc151e4b-08a0-48b0-bb9c-dbda3a989940"
      },
      "execution_count": 26,
      "outputs": [
        {
          "output_type": "execute_result",
          "data": {
            "text/plain": [
              "<spacy.vocab.Vocab at 0x7f57c2a38790>"
            ]
          },
          "metadata": {},
          "execution_count": 26
        }
      ]
    },
    {
      "cell_type": "code",
      "source": [
        "print([token.text for token in doc])"
      ],
      "metadata": {
        "colab": {
          "base_uri": "https://localhost:8080/"
        },
        "id": "UoMIG7e-B9ks",
        "outputId": "e908b0c3-273d-4d31-bf88-02c6f731fcb7"
      },
      "execution_count": 27,
      "outputs": [
        {
          "output_type": "stream",
          "name": "stdout",
          "text": [
            "['1823', 'Villa', 'Linda', 'Ave', ',', 'TX']\n"
          ]
        }
      ]
    },
    {
      "cell_type": "code",
      "source": [
        "\n",
        "doc1 = nlp(\"I own a ginger cat.\")\n",
        "print ([token.text for token in doc1])"
      ],
      "metadata": {
        "colab": {
          "base_uri": "https://localhost:8080/"
        },
        "id": "6trziBs3ClXl",
        "outputId": "4f7b20cb-13cb-4729-b96b-56019cfb6199"
      },
      "execution_count": 21,
      "outputs": [
        {
          "output_type": "stream",
          "name": "stdout",
          "text": [
            "['I', 'own', 'a', 'ginger', 'cat', '.']\n"
          ]
        }
      ]
    },
    {
      "cell_type": "code",
      "source": [
        "\n",
        "doc2 = nlp(\"It's been a crazy week!!!\")\n",
        "print ([token.text for token in doc2])"
      ],
      "metadata": {
        "colab": {
          "base_uri": "https://localhost:8080/"
        },
        "id": "wenya4ybCqpU",
        "outputId": "bf46346c-30ff-44c7-86f1-419fb82eff66"
      },
      "execution_count": 22,
      "outputs": [
        {
          "output_type": "stream",
          "name": "stdout",
          "text": [
            "['It', \"'s\", 'been', 'a', 'crazy', 'week', '!', '!', '!']\n"
          ]
        }
      ]
    },
    {
      "cell_type": "code",
      "source": [
        "# Customizing the Tokenizer and Sentence Segmentation"
      ],
      "metadata": {
        "id": "xD0LlL7mDF52"
      },
      "execution_count": 28,
      "outputs": []
    },
    {
      "cell_type": "code",
      "source": [
        "# adding the special case\n",
        "import spacy\n",
        "from spacy.symbols import ORTH\n",
        "nlp = spacy.load(\"en_core_web_md\")\n",
        "doc = nlp(\"lemme that\")\n",
        "print([w.text for w in doc])\n",
        "\n",
        "special_case = [{ORTH: \"lem\"}, {\"ORTH\": \"me\"}]\n",
        "nlp.tokenizer.add_special_case(\"lemme\", special_case)\n",
        "print([w.text for w in nlp(\"lemme that\")])"
      ],
      "metadata": {
        "colab": {
          "base_uri": "https://localhost:8080/"
        },
        "id": "k0qXf3CdD39v",
        "outputId": "60de5820-9259-43a9-d475-b4317fbd870e"
      },
      "execution_count": 29,
      "outputs": [
        {
          "output_type": "stream",
          "name": "stdout",
          "text": [
            "['lemme', 'that']\n",
            "['lem', 'me', 'that']\n"
          ]
        }
      ]
    },
    {
      "cell_type": "code",
      "source": [
        "# Load the spaCy model\n",
        "nlp = spacy.load(\"en_core_web_sm\")  # Make sure to load the correct model\n",
        "\n",
        "# Your input text\n",
        "text = \"1823 Villa Linda Ave, TX\"\n",
        "\n",
        "# Tokenize the text\n",
        "doc = nlp(text)\n",
        "\n",
        "# Custom post-processing to replace \"TX\" with \"Texas\"\n",
        "processed_tokens = [token.text if token.text != \"TX\" else \"Texas\" for token in doc]\n",
        "\n",
        "print(processed_tokens)"
      ],
      "metadata": {
        "colab": {
          "base_uri": "https://localhost:8080/"
        },
        "id": "7mqbsBzVGppM",
        "outputId": "00f7e1b5-a9e8-495a-ec4c-8d9d13a3d447"
      },
      "execution_count": 33,
      "outputs": [
        {
          "output_type": "stream",
          "name": "stdout",
          "text": [
            "['1823', 'Villa', 'Linda', 'Ave', ',', 'Texas']\n"
          ]
        }
      ]
    },
    {
      "cell_type": "code",
      "source": [
        "# debugging\n",
        "text = \"1823 Villa Linda Ave, TX Can you send me package here or five hundred University drive\"\n",
        "doc = nlp(text)\n",
        "tok_exp = nlp.tokenizer.explain(text)\n",
        "for t in tok_exp:\n",
        "  print(t[1], \"\\t\", t[0])"
      ],
      "metadata": {
        "colab": {
          "base_uri": "https://localhost:8080/"
        },
        "id": "jw4I1ZYfHa4i",
        "outputId": "5770e877-83c4-4e37-fbe8-8952142e92c6"
      },
      "execution_count": 39,
      "outputs": [
        {
          "output_type": "stream",
          "name": "stdout",
          "text": [
            "1823 \t TOKEN\n",
            "Villa \t TOKEN\n",
            "Linda \t TOKEN\n",
            "Ave \t TOKEN\n",
            ", \t SUFFIX\n",
            "TX \t TOKEN\n",
            "Can \t TOKEN\n",
            "you \t TOKEN\n",
            "send \t TOKEN\n",
            "me \t TOKEN\n",
            "package \t TOKEN\n",
            "here \t TOKEN\n",
            "or \t TOKEN\n",
            "five \t TOKEN\n",
            "hundred \t TOKEN\n",
            "University \t TOKEN\n",
            "drive \t TOKEN\n"
          ]
        }
      ]
    },
    {
      "cell_type": "code",
      "source": [
        "# sentence segmentation\n",
        "doc = nlp(text)\n",
        "\n",
        "for sent in doc.sents:\n",
        "    print(sent.text)"
      ],
      "metadata": {
        "colab": {
          "base_uri": "https://localhost:8080/"
        },
        "id": "NnYF33A_JQtN",
        "outputId": "258a7cf6-a192-4487-fa47-665cb4b8c2e6"
      },
      "execution_count": 40,
      "outputs": [
        {
          "output_type": "stream",
          "name": "stdout",
          "text": [
            "1823 Villa Linda Ave, TX Can you send me package here or five hundred University drive\n"
          ]
        }
      ]
    },
    {
      "cell_type": "code",
      "source": [
        "# Lemmatization\n",
        "\n",
        "doc = nlp(\"I went for working and worked for 3 years.\")\n",
        "for token in doc:\n",
        "    print(token.text, token.lemma_)"
      ],
      "metadata": {
        "colab": {
          "base_uri": "https://localhost:8080/"
        },
        "id": "7wdNvaCpJne4",
        "outputId": "49601dbb-7c23-4db4-d0c1-7ff470e59c4a"
      },
      "execution_count": 44,
      "outputs": [
        {
          "output_type": "stream",
          "name": "stdout",
          "text": [
            "I I\n",
            "went go\n",
            "for for\n",
            "working work\n",
            "and and\n",
            "worked work\n",
            "for for\n",
            "3 3\n",
            "years year\n",
            ". .\n"
          ]
        }
      ]
    },
    {
      "cell_type": "code",
      "source": [
        "text = \"1823 Villa Linda Ave, TX\"\n",
        "doc = nlp(text)\n",
        "for token in doc:\n",
        "    print(token.text, token.lemma_)"
      ],
      "metadata": {
        "colab": {
          "base_uri": "https://localhost:8080/"
        },
        "id": "X11GewdaKdM4",
        "outputId": "b0128492-8fdd-4583-9b9e-7a2c6733f4e4"
      },
      "execution_count": 43,
      "outputs": [
        {
          "output_type": "stream",
          "name": "stdout",
          "text": [
            "1823 1823\n",
            "Villa Villa\n",
            "Linda Linda\n",
            "Ave Ave\n",
            ", ,\n",
            "TX TX\n"
          ]
        }
      ]
    },
    {
      "cell_type": "code",
      "source": [
        "nlp.get_pipe(\"attribute_ruler\").add([[{\"TEXT\": \"Angeltown\"}]],\n",
        "{\"LEMMA\": \"Los Angeles\"})\n",
        "doc = nlp(\"I am flying to Angeltown\")\n",
        "for token in doc:\n",
        "  print(token.text, token.lemma_)"
      ],
      "metadata": {
        "colab": {
          "base_uri": "https://localhost:8080/"
        },
        "id": "UohyyA-aKppV",
        "outputId": "bfeb929f-2188-4de5-bbbc-4b3fad598474"
      },
      "execution_count": 45,
      "outputs": [
        {
          "output_type": "stream",
          "name": "stdout",
          "text": [
            "I I\n",
            "am be\n",
            "flying fly\n",
            "to to\n",
            "Angeltown Los Angeles\n"
          ]
        }
      ]
    },
    {
      "cell_type": "code",
      "source": [
        "# define mappings\n",
        "import spacy\n",
        "from spacy.matcher import PhraseMatcher\n",
        "from spacy.tokens import Span\n",
        "\n",
        "# Define your mappings here\n",
        "phrase_to_alias = {\n",
        "    \"Lone Star\": \"Texas\",\n",
        "    \"Sunshine\": \"California\",\n",
        "    \"Concrete Jungle\": \"New York\",\n",
        "    \"Sin City\": \"Los Angeles\",  # Add new phrases and their aliases as needed\n",
        "}\n",
        "\n",
        "nlp = spacy.load(\"en_core_web_sm\")\n",
        "matcher = PhraseMatcher(nlp.vocab)\n",
        "\n",
        "# Register a custom attribute; Span._.alias for example\n",
        "Span.set_extension(\"alias\", default=None, force=True)\n"
      ],
      "metadata": {
        "id": "RqtjxFOiLFoy"
      },
      "execution_count": 46,
      "outputs": []
    },
    {
      "cell_type": "code",
      "source": [
        "# add phraser to the matcher\n",
        "# Convert each phrase to a Doc object and add it to the matcher\n",
        "for phrase in phrase_to_alias.keys():\n",
        "    matcher.add(phrase, [nlp.make_doc(phrase)])\n"
      ],
      "metadata": {
        "id": "jdyw0GvhMgI7"
      },
      "execution_count": 47,
      "outputs": []
    },
    {
      "cell_type": "code",
      "source": [
        "#process text and apply custom logic\n",
        "# Process a sample text\n",
        "doc = nlp(\"I'm planning a trip to Sin City and the Concrete Jungle.\")\n",
        "\n",
        "# Find matches in the doc\n",
        "matches = matcher(doc)\n",
        "for match_id, start, end in matches:\n",
        "    span = doc[start:end]  # The matched span\n",
        "    # Use the match_id to get the string name of the matched phrase\n",
        "    phrase = nlp.vocab.strings[match_id]\n",
        "    # Set the custom attribute based on the mapping\n",
        "    span._.alias = phrase_to_alias[phrase]\n",
        "\n",
        "# Example output\n",
        "for span in doc.ents:\n",
        "    print(f\"Original: {span.text}, Alias: {span._.alias if span._.alias else 'No Alias'}\")\n"
      ],
      "metadata": {
        "colab": {
          "base_uri": "https://localhost:8080/"
        },
        "id": "RfM5CPCFMlSt",
        "outputId": "4a147a85-e58b-4cdc-c98e-b6adacbbf7e0"
      },
      "execution_count": 48,
      "outputs": [
        {
          "output_type": "stream",
          "name": "stdout",
          "text": [
            "Original: Sin City, Alias: Los Angeles\n"
          ]
        }
      ]
    },
    {
      "cell_type": "code",
      "source": [
        "nlp.get_pipe(\"attribute_ruler\").add([[{\"TEXT\": \"Angeltown\"}]],\n",
        "{\"LEMMA\": \"Los Angeles\"})\n",
        "doc = nlp(\"I am flying to Angeltown\")\n",
        "for token in doc:\n",
        "  print(token.text, token.lemma_)"
      ],
      "metadata": {
        "colab": {
          "base_uri": "https://localhost:8080/"
        },
        "id": "e_XEplLaMrnf",
        "outputId": "3b5fcfdc-d519-487d-d018-e7bbaeeaee3a"
      },
      "execution_count": 49,
      "outputs": [
        {
          "output_type": "stream",
          "name": "stdout",
          "text": [
            "I I\n",
            "am be\n",
            "flying fly\n",
            "to to\n",
            "Angeltown Los Angeles\n"
          ]
        }
      ]
    },
    {
      "cell_type": "code",
      "source": [
        "import spacy\n",
        "from spacy.matcher import PhraseMatcher\n",
        "from spacy.tokens import Span\n",
        "\n",
        "nlp = spacy.load(\"en_core_web_sm\")\n",
        "\n",
        "# Define custom extension to store the alias\n",
        "Span.set_extension(\"alias\", default=None, force=True)\n",
        "\n",
        "# Initialize PhraseMatcher\n",
        "matcher = PhraseMatcher(nlp.vocab)\n",
        "\n",
        "# Updated dictionary mapping phrases to their correct 'aliases'\n",
        "phrase_to_alias = {\n",
        "    \"Lone Star\": \"Texas\",\n",
        "    \"Sunshine State\": \"California\",\n",
        "    \"Concrete Jungle\": \"New York\",\n",
        "    \"Sin City\": \"Las Vegas\"  # Corrected to Las Vegas\n",
        "}\n",
        "\n",
        "# Function to add phrase patterns to the matcher\n",
        "def add_phrase_patterns(matcher, phrase_dict):\n",
        "    for phrase, alias in phrase_dict.items():\n",
        "        pattern = nlp.make_doc(phrase)  # Create a doc for each phrase to create a pattern\n",
        "        matcher.add(alias, [pattern])   # Add pattern to the matcher\n",
        "\n",
        "add_phrase_patterns(matcher, phrase_to_alias)\n",
        "\n",
        "# Processing function to apply aliases to matched phrases\n",
        "def process_doc(text):\n",
        "    doc = nlp(text)\n",
        "    matches = matcher(doc)\n",
        "    spans = []  # To store the spans with aliases\n",
        "    for match_id, start, end in matches:\n",
        "        span = Span(doc, start, end, label=match_id)\n",
        "        alias = nlp.vocab.strings[match_id]  # Get alias from match ID\n",
        "        span._.alias = alias\n",
        "        spans.append(span)\n",
        "    doc.spans[\"aliases\"] = spans  # Store matched spans in the doc\n",
        "    return doc\n",
        "\n",
        "# Example usage\n",
        "doc = process_doc(\"I am visiting the Concrete Jungle and Sin City soon.\")\n",
        "for span in doc.spans[\"aliases\"]:  # Access the matched spans with aliases\n",
        "    print(f\"Original: {span.text}, Alias: {span._.alias}\")\n"
      ],
      "metadata": {
        "colab": {
          "base_uri": "https://localhost:8080/"
        },
        "id": "CTwraI7zM6cs",
        "outputId": "1198e0f6-a963-48a5-8894-0b6853e4ade0"
      },
      "execution_count": 50,
      "outputs": [
        {
          "output_type": "stream",
          "name": "stdout",
          "text": [
            "Original: Concrete Jungle, Alias: New York\n",
            "Original: Sin City, Alias: Las Vegas\n"
          ]
        }
      ]
    },
    {
      "cell_type": "code",
      "source": [
        "# spacy Container Objects\n",
        "# Doc, Token, Span"
      ],
      "metadata": {
        "id": "uHuXATvHNRU6"
      },
      "execution_count": 51,
      "outputs": []
    },
    {
      "cell_type": "code",
      "source": [
        "  doc = nlp(\"I like cats.\")\n",
        "  print(len(doc))\n",
        "  print(doc.text)\n",
        "  for token in doc:\n",
        "    print(token.text)"
      ],
      "metadata": {
        "colab": {
          "base_uri": "https://localhost:8080/"
        },
        "id": "eLxuPboGReWv",
        "outputId": "7e60bc34-aa7f-4a09-b55f-208d507db34a"
      },
      "execution_count": 54,
      "outputs": [
        {
          "output_type": "stream",
          "name": "stdout",
          "text": [
            "4\n",
            "I like cats.\n",
            "I\n",
            "like\n",
            "cats\n",
            ".\n"
          ]
        }
      ]
    },
    {
      "cell_type": "code",
      "source": [
        "doc = nlp(\"This is a sentence. This is the second sentence.\")\n",
        "sentences = list(doc.sents) #The doc.sents method returns an iterator to the list of sentences. Each sentence is a Span object\n",
        "print(sentences)"
      ],
      "metadata": {
        "colab": {
          "base_uri": "https://localhost:8080/"
        },
        "id": "ylOB1uzCRrSO",
        "outputId": "fc5872d0-ffad-4448-8899-d933455a7617"
      },
      "execution_count": 56,
      "outputs": [
        {
          "output_type": "stream",
          "name": "stdout",
          "text": [
            "[This is a sentence., This is the second sentence.]\n"
          ]
        }
      ]
    },
    {
      "cell_type": "code",
      "source": [
        "doc = nlp(\"I flied to New York with Ashley\")\n",
        "print(doc.ents) # The doc.ents method gives named entities of the text. The result is a list of Span objects."
      ],
      "metadata": {
        "colab": {
          "base_uri": "https://localhost:8080/"
        },
        "id": "ra2_qwTER2Uk",
        "outputId": "0b7ba6b9-8e0d-4ea8-f36d-2354351d36a1"
      },
      "execution_count": 57,
      "outputs": [
        {
          "output_type": "stream",
          "name": "stdout",
          "text": [
            "(New York, Ashley)\n"
          ]
        }
      ]
    },
    {
      "cell_type": "code",
      "source": [
        "doc = nlp(\"Sweet brown fox jumped over the fence.\")\n",
        "print(list(doc.noun_chunks)) #doc.noun_chunks. It yields the noun phrases found in the text"
      ],
      "metadata": {
        "colab": {
          "base_uri": "https://localhost:8080/"
        },
        "id": "YDQgSAdGSAsa",
        "outputId": "dd76aa95-ce41-4872-b34c-83283982af80"
      },
      "execution_count": 58,
      "outputs": [
        {
          "output_type": "stream",
          "name": "stdout",
          "text": [
            "[Sweet brown fox, the fence]\n"
          ]
        }
      ]
    },
    {
      "cell_type": "code",
      "source": [
        "doc = nlp(\"Hi\")\n",
        "json_doc = doc.to_json() # serialize\n",
        "print(json_doc)"
      ],
      "metadata": {
        "colab": {
          "base_uri": "https://localhost:8080/"
        },
        "id": "JScI6CkmSMky",
        "outputId": "8ca8bfeb-7240-4297-f436-a053916a5393"
      },
      "execution_count": 59,
      "outputs": [
        {
          "output_type": "stream",
          "name": "stdout",
          "text": [
            "{'text': 'Hi', 'ents': [], 'sents': [{'start': 0, 'end': 2}], 'tokens': [{'id': 0, 'start': 0, 'end': 2, 'tag': 'UH', 'pos': 'INTJ', 'morph': '', 'lemma': 'hi', 'dep': 'ROOT', 'head': 0}]}\n"
          ]
        }
      ]
    },
    {
      "cell_type": "code",
      "source": [
        "# Token Object\n",
        "doc = nlp(\"Hello Madam!\")\n",
        "print(doc[0])\n",
        "print(doc[0].text)\n",
        "print(doc[0].text_with_ws)\n",
        "print(doc[2].text_with_ws)\n",
        "token = doc[2]\n",
        "print(token.i)"
      ],
      "metadata": {
        "colab": {
          "base_uri": "https://localhost:8080/"
        },
        "id": "RVhn0PFgSTGd",
        "outputId": "4b3db983-406d-4dec-a16a-70b83b9f0dc2"
      },
      "execution_count": 61,
      "outputs": [
        {
          "output_type": "stream",
          "name": "stdout",
          "text": [
            "Hello\n",
            "Hello\n",
            "Hello \n",
            "!\n",
            "2\n"
          ]
        }
      ]
    },
    {
      "cell_type": "code",
      "source": [
        "#token.idx provides the token's character offset (the character position) in doc:\n",
        "print(doc[0].idx)\n",
        "print(doc[1].idx)"
      ],
      "metadata": {
        "colab": {
          "base_uri": "https://localhost:8080/"
        },
        "id": "FIIPxDP9SoEn",
        "outputId": "7d12fa0c-5f2e-4104-e873-6606cec7eaa9"
      },
      "execution_count": 63,
      "outputs": [
        {
          "output_type": "stream",
          "name": "stdout",
          "text": [
            "0\n",
            "6\n"
          ]
        }
      ]
    },
    {
      "cell_type": "code",
      "source": [
        "# getting the sentence tokens belong to\n",
        "token = doc[1]\n",
        "print(token.sent)"
      ],
      "metadata": {
        "colab": {
          "base_uri": "https://localhost:8080/"
        },
        "id": "9lHUaacQSvdV",
        "outputId": "58717c1b-8a07-4223-a54c-9705cedcefec"
      },
      "execution_count": 64,
      "outputs": [
        {
          "output_type": "stream",
          "name": "stdout",
          "text": [
            "Hello Madam!\n"
          ]
        }
      ]
    },
    {
      "cell_type": "code",
      "source": [
        "# token.is_sent_start is another useful property; it returns a Boolean indicating whether the token starts a sentence\n",
        "doc = nlp(\"He entered the room. Then he nodded.\")\n",
        "print(doc[0].is_sent_start)\n",
        "print(doc[5].is_sent_start)\n",
        "print(doc[6].is_sent_start)"
      ],
      "metadata": {
        "colab": {
          "base_uri": "https://localhost:8080/"
        },
        "id": "ZtaihdWRS4v0",
        "outputId": "0b0dd125-917a-4203-fa7a-23903472d5c2"
      },
      "execution_count": 65,
      "outputs": [
        {
          "output_type": "stream",
          "name": "stdout",
          "text": [
            "True\n",
            "True\n",
            "False\n"
          ]
        }
      ]
    },
    {
      "cell_type": "code",
      "source": [
        "doc = nlp(\"I went there.\")\n",
        "print(doc[1].lemma_) # how to calculate the token lemma"
      ],
      "metadata": {
        "colab": {
          "base_uri": "https://localhost:8080/"
        },
        "id": "41uAbPLXTER2",
        "outputId": "08fab3f9-990a-4386-e60f-6d80b6fd3e3d"
      },
      "execution_count": 66,
      "outputs": [
        {
          "output_type": "stream",
          "name": "stdout",
          "text": [
            "go\n"
          ]
        }
      ]
    },
    {
      "cell_type": "code",
      "source": [
        "doc = nlp(\"President Trump visited Mexico City.\")\n",
        "print(doc.ents)\n",
        "#what sort of entity the token is, use token.ent_type_:\n",
        "print(doc[1].ent_type_)\n",
        "print(doc[3].ent_type_)\n",
        "print(doc[4].ent_type_)\n",
        "print(doc[0].ent_type_)"
      ],
      "metadata": {
        "colab": {
          "base_uri": "https://localhost:8080/"
        },
        "id": "EKYA_rDYTKW6",
        "outputId": "f0b03604-9f37-4c30-b35f-95374a3dcb05"
      },
      "execution_count": 68,
      "outputs": [
        {
          "output_type": "stream",
          "name": "stdout",
          "text": [
            "(Trump, Mexico City)\n",
            "PERSON\n",
            "GPE\n",
            "GPE\n",
            "\n"
          ]
        }
      ]
    },
    {
      "cell_type": "code",
      "source": [
        "#dir(token) or dir(doc). Calling dir() will print all the features and methods available on the object.\n",
        "\n",
        "dir(doc[0])"
      ],
      "metadata": {
        "colab": {
          "base_uri": "https://localhost:8080/"
        },
        "id": "2i3ysEJ_TTsZ",
        "outputId": "d9397256-18f5-4fcb-af51-8e75187d24af"
      },
      "execution_count": 70,
      "outputs": [
        {
          "output_type": "execute_result",
          "data": {
            "text/plain": [
              "['_',\n",
              " '__bytes__',\n",
              " '__class__',\n",
              " '__delattr__',\n",
              " '__dir__',\n",
              " '__doc__',\n",
              " '__eq__',\n",
              " '__format__',\n",
              " '__ge__',\n",
              " '__getattribute__',\n",
              " '__gt__',\n",
              " '__hash__',\n",
              " '__init__',\n",
              " '__init_subclass__',\n",
              " '__le__',\n",
              " '__len__',\n",
              " '__lt__',\n",
              " '__ne__',\n",
              " '__new__',\n",
              " '__pyx_vtable__',\n",
              " '__reduce__',\n",
              " '__reduce_ex__',\n",
              " '__repr__',\n",
              " '__setattr__',\n",
              " '__sizeof__',\n",
              " '__str__',\n",
              " '__subclasshook__',\n",
              " '__unicode__',\n",
              " 'ancestors',\n",
              " 'check_flag',\n",
              " 'children',\n",
              " 'cluster',\n",
              " 'conjuncts',\n",
              " 'dep',\n",
              " 'dep_',\n",
              " 'doc',\n",
              " 'ent_id',\n",
              " 'ent_id_',\n",
              " 'ent_iob',\n",
              " 'ent_iob_',\n",
              " 'ent_kb_id',\n",
              " 'ent_kb_id_',\n",
              " 'ent_type',\n",
              " 'ent_type_',\n",
              " 'get_extension',\n",
              " 'has_dep',\n",
              " 'has_extension',\n",
              " 'has_head',\n",
              " 'has_morph',\n",
              " 'has_vector',\n",
              " 'head',\n",
              " 'i',\n",
              " 'idx',\n",
              " 'iob_strings',\n",
              " 'is_alpha',\n",
              " 'is_ancestor',\n",
              " 'is_ascii',\n",
              " 'is_bracket',\n",
              " 'is_currency',\n",
              " 'is_digit',\n",
              " 'is_left_punct',\n",
              " 'is_lower',\n",
              " 'is_oov',\n",
              " 'is_punct',\n",
              " 'is_quote',\n",
              " 'is_right_punct',\n",
              " 'is_sent_end',\n",
              " 'is_sent_start',\n",
              " 'is_space',\n",
              " 'is_stop',\n",
              " 'is_title',\n",
              " 'is_upper',\n",
              " 'lang',\n",
              " 'lang_',\n",
              " 'left_edge',\n",
              " 'lefts',\n",
              " 'lemma',\n",
              " 'lemma_',\n",
              " 'lex',\n",
              " 'lex_id',\n",
              " 'like_email',\n",
              " 'like_num',\n",
              " 'like_url',\n",
              " 'lower',\n",
              " 'lower_',\n",
              " 'morph',\n",
              " 'n_lefts',\n",
              " 'n_rights',\n",
              " 'nbor',\n",
              " 'norm',\n",
              " 'norm_',\n",
              " 'orth',\n",
              " 'orth_',\n",
              " 'pos',\n",
              " 'pos_',\n",
              " 'prefix',\n",
              " 'prefix_',\n",
              " 'prob',\n",
              " 'rank',\n",
              " 'remove_extension',\n",
              " 'right_edge',\n",
              " 'rights',\n",
              " 'sent',\n",
              " 'sent_start',\n",
              " 'sentiment',\n",
              " 'set_extension',\n",
              " 'set_morph',\n",
              " 'shape',\n",
              " 'shape_',\n",
              " 'similarity',\n",
              " 'subtree',\n",
              " 'suffix',\n",
              " 'suffix_',\n",
              " 'tag',\n",
              " 'tag_',\n",
              " 'tensor',\n",
              " 'text',\n",
              " 'text_with_ws',\n",
              " 'vector',\n",
              " 'vector_norm',\n",
              " 'vocab',\n",
              " 'whitespace_']"
            ]
          },
          "metadata": {},
          "execution_count": 70
        }
      ]
    },
    {
      "cell_type": "code",
      "source": [
        "# Span object"
      ],
      "metadata": {
        "id": "WEARj9xjTklI"
      },
      "execution_count": 71,
      "outputs": []
    },
    {
      "cell_type": "code",
      "source": [
        "doc = nlp(\"I know that you have been to USA.\")\n",
        "print(doc[2:4])"
      ],
      "metadata": {
        "colab": {
          "base_uri": "https://localhost:8080/"
        },
        "id": "bxPXQ3kbTv1X",
        "outputId": "683d59d5-d956-4251-89a9-3b0ae6bc045d"
      },
      "execution_count": 72,
      "outputs": [
        {
          "output_type": "stream",
          "name": "stdout",
          "text": [
            "that you\n"
          ]
        }
      ]
    },
    {
      "cell_type": "code",
      "source": [
        "doc = nlp(\"You love Atlanta since you're 20.\")\n",
        "print(doc.char_span(4, 16))"
      ],
      "metadata": {
        "colab": {
          "base_uri": "https://localhost:8080/"
        },
        "id": "CeSN3JaSTznU",
        "outputId": "12faa90b-0c1d-435f-bc88-97a625c32816"
      },
      "execution_count": 73,
      "outputs": [
        {
          "output_type": "stream",
          "name": "stdout",
          "text": [
            "love Atlanta\n"
          ]
        }
      ]
    },
    {
      "cell_type": "code",
      "source": [
        "doc = nlp(\"You went there after you saw me.\")\n",
        "span = doc[2:4]\n",
        "for token in span:\n",
        "    print(token)"
      ],
      "metadata": {
        "colab": {
          "base_uri": "https://localhost:8080/"
        },
        "id": "L4URR-ymT2X0",
        "outputId": "717f0742-2727-4feb-fdfd-8e5e9000416e"
      },
      "execution_count": 74,
      "outputs": [
        {
          "output_type": "stream",
          "name": "stdout",
          "text": [
            "there\n",
            "after\n"
          ]
        }
      ]
    },
    {
      "cell_type": "code",
      "source": [
        "doc = nlp(\"You went there after you saw me.\")\n",
        "span = doc[2:6]\n",
        "print(span.doc)\n",
        "print(span.sent)"
      ],
      "metadata": {
        "colab": {
          "base_uri": "https://localhost:8080/"
        },
        "id": "QpX71Q4VT6J-",
        "outputId": "5f48b0ed-14a2-45eb-efea-be78c229d586"
      },
      "execution_count": 75,
      "outputs": [
        {
          "output_type": "stream",
          "name": "stdout",
          "text": [
            "You went there after you saw me.\n",
            "You went there after you saw me.\n"
          ]
        }
      ]
    },
    {
      "cell_type": "code",
      "source": [
        "doc = nlp(\"You went there after you saw me.\")\n",
        "span = doc[2:6] # span.start is the index of the first token of the Span\n",
        "# and span.start_char is the start offset of the Span at the character level.\n",
        "print(span.start)\n",
        "print(span.end)\n",
        "print(span.start_char)\n",
        "print(span.end_char)"
      ],
      "metadata": {
        "colab": {
          "base_uri": "https://localhost:8080/"
        },
        "id": "pBuUK2N8UBNz",
        "outputId": "a685be03-f48a-4c12-d941-cf23f51be34c"
      },
      "execution_count": 76,
      "outputs": [
        {
          "output_type": "stream",
          "name": "stdout",
          "text": [
            "2\n",
            "6\n",
            "9\n",
            "28\n"
          ]
        }
      ]
    },
    {
      "cell_type": "code",
      "source": [
        "doc = nlp(\"You went there after you saw me\")\n",
        "span = doc[2:6]\n",
        "print(type(span))\n",
        "small_doc = span.as_doc()\n",
        "print(type(small_doc))"
      ],
      "metadata": {
        "colab": {
          "base_uri": "https://localhost:8080/"
        },
        "id": "Aluvkj7pUEO8",
        "outputId": "a0c4189b-26ae-448b-c536-2cf3625faebf"
      },
      "execution_count": 77,
      "outputs": [
        {
          "output_type": "stream",
          "name": "stdout",
          "text": [
            "<class 'spacy.tokens.span.Span'>\n",
            "<class 'spacy.tokens.doc.Doc'>\n"
          ]
        }
      ]
    },
    {
      "cell_type": "code",
      "source": [
        "# more features of spaCy\n",
        "doc = nlp(\"HELLO, Hello, hello, hEllO\")\n",
        "print(doc[0].is_upper)\n",
        "print(doc[0].is_lower)\n",
        "print(doc[1].is_upper)\n",
        "print(doc[1].is_lower)"
      ],
      "metadata": {
        "colab": {
          "base_uri": "https://localhost:8080/"
        },
        "id": "EKz9g5QUUMEV",
        "outputId": "57a59f4d-b5c3-46fa-b48b-0f6601e499fb"
      },
      "execution_count": 79,
      "outputs": [
        {
          "output_type": "stream",
          "name": "stdout",
          "text": [
            "True\n",
            "False\n",
            "False\n",
            "False\n"
          ]
        }
      ]
    },
    {
      "cell_type": "code",
      "source": [
        "doc = nlp(\"( [ He said yes. ] )\")\n",
        "print(doc[0])\n",
        "print(doc[0].is_left_punct)\n",
        "\n",
        "print(doc[1])\n",
        "\n",
        "print(doc[1].is_left_punct)\n",
        "\n",
        "print(doc[-1])\n",
        "\n",
        "print(doc[-1].is_right_punct)\n",
        "print(doc[-2])\n",
        "print(doc[-2].is_right_punct)"
      ],
      "metadata": {
        "colab": {
          "base_uri": "https://localhost:8080/"
        },
        "id": "4QRrVobhUnCZ",
        "outputId": "31e28ec7-f922-4335-e1d9-507f4d2cfddb"
      },
      "execution_count": 80,
      "outputs": [
        {
          "output_type": "stream",
          "name": "stdout",
          "text": [
            "(\n",
            "True\n",
            "[\n",
            "True\n",
            ")\n",
            "True\n",
            "]\n",
            "True\n"
          ]
        }
      ]
    },
    {
      "cell_type": "code",
      "source": [
        "doc = nlp(\"( You said [1] and {2} is not applicable.)\")\n",
        "print(doc[0].is_bracket, doc[-1].is_bracket)\n",
        "\n",
        "print(doc[3].is_bracket, doc[5].is_bracket)\n",
        "\n",
        "print(doc[7].is_bracket, doc[9].is_bracket)"
      ],
      "metadata": {
        "colab": {
          "base_uri": "https://localhost:8080/"
        },
        "id": "_2bM_31UUw7u",
        "outputId": "e02ec452-4504-44f6-df5f-fc52146e0a77"
      },
      "execution_count": 81,
      "outputs": [
        {
          "output_type": "stream",
          "name": "stdout",
          "text": [
            "True True\n",
            "True True\n",
            "True True\n"
          ]
        }
      ]
    },
    {
      "cell_type": "code",
      "source": [
        "doc = nlp(\"( You said '1\\\" is not applicable.)\")\n",
        "print(doc[3])\n",
        "\n",
        "print(doc[3].is_quote)\n",
        "print(doc[5])\n",
        "print(doc[5].is_quote)"
      ],
      "metadata": {
        "colab": {
          "base_uri": "https://localhost:8080/"
        },
        "id": "Yk7A4iATU0ND",
        "outputId": "0b7ea875-daa5-4c22-8851-1ad1cc31e06c"
      },
      "execution_count": 82,
      "outputs": [
        {
          "output_type": "stream",
          "name": "stdout",
          "text": [
            "'\n",
            "True\n",
            "\"\n",
            "True\n"
          ]
        }
      ]
    },
    {
      "cell_type": "code",
      "source": [
        "doc = nlp(\"I emailed you at least hundred times\")\n",
        "print(doc[-2])\n",
        "print(doc[-2].like_num)\n",
        "\n",
        "doc = nlp(\"My email is duygu@packt.com and you can visit me under https://duygua.github.io any time you want.\")\n",
        "print(doc[3])\n",
        "print(doc[3].like_email)\n",
        "print(doc[10])\n",
        "print(doc[10].like_url)"
      ],
      "metadata": {
        "colab": {
          "base_uri": "https://localhost:8080/"
        },
        "id": "2lO5ZedMU2Tk",
        "outputId": "c85aafad-33d0-4d21-e496-39a908ad3f57"
      },
      "execution_count": 83,
      "outputs": [
        {
          "output_type": "stream",
          "name": "stdout",
          "text": [
            "hundred\n",
            "True\n",
            "duygu@packt.com\n",
            "True\n",
            "https://duygua.github.io\n",
            "True\n"
          ]
        }
      ]
    },
    {
      "cell_type": "code",
      "source": [
        "doc11 = nlp(\"Girl called Kathy has a nickname Cat123.\")\n",
        "for token in doc11:\n",
        "    print(token.text, token.shape_)"
      ],
      "metadata": {
        "colab": {
          "base_uri": "https://localhost:8080/"
        },
        "id": "gtBWuxPkU7VX",
        "outputId": "93af1500-9dfa-4264-a637-1870967483be"
      },
      "execution_count": 84,
      "outputs": [
        {
          "output_type": "stream",
          "name": "stdout",
          "text": [
            "Girl Xxxx\n",
            "called xxxx\n",
            "Kathy Xxxxx\n",
            "has xxx\n",
            "a x\n",
            "nickname xxxx\n",
            "Cat123 Xxxddd\n",
            ". .\n"
          ]
        }
      ]
    },
    {
      "cell_type": "code",
      "source": [
        "import spacy\n",
        "from spacy.matcher import Matcher\n",
        "\n",
        "nlp = spacy.load(\"en_core_web_sm\")\n",
        "matcher = Matcher(nlp.vocab)\n",
        "\n",
        "# Define a simple pattern for an address (e.g., \"123 Main St.\")\n",
        "# This is a basic example and might not cover all address formats.\n",
        "pattern = [{\"SHAPE\": \"ddd\"}, {\"IS_ALPHA\": True, \"LENGTH\": {\">=\": 2}}, {\"LOWER\": \"st.\", \"OP\": \"?\"}]\n",
        "matcher.add(\"ADDRESS\", [pattern])\n",
        "\n",
        "doc = nlp(\"She lives at 123 Main St. in New York.\")\n",
        "matches = matcher(doc)\n",
        "\n",
        "for match_id, start, end in matches:\n",
        "    span = doc[start:end]\n",
        "    print(\"Found address:\", span.text)\n"
      ],
      "metadata": {
        "colab": {
          "base_uri": "https://localhost:8080/"
        },
        "id": "oNuSs-T2VB3i",
        "outputId": "a855f3cd-d163-4db9-eb13-4c10417aa0c4"
      },
      "execution_count": 85,
      "outputs": [
        {
          "output_type": "stream",
          "name": "stdout",
          "text": [
            "Found address: 123 Main\n",
            "Found address: 123 Main St.\n"
          ]
        }
      ]
    },
    {
      "cell_type": "code",
      "source": [
        "import spacy\n",
        "from spacy.matcher import Matcher\n",
        "from spacy.tokens import Span\n",
        "\n",
        "# Load spaCy model\n",
        "nlp = spacy.load(\"en_core_web_sm\")\n",
        "\n",
        "# Initialize the Matcher\n",
        "matcher = Matcher(nlp.vocab)\n",
        "\n",
        "# Define patterns for street names and street numbers\n",
        "patterns = {\n",
        "    \"STREET_NAME\": [\n",
        "        [{\"TEXT\": {\"REGEX\": \"^(?i)(street|st|road|rd|avenue|ave|lane|ln|boulevard|blvd)$\"}}],\n",
        "        [{\"TEXT\": {\"REGEX\": \"^(?i)(street|st|road|rd|avenue|ave|lane|ln|boulevard|blvd)$\"}}, {\"IS_PUNCT\": True}],\n",
        "        [{\"LOWER\": {\"IN\": [\"main\", \"elm\", \"pine\"]}}, {\"TEXT\": {\"REGEX\": \"^(?i)(street|st|road|rd|avenue|ave|lane|ln|boulevard|blvd)$\"}}]\n",
        "    ],\n",
        "    \"STREET_NUMBER\": [\n",
        "        [{\"LIKE_NUM\": True}]\n",
        "    ]\n",
        "}\n",
        "\n",
        "# Function to add patterns to the matcher\n",
        "def add_patterns(matcher, patterns):\n",
        "    for label, pattern in patterns.items():\n",
        "        matcher.add(label, pattern)\n",
        "\n",
        "# Add initial patterns to the matcher\n",
        "add_patterns(matcher, patterns)\n",
        "\n",
        "# Process a text and print matched entities\n",
        "def process_text(text):\n",
        "    doc = nlp(text)\n",
        "    matches = matcher(doc)\n",
        "    for match_id, start, end in matches:\n",
        "        span = Span(doc, start, end, label=nlp.vocab.strings[match_id])\n",
        "        print(f\"{span.label_}: {span.text}\")\n",
        "\n",
        "text = \"I moved to 1234 Elm St last year. My office is located at 5678 Pine Street. There's a bakery on Main Road near the intersection with Avenue. At the corner of avenue look for WallMart\"\n",
        "\n",
        "process_text(text)\n"
      ],
      "metadata": {
        "colab": {
          "base_uri": "https://localhost:8080/"
        },
        "id": "-gSF1n87Vbcg",
        "outputId": "516710de-836b-47e8-d9ac-577d0c0410b7"
      },
      "execution_count": 92,
      "outputs": [
        {
          "output_type": "stream",
          "name": "stdout",
          "text": [
            "STREET_NUMBER: 1234\n",
            "STREET_NAME: Elm St\n",
            "STREET_NAME: St\n",
            "STREET_NUMBER: 5678\n",
            "STREET_NAME: Pine Street\n",
            "STREET_NAME: Street\n",
            "STREET_NAME: Street.\n",
            "STREET_NAME: Main Road\n",
            "STREET_NAME: Road\n",
            "STREET_NAME: Avenue\n",
            "STREET_NAME: Avenue.\n",
            "STREET_NAME: avenue\n"
          ]
        }
      ]
    },
    {
      "cell_type": "code",
      "source": [],
      "metadata": {
        "id": "qhETR4JbVz99"
      },
      "execution_count": 92,
      "outputs": []
    },
    {
      "cell_type": "code",
      "source": [],
      "metadata": {
        "id": "5b6ATTCeWjPQ"
      },
      "execution_count": 89,
      "outputs": []
    }
  ]
}