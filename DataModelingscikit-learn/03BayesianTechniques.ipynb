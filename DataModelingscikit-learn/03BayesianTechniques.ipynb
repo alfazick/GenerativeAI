{
 "cells": [
  {
   "cell_type": "markdown",
   "metadata": {},
   "source": [
    "In Bayesian statistics, the main idea is to make certain assumptions about the probability distributions of a model's parameters before being fitted on data. These initial distribution assumptions are called priors for the model's parameters.\n",
    "\n",
    "In a Bayesian ridge regression model, there are two hyperparameters to optimize: α and λ. The α hyperparameter serves the same exact purpose as it does for regular ridge regression; namely, it acts as a scaling factor for the penalty term.\n",
    "\n",
    "The λ hyperparameter acts as the precision of the model's weights. Basically, the smaller the λ value, the greater the variance between the individual weight values.\n"
   ]
  },
  {
   "cell_type": "code",
   "execution_count": 1,
   "metadata": {},
   "outputs": [],
   "source": [
    "# assumption for weights that they follow normal distributions\n",
    "# alpha and lambda assumes gamma distribution\n"
   ]
  },
  {
   "cell_type": "code",
   "execution_count": 2,
   "metadata": {},
   "outputs": [],
   "source": [
    "from sklearn import linear_model\n",
    "reg = linear_model.BayesianRidge()\n",
    "import numpy as np\n",
    "# Features: [number of customers, average temperature in Celsius]\n",
    "cafe_data = np.array([\n",
    "    [75, 22],   # 75 customers, 22°C\n",
    "    [92, 25],   # 92 customers, 25°C\n",
    "    [65, 20],   # 65 customers, 20°C\n",
    "    [120, 30],  # 120 customers, 30°C\n",
    "    [80, 22],   # 80 customers, 22°C\n",
    "    [98, 28]    # 98 customers, 28°C\n",
    "])\n",
    "\n",
    "# Target: Daily earnings in dollars\n",
    "daily_earnings = np.array([300, 350, 280, 400, 310, 360])\n"
   ]
  },
  {
   "cell_type": "code",
   "execution_count": 4,
   "metadata": {},
   "outputs": [
    {
     "name": "stdout",
     "output_type": "stream",
     "text": [
      "Coefficients: [1.95615832 1.58000306]\n",
      "Intercept: 121.82927328535226\n",
      "\n",
      "R2: 0.988201157561161\n",
      "\n",
      "Alpha: 0.03927530560357717\n",
      "\n",
      "Lambda: 0.22091939262965232\n",
      "\n"
     ]
    }
   ],
   "source": [
    "reg.fit(cafe_data, daily_earnings)\n",
    "\n",
    "print(\"Coefficients: {}\".format(reg.coef_))\n",
    "print('Intercept: {}\\n'.format(reg.intercept_))\n",
    "print('R2: {}\\n'.format(reg.score(cafe_data, daily_earnings)))\n",
    "print('Alpha: {}\\n'.format(reg.alpha_))\n",
    "print('Lambda: {}\\n'.format(reg.lambda_))"
   ]
  },
  {
   "cell_type": "code",
   "execution_count": 5,
   "metadata": {},
   "outputs": [
    {
     "name": "stdout",
     "output_type": "stream",
     "text": [
      "Coefficients: [ 0.8542899   0.12267475 -0.29407961  0.33884338 -0.00226554 -0.04083557\n",
      " -0.8956702  -0.86856698]\n",
      "Intercept: 2.071946937378619\n",
      "R² on training data: 0.6125510012819989\n",
      "R² on test data: 0.5758339917659985\n",
      "Chosen alpha: 1.9298152555250736\n"
     ]
    }
   ],
   "source": [
    "import numpy as np\n",
    "from sklearn.datasets import fetch_california_housing\n",
    "\n",
    "from sklearn.model_selection import train_test_split\n",
    "from sklearn.preprocessing import StandardScaler\n",
    "from sklearn.metrics import r2_score\n",
    "\n",
    "# Load California housing data\n",
    "housing = fetch_california_housing()\n",
    "X = housing.data   # features\n",
    "y = housing.target # target variable\n",
    "\n",
    "# Split the data into training and testing sets\n",
    "X_train, X_test, y_train, y_test = train_test_split(X, y, test_size=0.2, random_state=42)\n",
    "\n",
    "# Scale features\n",
    "scaler = StandardScaler()\n",
    "X_train_scaled = scaler.fit_transform(X_train)\n",
    "X_test_scaled = scaler.transform(X_test)\n",
    "\n",
    "# Initialize Lasso regression model with cross-validation\n",
    "reg = linear_model.BayesianRidge()\n",
    "\n",
    "# Fit the model to the scaled training data\n",
    "reg.fit(X_train_scaled, y_train)\n",
    "\n",
    "# Print the coefficients and intercept\n",
    "print('Coefficients:', reg.coef_)\n",
    "print('Intercept:', reg.intercept_)\n",
    "\n",
    "# Evaluate the model on the scaled training data using R²\n",
    "r2_train = reg.score(X_train_scaled, y_train)\n",
    "print('R² on training data:', r2_train)\n",
    "\n",
    "# Evaluate the model on the scaled test data using R²\n",
    "r2_test = reg.score(X_test_scaled, y_test)\n",
    "print('R² on test data:', r2_test)\n",
    "\n",
    "# Print the best alpha selected by cross-validation\n",
    "print('Chosen alpha:', reg.alpha_)"
   ]
  },
  {
   "cell_type": "code",
   "execution_count": null,
   "metadata": {},
   "outputs": [],
   "source": []
  }
 ],
 "metadata": {
  "kernelspec": {
   "display_name": "Python 3",
   "language": "python",
   "name": "python3"
  },
  "language_info": {
   "codemirror_mode": {
    "name": "ipython",
    "version": 3
   },
   "file_extension": ".py",
   "mimetype": "text/x-python",
   "name": "python",
   "nbconvert_exporter": "python",
   "pygments_lexer": "ipython3",
   "version": "3.10.13"
  }
 },
 "nbformat": 4,
 "nbformat_minor": 2
}
