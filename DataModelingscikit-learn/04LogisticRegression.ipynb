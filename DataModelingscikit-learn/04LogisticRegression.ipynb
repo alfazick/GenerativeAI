{
 "cells": [
  {
   "cell_type": "code",
   "execution_count": 1,
   "metadata": {},
   "outputs": [],
   "source": [
    "# when the task is to classify, we can use logistic regressions\n",
    "\n",
    "# by default 0 or 1 LogisticRegression object\n",
    "\n",
    "import numpy as np \n",
    "from sklearn import linear_model\n",
    "from sklearn.datasets import make_classification\n"
   ]
  },
  {
   "cell_type": "code",
   "execution_count": 2,
   "metadata": {},
   "outputs": [],
   "source": [
    "# generate synthetic data with 100 samples with 2 features\n",
    "\n",
    "data,labels = make_classification(n_samples=2,\n",
    "                                  n_features=2,\n",
    "                                  n_informative=2,\n",
    "                                  n_redundant=0,\n",
    "                                  random_state=42)"
   ]
  },
  {
   "cell_type": "code",
   "execution_count": 3,
   "metadata": {},
   "outputs": [
    {
     "name": "stdout",
     "output_type": "stream",
     "text": [
      "Data shape: (2, 2)\n",
      "Labels:\n",
      "array([0, 1])\n"
     ]
    }
   ],
   "source": [
    "# Check the shape of the data and the first few labels\n",
    "print('Data shape: {}'.format(data.shape))\n",
    "print('Labels:\\n{}'.format(repr(labels)))\n"
   ]
  },
  {
   "cell_type": "code",
   "execution_count": 4,
   "metadata": {},
   "outputs": [],
   "source": [
    "reg = linear_model.LogisticRegression()\n",
    "\n",
    "reg.fit(data,labels)\n",
    "\n",
    "# Let's assume you have new data to predict\n",
    "new_data = np.array([[0.5, -0.1],\n",
    "                     [-1.2, 2.0]])\n"
   ]
  },
  {
   "cell_type": "code",
   "execution_count": 5,
   "metadata": {},
   "outputs": [
    {
     "name": "stdout",
     "output_type": "stream",
     "text": [
      "Predictions: [0 1]\n"
     ]
    }
   ],
   "source": [
    "predictions = reg.predict(new_data)\n",
    "print(\"Predictions: {}\".format(predictions))"
   ]
  },
  {
   "cell_type": "code",
   "execution_count": 6,
   "metadata": {},
   "outputs": [],
   "source": [
    "# when there is a need to classify multilabels\n",
    "# it's not that straigtforward\n"
   ]
  },
  {
   "cell_type": "markdown",
   "metadata": {},
   "source": [
    "When using logistic regression in scikit-learn, you can choose different solvers based on the nature of your data and the specific requirements of your classification task. Each solver has its own strengths and is optimized for certain types of data and logistic regression configurations. Here’s an overview of the solvers available in scikit-learn for logistic regression, and when to use them:\n",
    "\n",
    "1. lbfgs\n",
    "Description: LBFGS stands for Limited-memory Broyden-Fletcher-Goldfarb-Shanno. It is an optimizer that approximates the Broyden-Fletcher-Goldfarb-Shanno (BFGS) algorithm, which is a second-order optimization method (using second derivative information). The \"limited-memory\" aspect refers to the fact that it uses only a limited amount of memory, which makes it suitable for problems with large numbers of parameters or data points.\n",
    "Use Case: Good default for small to medium datasets. It supports both L2 regularization and no regularization, and it can handle multinomial loss for multiclass problems.\n",
    "2. newton-cg\n",
    "Description: Newton's conjugate gradient method. Like LBFGS, this solver also leverages second-order derivative information but uses a different approach to approximate the inverse of the Hessian matrix.\n",
    "Use Case: Efficient for datasets with a large number of features because it converges faster for large datasets. Supports only L2 regularization.\n",
    "3. liblinear\n",
    "Description: A library for large linear classification. It uses a coordinate descent (CD) algorithm and can be very efficient for small to medium datasets.\n",
    "Use Case: Good for small datasets and supports both L1 and L2 regularization. However, it does not support multinomial logistic regression and is limited to one-vs-rest (OvR) classification.\n",
    "4. sag\n",
    "Description: Stochastic Average Gradient descent. It is a variation of gradient descent and is faster than other techniques when dealing with large datasets.\n",
    "Use Case: Ideal for large datasets and supports only L2 regularization. However, it requires that features be scaled (e.g., using StandardScaler).\n",
    "5. saga\n",
    "Description: Extension of the SAG solver that also supports the L1 regularization, making it useful for implementing elastic-net regularization.\n",
    "Use Case: Also designed for large datasets and is the only solver that supports elastic-net regularization, which is a combination of L1 and L2 regularization.\n",
    "Strategies for Multiclass Classification\n",
    "When dealing with multiclass classification, logistic regression can be configured to handle multiple classes in different ways:\n",
    "\n",
    "One-vs-Rest (OvR) or One-vs-All (OvA):\n",
    "Each class is separated from all other classes, creating as many binary classifiers as there are classes. Each classifier predicts whether an observation is in its class or not, making it suitable for binary logistic regression solvers.\n",
    "Multinomial (Softmax Regression):\n",
    "Directly models the probability distribution over multiple classes. It outputs the probabilities of each class as a single model. This method is generally more efficient in terms of computation and results, particularly when the classes are mutually exclusive.\n",
    "The choice of solver and strategy can significantly impact the performance and efficiency of logistic regression models, especially when dealing with different types and sizes of datasets."
   ]
  },
  {
   "cell_type": "code",
   "execution_count": 7,
   "metadata": {},
   "outputs": [],
   "source": [
    "# iris dataset\n",
    "from sklearn.datasets import load_iris \n",
    "from sklearn.model_selection import train_test_split\n",
    "from sklearn.linear_model import LogisticRegression\n",
    "from sklearn.metrics import confusion_matrix\n",
    "import matplotlib.pyplot as plt \n",
    "import seaborn as sns \n"
   ]
  },
  {
   "cell_type": "code",
   "execution_count": 10,
   "metadata": {},
   "outputs": [],
   "source": [
    "data,labels = load_iris(return_X_y=True)\n",
    "\n",
    "X_train, X_test, y_train, y_test = train_test_split(data,\n",
    "                                                    labels,\n",
    "                                                    test_size=0.4,\n",
    "                                                    random_state=12)"
   ]
  },
  {
   "cell_type": "code",
   "execution_count": 11,
   "metadata": {},
   "outputs": [
    {
     "data": {
      "image/png": "[encoded data removed]",
      "text/plain": [
       "<Figure size 800x600 with 2 Axes>"
      ]
     },
     "metadata": {},
     "output_type": "display_data"
    }
   ],
   "source": [
    "model = LogisticRegression(solver='lbfgs',\n",
    "                           multi_class='multinomial',\n",
    "                           max_iter=200)\n",
    "\n",
    "model.fit(X_train, y_train)\n",
    "\n",
    "y_pred = model.predict(X_test)\n",
    "iris = load_iris()\n",
    "\n",
    "# Generate confusion matrix\n",
    "cm = confusion_matrix(y_test, y_pred)\n",
    "\n",
    "# Plot the confusion matrix\n",
    "plt.figure(figsize=(8,6))\n",
    "sns.heatmap(cm,\n",
    "            annot=True,\n",
    "            fmt='d',\n",
    "            linewidths=0.5,\n",
    "            cmap='Blues',\n",
    "            xticklabels=iris.target_names,\n",
    "            yticklabels=iris.target_names)\n",
    "\n",
    "\n",
    "plt.xlabel('Predicted Labels')\n",
    "plt.ylabel('True Labels')\n",
    "plt.title('Confusion Matrix for Iris Dataset')\n",
    "plt.show()"
   ]
  },
  {
   "cell_type": "code",
   "execution_count": 12,
   "metadata": {},
   "outputs": [],
   "source": [
    "# Alternative cross validation\n"
   ]
  },
  {
   "cell_type": "code",
   "execution_count": 13,
   "metadata": {},
   "outputs": [
    {
     "name": "stdout",
     "output_type": "stream",
     "text": [
      "Accuracy of the logistic regression model with cross-validation: 100.00%\n",
      "Optimal C values by class: [2.7825594 2.7825594 2.7825594]\n"
     ]
    }
   ],
   "source": [
    "from sklearn.datasets import load_iris\n",
    "from sklearn.linear_model import LogisticRegressionCV\n",
    "from sklearn.model_selection import train_test_split\n",
    "from sklearn.metrics import accuracy_score\n",
    "\n",
    "# Load the Iris dataset\n",
    "data, labels = load_iris(return_X_y=True)\n",
    "\n",
    "# Split the data into training and testing sets\n",
    "X_train, X_test, y_train, y_test = train_test_split(data, labels, test_size=0.3, random_state=42)\n",
    "\n",
    "# Initialize the LogisticRegressionCV\n",
    "# cv=10 uses 10-fold cross-validation, 'multi_class' is set to 'multinomial' for a multiclass problem\n",
    "# 'solver' is set to 'lbfgs' which is recommended for small datasets and supports 'multinomial'\n",
    "model_cv = LogisticRegressionCV(cv=10, solver='lbfgs', multi_class='multinomial', max_iter=200)\n",
    "\n",
    "# Fit the model\n",
    "model_cv.fit(X_train, y_train)\n",
    "\n",
    "# Predict the labels for the test set\n",
    "y_pred = model_cv.predict(X_test)\n",
    "\n",
    "# Calculate the accuracy\n",
    "accuracy = accuracy_score(y_test, y_pred)\n",
    "print(\"Accuracy of the logistic regression model with cross-validation: {:.2f}%\".format(accuracy * 100))\n",
    "\n",
    "# Optionally, display the chosen values of C for each class\n",
    "print(\"Optimal C values by class:\", model_cv.C_)\n"
   ]
  },
  {
   "cell_type": "code",
   "execution_count": null,
   "metadata": {},
   "outputs": [],
   "source": []
  }
 ],
 "metadata": {
  "kernelspec": {
   "display_name": "Python 3",
   "language": "python",
   "name": "python3"
  },
  "language_info": {
   "codemirror_mode": {
    "name": "ipython",
    "version": 3
   },
   "file_extension": ".py",
   "mimetype": "text/x-python",
   "name": "python",
   "nbconvert_exporter": "python",
   "pygments_lexer": "ipython3",
   "version": "3.10.13"
  }
 },
 "nbformat": 4,
 "nbformat_minor": 2
}
