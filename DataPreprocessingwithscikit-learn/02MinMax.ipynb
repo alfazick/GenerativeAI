{
 "cells": [
  {
   "cell_type": "code",
   "execution_count": 2,
   "metadata": {},
   "outputs": [],
   "source": [
    "# you can compress or  scale data into specific range, common [0,1]\n",
    "\n",
    "# 2 step process \n",
    "\n",
    "#1 For each value x_prop =  (x - min(x)) / max(x) - min(x) Note: obviously min max cannot be equal\n",
    "#2 x_scale = x_prop * (rangeMax - rangeMin) + rangeMin\n",
    "\n",
    "# in sckit learn you have MinMaxScaler\n",
    "import numpy as np\n",
    "from sklearn.preprocessing import MinMaxScaler\n"
   ]
  },
  {
   "cell_type": "code",
   "execution_count": 3,
   "metadata": {},
   "outputs": [],
   "source": [
    "individual_data = np.array([\n",
    "    [170, 70, 30],\n",
    "    [180, 80, 35],\n",
    "    [160, 60, 25],\n",
    "    [175, 75, 32],\n",
    "    [165, 65, 28]\n",
    "])\n"
   ]
  },
  {
   "cell_type": "code",
   "execution_count": 5,
   "metadata": {},
   "outputs": [
    {
     "name": "stdout",
     "output_type": "stream",
     "text": [
      "[[0.5  0.5  0.5 ]\n",
      " [1.   1.   1.  ]\n",
      " [0.   0.   0.  ]\n",
      " [0.75 0.75 0.7 ]\n",
      " [0.25 0.25 0.3 ]]\n"
     ]
    }
   ],
   "source": [
    "default_scaler = MinMaxScaler() # default range is [0,1]\n",
    "transformed = default_scaler.fit_transform(individual_data)\n",
    "print(transformed)"
   ]
  },
  {
   "cell_type": "code",
   "execution_count": 6,
   "metadata": {},
   "outputs": [
    {
     "name": "stdout",
     "output_type": "stream",
     "text": [
      "[[ 5.   5.   5. ]\n",
      " [10.  10.  10. ]\n",
      " [ 0.   0.   0. ]\n",
      " [ 7.5  7.5  7. ]\n",
      " [ 2.5  2.5  3. ]]\n"
     ]
    }
   ],
   "source": [
    "custom_scaler = MinMaxScaler(feature_range=(0,10))\n",
    "transformed = custom_scaler.fit_transform(individual_data)\n",
    "print(transformed)"
   ]
  },
  {
   "cell_type": "code",
   "execution_count": 7,
   "metadata": {},
   "outputs": [],
   "source": [
    "# look at second row it's a highest and third row, it's lowest values"
   ]
  },
  {
   "cell_type": "code",
   "execution_count": null,
   "metadata": {},
   "outputs": [],
   "source": []
  }
 ],
 "metadata": {
  "kernelspec": {
   "display_name": "Python 3",
   "language": "python",
   "name": "python3"
  },
  "language_info": {
   "codemirror_mode": {
    "name": "ipython",
    "version": 3
   },
   "file_extension": ".py",
   "mimetype": "text/x-python",
   "name": "python",
   "nbconvert_exporter": "python",
   "pygments_lexer": "ipython3",
   "version": "3.10.13"
  }
 },
 "nbformat": 4,
 "nbformat_minor": 2
}
