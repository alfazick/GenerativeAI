{
 "cells": [
  {
   "cell_type": "code",
   "execution_count": 1,
   "metadata": {},
   "outputs": [],
   "source": [
    "\n",
    "# 1. Standard dat format : due to ubiquitness of ranges like 0-10, 1500-3000, 5000-100000\n",
    "\n",
    "# Numeric mesurements doesn't make much more sense, so the most common technique is to standardize data\n",
    "\n",
    "# Formula -> for each (x - mean(x))/standard deviation(x) = z value <- standardized data value\n",
    "\n"
   ]
  },
  {
   "cell_type": "markdown",
   "metadata": {},
   "source": []
  },
  {
   "cell_type": "code",
   "execution_count": 2,
   "metadata": {},
   "outputs": [],
   "source": [
    "# 2. For most scikit-learn functions, input needs to be in the form of NumPy array\n",
    "\n",
    "# each rows is an observation, each column represent a feature, classic 2d matrix\n"
   ]
  },
  {
   "cell_type": "code",
   "execution_count": 3,
   "metadata": {},
   "outputs": [],
   "source": [
    "import numpy as np\n",
    "from sklearn.preprocessing import scale\n",
    "\n",
    "# Define new dummy data\n",
    "individual_data = np.array([\n",
    "    [170, 70, 30],\n",
    "    [180, 80, 35],\n",
    "    [160, 60, 25],\n",
    "    [175, 75, 32],\n",
    "    [165, 65, 28]\n",
    "])"
   ]
  },
  {
   "cell_type": "code",
   "execution_count": 6,
   "metadata": {},
   "outputs": [
    {
     "name": "stdout",
     "output_type": "stream",
     "text": [
      "[[ 0.          0.          0.        ]\n",
      " [ 1.41421356  1.41421356  1.46805055]\n",
      " [-1.41421356 -1.41421356 -1.46805055]\n",
      " [ 0.70710678  0.70710678  0.58722022]\n",
      " [-0.70710678 -0.70710678 -0.58722022]]\n"
     ]
    }
   ],
   "source": [
    "col_standardized = scale(individual_data)\n",
    "print(col_standardized)"
   ]
  },
  {
   "cell_type": "code",
   "execution_count": 7,
   "metadata": {},
   "outputs": [
    {
     "name": "stdout",
     "output_type": "stream",
     "text": [
      "[0. 0. 0.]\n"
     ]
    }
   ],
   "source": [
    "col_means = col_standardized.mean(axis = 0).round(decimals = 3)\n",
    "print(col_means)"
   ]
  },
  {
   "cell_type": "code",
   "execution_count": 8,
   "metadata": {},
   "outputs": [
    {
     "name": "stdout",
     "output_type": "stream",
     "text": [
      "[1. 1. 1.]\n"
     ]
    }
   ],
   "source": [
    "col_stds = col_standardized.std(axis=0)\n",
    "print(col_stds)"
   ]
  },
  {
   "cell_type": "code",
   "execution_count": 9,
   "metadata": {},
   "outputs": [],
   "source": [
    "# so when you average is 0 and standard deviation is 1, you achieved data standartization based on z \n",
    "# this technique is called Z-score normalization\n"
   ]
  }
 ],
 "metadata": {
  "kernelspec": {
   "display_name": "Python 3",
   "language": "python",
   "name": "python3"
  },
  "language_info": {
   "codemirror_mode": {
    "name": "ipython",
    "version": 3
   },
   "file_extension": ".py",
   "mimetype": "text/x-python",
   "name": "python",
   "nbconvert_exporter": "python",
   "pygments_lexer": "ipython3",
   "version": "3.10.13"
  }
 },
 "nbformat": 4,
 "nbformat_minor": 2
}
