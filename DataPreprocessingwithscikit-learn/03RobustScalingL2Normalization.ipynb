{
 "cells": [
  {
   "cell_type": "code",
   "execution_count": 5,
   "metadata": {},
   "outputs": [],
   "source": [
    "# with Z-scoring and MinMax, you have a problem, where outliers can dramatically affect your normalization\n",
    "\n",
    "# so another approach is to subtract median\n",
    "\n",
    "import numpy as np\n",
    "from sklearn.preprocessing import RobustScaler # fit_transform, fit, transform"
   ]
  },
  {
   "cell_type": "code",
   "execution_count": 6,
   "metadata": {},
   "outputs": [],
   "source": [
    "data = np.array([\n",
    "    [170, 70, 30],\n",
    "    [180, 80, 35],\n",
    "    [160, 60, 25],\n",
    "    [175, 75, 32],\n",
    "    [165, 65, 28]\n",
    "])"
   ]
  },
  {
   "cell_type": "code",
   "execution_count": 7,
   "metadata": {},
   "outputs": [
    {
     "name": "stdout",
     "output_type": "stream",
     "text": [
      "[[ 0.    0.    0.  ]\n",
      " [ 1.    1.    1.25]\n",
      " [-1.   -1.   -1.25]\n",
      " [ 0.5   0.5   0.5 ]\n",
      " [-0.5  -0.5  -0.5 ]]\n"
     ]
    }
   ],
   "source": [
    "robust_scaler = RobustScaler()\n",
    "transformed = robust_scaler.fit_transform(data)\n",
    "print(transformed)"
   ]
  },
  {
   "cell_type": "code",
   "execution_count": 8,
   "metadata": {},
   "outputs": [
    {
     "name": "stdout",
     "output_type": "stream",
     "text": [
      "[[0.91260782 0.37577969 0.16104844]\n",
      " [0.89971888 0.39987506 0.17494534]\n",
      " [0.92646658 0.34742497 0.1447604 ]\n",
      " [0.90643162 0.3884707  0.1657475 ]\n",
      " [0.91902398 0.36203975 0.15595558]]\n"
     ]
    }
   ],
   "source": [
    "# L2 Normalization\n",
    "\n",
    "# sometimes we need to apply normalization by row\n",
    "# L2Norm = sqrt(sum(x*x)) for x in row\n",
    "# for value in row:\n",
    "    # value/L2Norm\n",
    "\n",
    "\n",
    "# Normalizer does that job, applyied by row !\n",
    "\n",
    "from sklearn.preprocessing import Normalizer\n",
    "normalizer = Normalizer()\n",
    "transformed = normalizer.fit_transform(data)\n",
    "\n",
    "print(transformed)\n"
   ]
  },
  {
   "cell_type": "code",
   "execution_count": null,
   "metadata": {},
   "outputs": [],
   "source": []
  }
 ],
 "metadata": {
  "kernelspec": {
   "display_name": "Python 3",
   "language": "python",
   "name": "python3"
  },
  "language_info": {
   "codemirror_mode": {
    "name": "ipython",
    "version": 3
   },
   "file_extension": ".py",
   "mimetype": "text/x-python",
   "name": "python",
   "nbconvert_exporter": "python",
   "pygments_lexer": "ipython3",
   "version": "3.10.13"
  }
 },
 "nbformat": 4,
 "nbformat_minor": 2
}
