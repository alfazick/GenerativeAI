{
 "cells": [
  {
   "cell_type": "code",
   "execution_count": 1,
   "metadata": {},
   "outputs": [
    {
     "name": "stdout",
     "output_type": "stream",
     "text": [
      "[[ 1.  2. nan  2.]\n",
      " [ 5. nan  1.  2.]\n",
      " [ 4. nan  3. nan]\n",
      " [ 5.  6.  8.  1.]\n",
      " [nan  7. nan  0.]]\n"
     ]
    }
   ],
   "source": [
    "# 1. When data have a few missing fields.\n",
    "# Common strategy is to fill it with some other values\n",
    "# which may be make sense, common values are:\n",
    "\n",
    "# Mean, Median, Most Frequent, Constant\n",
    "import numpy as np\n",
    "\n",
    "# Create the array with NaN values\n",
    "array = np.array([\n",
    "    [1., 2., np.nan, 2.],\n",
    "    [5., np.nan, 1., 2.],\n",
    "    [4., np.nan, 3., np.nan],\n",
    "    [5., 6., 8., 1.],\n",
    "    [np.nan, 7., np.nan, 0.]\n",
    "])\n",
    "\n",
    "print(array)"
   ]
  },
  {
   "cell_type": "code",
   "execution_count": 2,
   "metadata": {},
   "outputs": [
    {
     "name": "stdout",
     "output_type": "stream",
     "text": [
      "[[1.   2.   4.   2.  ]\n",
      " [5.   5.   1.   2.  ]\n",
      " [4.   5.   3.   1.25]\n",
      " [5.   6.   8.   1.  ]\n",
      " [3.75 7.   4.   0.  ]]\n"
     ]
    }
   ],
   "source": [
    "# by default column means\n",
    "\n",
    "from sklearn.impute import SimpleImputer \n",
    "imp_mean = SimpleImputer()\n",
    "transformed = imp_mean.fit_transform(array)\n",
    "print(transformed)"
   ]
  },
  {
   "cell_type": "code",
   "execution_count": 3,
   "metadata": {},
   "outputs": [
    {
     "name": "stdout",
     "output_type": "stream",
     "text": [
      "[[1.  2.  3.  2. ]\n",
      " [5.  6.  1.  2. ]\n",
      " [4.  6.  3.  1.5]\n",
      " [5.  6.  8.  1. ]\n",
      " [4.5 7.  3.  0. ]]\n"
     ]
    }
   ],
   "source": [
    "# you may also specify a specific strategy for filling values\n",
    "\n",
    "imp_median = SimpleImputer(strategy=\"median\")\n",
    "transformed = imp_median.fit_transform(array)\n",
    "\n",
    "print(transformed)"
   ]
  },
  {
   "cell_type": "code",
   "execution_count": 4,
   "metadata": {},
   "outputs": [
    {
     "name": "stdout",
     "output_type": "stream",
     "text": [
      "[[1. 2. 1. 2.]\n",
      " [5. 2. 1. 2.]\n",
      " [4. 2. 3. 2.]\n",
      " [5. 6. 8. 1.]\n",
      " [5. 7. 1. 0.]]\n"
     ]
    }
   ],
   "source": [
    "imp_frequent = SimpleImputer(strategy=\"most_frequent\")\n",
    "transformed = imp_frequent.fit_transform(array)\n",
    "print(transformed)"
   ]
  },
  {
   "cell_type": "code",
   "execution_count": 5,
   "metadata": {},
   "outputs": [
    {
     "name": "stdout",
     "output_type": "stream",
     "text": [
      "[[ 1.  2. -1.  2.]\n",
      " [ 5. -1.  1.  2.]\n",
      " [ 4. -1.  3. -1.]\n",
      " [ 5.  6.  8.  1.]\n",
      " [-1.  7. -1.  0.]]\n"
     ]
    }
   ],
   "source": [
    "imp_constant = SimpleImputer(strategy='constant',fill_value=-1)\n",
    "transformed = imp_constant.fit_transform(array)\n",
    "print(transformed)"
   ]
  },
  {
   "cell_type": "code",
   "execution_count": null,
   "metadata": {},
   "outputs": [],
   "source": []
  }
 ],
 "metadata": {
  "kernelspec": {
   "display_name": "Python 3",
   "language": "python",
   "name": "python3"
  },
  "language_info": {
   "codemirror_mode": {
    "name": "ipython",
    "version": 3
   },
   "file_extension": ".py",
   "mimetype": "text/x-python",
   "name": "python",
   "nbconvert_exporter": "python",
   "pygments_lexer": "ipython3",
   "version": "3.10.13"
  }
 },
 "nbformat": 4,
 "nbformat_minor": 2
}
